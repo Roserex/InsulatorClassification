{
  "cells": [
    {
      "cell_type": "code",
      "execution_count": null,
      "metadata": {
        "colab": {
          "base_uri": "https://localhost:8080/"
        },
        "id": "dMHzveqh3_10",
        "outputId": "7b9dab2a-3cab-417d-b683-9d4961aa761a"
      },
      "outputs": [
        {
          "output_type": "stream",
          "name": "stdout",
          "text": [
            "TF version: 2.15.0\n",
            "TFP version: 0.23.0\n"
          ]
        }
      ],
      "source": [
        "import tensorflow as tf\n",
        "import tensorflow_probability as tfp\n",
        "\n",
        "print('TF version:', tf.__version__)\n",
        "print('TFP version:', tfp.__version__)"
      ]
    },
    {
      "cell_type": "code",
      "execution_count": null,
      "metadata": {
        "colab": {
          "background_save": true,
          "base_uri": "https://localhost:8080/",
          "height": 38
        },
        "id": "SCT2IWV4AhjM",
        "outputId": "7e0cfeb7-f717-4b67-fb26-b4efd3bd1994"
      },
      "outputs": [
        {
          "data": {
            "text/html": [
              "\n",
              "     <input type=\"file\" id=\"files-7d1582aa-a981-4cd2-ac28-c51912b9cfff\" name=\"files[]\" multiple disabled\n",
              "        style=\"border:none\" />\n",
              "     <output id=\"result-7d1582aa-a981-4cd2-ac28-c51912b9cfff\">\n",
              "      Upload widget is only available when the cell has been executed in the\n",
              "      current browser session. Please rerun this cell to enable.\n",
              "      </output>\n",
              "      <script>// Copyright 2017 Google LLC\n",
              "//\n",
              "// Licensed under the Apache License, Version 2.0 (the \"License\");\n",
              "// you may not use this file except in compliance with the License.\n",
              "// You may obtain a copy of the License at\n",
              "//\n",
              "//      http://www.apache.org/licenses/LICENSE-2.0\n",
              "//\n",
              "// Unless required by applicable law or agreed to in writing, software\n",
              "// distributed under the License is distributed on an \"AS IS\" BASIS,\n",
              "// WITHOUT WARRANTIES OR CONDITIONS OF ANY KIND, either express or implied.\n",
              "// See the License for the specific language governing permissions and\n",
              "// limitations under the License.\n",
              "\n",
              "/**\n",
              " * @fileoverview Helpers for google.colab Python module.\n",
              " */\n",
              "(function(scope) {\n",
              "function span(text, styleAttributes = {}) {\n",
              "  const element = document.createElement('span');\n",
              "  element.textContent = text;\n",
              "  for (const key of Object.keys(styleAttributes)) {\n",
              "    element.style[key] = styleAttributes[key];\n",
              "  }\n",
              "  return element;\n",
              "}\n",
              "\n",
              "// Max number of bytes which will be uploaded at a time.\n",
              "const MAX_PAYLOAD_SIZE = 100 * 1024;\n",
              "\n",
              "function _uploadFiles(inputId, outputId) {\n",
              "  const steps = uploadFilesStep(inputId, outputId);\n",
              "  const outputElement = document.getElementById(outputId);\n",
              "  // Cache steps on the outputElement to make it available for the next call\n",
              "  // to uploadFilesContinue from Python.\n",
              "  outputElement.steps = steps;\n",
              "\n",
              "  return _uploadFilesContinue(outputId);\n",
              "}\n",
              "\n",
              "// This is roughly an async generator (not supported in the browser yet),\n",
              "// where there are multiple asynchronous steps and the Python side is going\n",
              "// to poll for completion of each step.\n",
              "// This uses a Promise to block the python side on completion of each step,\n",
              "// then passes the result of the previous step as the input to the next step.\n",
              "function _uploadFilesContinue(outputId) {\n",
              "  const outputElement = document.getElementById(outputId);\n",
              "  const steps = outputElement.steps;\n",
              "\n",
              "  const next = steps.next(outputElement.lastPromiseValue);\n",
              "  return Promise.resolve(next.value.promise).then((value) => {\n",
              "    // Cache the last promise value to make it available to the next\n",
              "    // step of the generator.\n",
              "    outputElement.lastPromiseValue = value;\n",
              "    return next.value.response;\n",
              "  });\n",
              "}\n",
              "\n",
              "/**\n",
              " * Generator function which is called between each async step of the upload\n",
              " * process.\n",
              " * @param {string} inputId Element ID of the input file picker element.\n",
              " * @param {string} outputId Element ID of the output display.\n",
              " * @return {!Iterable<!Object>} Iterable of next steps.\n",
              " */\n",
              "function* uploadFilesStep(inputId, outputId) {\n",
              "  const inputElement = document.getElementById(inputId);\n",
              "  inputElement.disabled = false;\n",
              "\n",
              "  const outputElement = document.getElementById(outputId);\n",
              "  outputElement.innerHTML = '';\n",
              "\n",
              "  const pickedPromise = new Promise((resolve) => {\n",
              "    inputElement.addEventListener('change', (e) => {\n",
              "      resolve(e.target.files);\n",
              "    });\n",
              "  });\n",
              "\n",
              "  const cancel = document.createElement('button');\n",
              "  inputElement.parentElement.appendChild(cancel);\n",
              "  cancel.textContent = 'Cancel upload';\n",
              "  const cancelPromise = new Promise((resolve) => {\n",
              "    cancel.onclick = () => {\n",
              "      resolve(null);\n",
              "    };\n",
              "  });\n",
              "\n",
              "  // Wait for the user to pick the files.\n",
              "  const files = yield {\n",
              "    promise: Promise.race([pickedPromise, cancelPromise]),\n",
              "    response: {\n",
              "      action: 'starting',\n",
              "    }\n",
              "  };\n",
              "\n",
              "  cancel.remove();\n",
              "\n",
              "  // Disable the input element since further picks are not allowed.\n",
              "  inputElement.disabled = true;\n",
              "\n",
              "  if (!files) {\n",
              "    return {\n",
              "      response: {\n",
              "        action: 'complete',\n",
              "      }\n",
              "    };\n",
              "  }\n",
              "\n",
              "  for (const file of files) {\n",
              "    const li = document.createElement('li');\n",
              "    li.append(span(file.name, {fontWeight: 'bold'}));\n",
              "    li.append(span(\n",
              "        `(${file.type || 'n/a'}) - ${file.size} bytes, ` +\n",
              "        `last modified: ${\n",
              "            file.lastModifiedDate ? file.lastModifiedDate.toLocaleDateString() :\n",
              "                                    'n/a'} - `));\n",
              "    const percent = span('0% done');\n",
              "    li.appendChild(percent);\n",
              "\n",
              "    outputElement.appendChild(li);\n",
              "\n",
              "    const fileDataPromise = new Promise((resolve) => {\n",
              "      const reader = new FileReader();\n",
              "      reader.onload = (e) => {\n",
              "        resolve(e.target.result);\n",
              "      };\n",
              "      reader.readAsArrayBuffer(file);\n",
              "    });\n",
              "    // Wait for the data to be ready.\n",
              "    let fileData = yield {\n",
              "      promise: fileDataPromise,\n",
              "      response: {\n",
              "        action: 'continue',\n",
              "      }\n",
              "    };\n",
              "\n",
              "    // Use a chunked sending to avoid message size limits. See b/62115660.\n",
              "    let position = 0;\n",
              "    do {\n",
              "      const length = Math.min(fileData.byteLength - position, MAX_PAYLOAD_SIZE);\n",
              "      const chunk = new Uint8Array(fileData, position, length);\n",
              "      position += length;\n",
              "\n",
              "      const base64 = btoa(String.fromCharCode.apply(null, chunk));\n",
              "      yield {\n",
              "        response: {\n",
              "          action: 'append',\n",
              "          file: file.name,\n",
              "          data: base64,\n",
              "        },\n",
              "      };\n",
              "\n",
              "      let percentDone = fileData.byteLength === 0 ?\n",
              "          100 :\n",
              "          Math.round((position / fileData.byteLength) * 100);\n",
              "      percent.textContent = `${percentDone}% done`;\n",
              "\n",
              "    } while (position < fileData.byteLength);\n",
              "  }\n",
              "\n",
              "  // All done.\n",
              "  yield {\n",
              "    response: {\n",
              "      action: 'complete',\n",
              "    }\n",
              "  };\n",
              "}\n",
              "\n",
              "scope.google = scope.google || {};\n",
              "scope.google.colab = scope.google.colab || {};\n",
              "scope.google.colab._files = {\n",
              "  _uploadFiles,\n",
              "  _uploadFilesContinue,\n",
              "};\n",
              "})(self);\n",
              "</script> "
            ],
            "text/plain": [
              "<IPython.core.display.HTML object>"
            ]
          },
          "metadata": {},
          "output_type": "display_data"
        }
      ],
      "source": [
        "from google.colab import files\n",
        "insulatordata=files.upload()"
      ]
    },
    {
      "cell_type": "code",
      "execution_count": null,
      "metadata": {
        "id": "V3smJRTwHfQv"
      },
      "outputs": [],
      "source": [
        "from google.colab import drive\n",
        "drive.mount('/content/gdrive')"
      ]
    },
    {
      "cell_type": "code",
      "execution_count": null,
      "metadata": {
        "id": "0fStdzxqHkHg"
      },
      "outputs": [],
      "source": [
        "root_path = 'gdrive/MyDrive/Insulatordetection'"
      ]
    },
    {
      "cell_type": "code",
      "execution_count": null,
      "metadata": {
        "colab": {
          "base_uri": "https://localhost:8080/"
        },
        "id": "iQHof1ObFlBH",
        "outputId": "b3509b31-8e78-4fd0-d25a-32128f80497f"
      },
      "outputs": [
        {
          "output_type": "stream",
          "name": "stdout",
          "text": [
            "gdrive/MyDrive/Insulatordetection\n"
          ]
        }
      ],
      "source": [
        "from __future__ import absolute_import, division, print_function, unicode_literals\n",
        "import tensorflow as tf\n",
        "from tensorflow.keras.models import Sequential\n",
        "from tensorflow.keras.layers import Dense, Conv2D, Flatten, Dropout, MaxPooling2D\n",
        "from tensorflow.keras.preprocessing.image import ImageDataGenerator\n",
        "from tensorflow.keras.optimizers import SGD,RMSprop,Adam\n",
        "from tensorflow.keras import utils as np_utils\n",
        "\n",
        "import os\n",
        "import numpy as np\n",
        "import matplotlib.pyplot as plt\n",
        "from sklearn.metrics import accuracy_score,confusion_matrix\n",
        "\n",
        "PATH = os.path.join(os.path.dirname(root_path), \"Insulatordetection\")\n",
        "print(PATH)"
      ]
    },
    {
      "cell_type": "code",
      "execution_count": null,
      "metadata": {
        "id": "2DUhStcTKlTB"
      },
      "outputs": [],
      "source": [
        "train_def = os.path.join(PATH, 'Train/Defective')\n",
        "train_nor = os.path.join(PATH, 'Train/Normal')\n",
        "test_def = os.path.join(PATH, 'Test/Defective')\n",
        "test_nor = os.path.join(PATH, 'Test/Normal')"
      ]
    },
    {
      "cell_type": "code",
      "execution_count": null,
      "metadata": {
        "id": "95bUuWQPfmGW"
      },
      "outputs": [],
      "source": [
        "train_dir = os.path.join(PATH , 'Train')\n",
        "test_dir = os.path.join(PATH , 'Test')"
      ]
    },
    {
      "cell_type": "code",
      "execution_count": null,
      "metadata": {
        "id": "2bxGJPLo9ehW"
      },
      "outputs": [],
      "source": [
        "batch_size = 132\n",
        "epochs = 10\n",
        "IMG_HEIGHT = 224\n",
        "IMG_WIDTH = 224"
      ]
    },
    {
      "cell_type": "code",
      "execution_count": null,
      "metadata": {
        "id": "KGSQo5uOrmxe"
      },
      "outputs": [],
      "source": []
    },
    {
      "cell_type": "code",
      "execution_count": null,
      "metadata": {
        "colab": {
          "base_uri": "https://localhost:8080/"
        },
        "id": "OrI5s9WJKu7B",
        "outputId": "0e853d0b-80d4-4b0a-f62f-c88d0b4036f6"
      },
      "outputs": [
        {
          "output_type": "stream",
          "name": "stdout",
          "text": [
            "Found 2358 images belonging to 2 classes.\n",
            "Found 175 images belonging to 2 classes.\n"
          ]
        }
      ],
      "source": [
        "train_image_generator = ImageDataGenerator(rescale=1./255) # Generator for our training data\n",
        "\n",
        "train_data_gen = train_image_generator.flow_from_directory(batch_size=batch_size, directory=train_dir, shuffle=True, target_size=(IMG_HEIGHT, IMG_WIDTH),class_mode='binary')\n",
        "test_image_generator = ImageDataGenerator(rescale=1./255) # Generator for our training data\n",
        "\n",
        "test_data_gen = test_image_generator.flow_from_directory(batch_size=batch_size, directory=test_dir, shuffle=True, target_size=(IMG_HEIGHT, IMG_WIDTH),class_mode='binary')"
      ]
    },
    {
      "cell_type": "code",
      "execution_count": null,
      "metadata": {
        "colab": {
          "base_uri": "https://localhost:8080/"
        },
        "id": "GCSmOBRlK0TN",
        "outputId": "687f4f16-5168-45f8-b8f9-eb41ec5a5a9a"
      },
      "outputs": [
        {
          "output_type": "stream",
          "name": "stdout",
          "text": [
            "total training Defective images: 1808\n",
            "total training Normal images: 550\n",
            "------------------------\n",
            "Total training images: 2358\n",
            "total test Defective images: 125\n",
            "total test Normal images: 50\n",
            "------------------------\n",
            "Total test images: 175\n"
          ]
        }
      ],
      "source": [
        "train_def = os.path.join(PATH, 'Train/Defective')\n",
        "train_nor = os.path.join(PATH, 'Train/Normal')\n",
        "test_def = os.path.join(PATH, 'Test/Defective')\n",
        "test_nor = os.path.join(PATH, 'Test/Normal')\n",
        "\n",
        "num_def = len(os.listdir(train_def))\n",
        "num_nor = len(os.listdir(train_nor))\n",
        "total_train = num_def+ num_nor\n",
        "print('total training Defective images:',num_def)\n",
        "print('total training Normal images:',num_nor)\n",
        "\n",
        "print(\"------------------------\")\n",
        "print(\"Total training images:\", total_train)\n",
        "\n",
        "tnum_def = len(os.listdir(test_def))\n",
        "tnum_nor = len(os.listdir(test_nor))\n",
        "total_test = tnum_def+ tnum_nor\n",
        "print('total test Defective images:',tnum_def)\n",
        "print('total test Normal images:',tnum_nor)\n",
        "\n",
        "print(\"------------------------\")\n",
        "print(\"Total test images:\", total_test)"
      ]
    },
    {
      "cell_type": "markdown",
      "metadata": {
        "id": "CWw_iV7VWEOI"
      },
      "source": [
        "# **Current Model**"
      ]
    },
    {
      "cell_type": "code",
      "execution_count": null,
      "metadata": {
        "id": "4XCrmlOzoi4S"
      },
      "outputs": [],
      "source": [
        "import tensorflow as tf\n",
        "num_classes = 2\n",
        "\n",
        "model = Sequential([\n",
        "  tf.keras.layers.experimental.preprocessing.Rescaling(1./255, input_shape=(IMG_HEIGHT, IMG_WIDTH, 3)),\n",
        "  tf.keras.layers.Conv2D(16, 3, padding='same', activation='relu'),\n",
        "  tf.keras.layers.MaxPooling2D(),\n",
        "  tf.keras.layers.Conv2D(32, 3, padding='same', activation='relu'),\n",
        "  tf.keras.layers.MaxPooling2D(),\n",
        "  tf.keras.layers.Conv2D(64, 3, padding='same', activation='relu'),\n",
        "  tf.keras.layers.MaxPooling2D(),\n",
        "  tf.keras.layers.Flatten(),\n",
        "  tf.keras.layers.Dense(128, activation='relu'),\n",
        "  tf.keras.layers.Dense(num_classes)\n",
        "])"
      ]
    },
    {
      "cell_type": "code",
      "execution_count": null,
      "metadata": {
        "id": "VI6ol--NpwdW"
      },
      "outputs": [],
      "source": [
        "model.compile(optimizer='adam',\n",
        "              loss='binary_crossentropy',\n",
        "              metrics=['accuracy'])"
      ]
    },
    {
      "cell_type": "code",
      "execution_count": null,
      "metadata": {
        "colab": {
          "base_uri": "https://localhost:8080/"
        },
        "id": "BvZQBvbdqDIu",
        "outputId": "acafb57b-39b8-4af6-e305-2149c917b2c9"
      },
      "outputs": [
        {
          "name": "stdout",
          "output_type": "stream",
          "text": [
            "Epoch 1/10\n",
            "19/19 [==============================] - 882s 45s/step - loss: 0.7979 - accuracy: 0.6217\n",
            "Epoch 2/10\n",
            "19/19 [==============================] - 138s 7s/step - loss: 0.5470 - accuracy: 0.4394\n",
            "Epoch 3/10\n",
            "19/19 [==============================] - 133s 7s/step - loss: 0.5427 - accuracy: 0.4907\n",
            "Epoch 4/10\n",
            "19/19 [==============================] - 135s 7s/step - loss: 0.5392 - accuracy: 0.4860\n",
            "Epoch 5/10\n",
            "19/19 [==============================] - 132s 7s/step - loss: 0.5365 - accuracy: 0.4631\n",
            "Epoch 6/10\n",
            "19/19 [==============================] - 140s 7s/step - loss: 0.5399 - accuracy: 0.5047\n",
            "Epoch 7/10\n",
            "19/19 [==============================] - 137s 7s/step - loss: 0.5277 - accuracy: 0.4521\n",
            "Epoch 8/10\n",
            "19/19 [==============================] - 136s 7s/step - loss: 0.5350 - accuracy: 0.5327\n",
            "Epoch 9/10\n",
            "19/19 [==============================] - 141s 7s/step - loss: 0.5215 - accuracy: 0.4224\n",
            "Epoch 10/10\n",
            "19/19 [==============================] - 132s 7s/step - loss: 0.6447 - accuracy: 0.4338\n"
          ]
        }
      ],
      "source": [
        "custhistory = model.fit(\n",
        "  train_data_gen,\n",
        "  epochs=10,\n",
        "  )"
      ]
    },
    {
      "cell_type": "code",
      "execution_count": null,
      "metadata": {
        "colab": {
          "base_uri": "https://localhost:8080/"
        },
        "id": "F_z8AQxnZLMf",
        "outputId": "2c2b2dd3-0713-4d4f-c436-31ab7fceddf3"
      },
      "outputs": [
        {
          "name": "stderr",
          "output_type": "stream",
          "text": [
            "/usr/local/lib/python3.10/dist-packages/keras/src/engine/training.py:3103: UserWarning: You are saving your model as an HDF5 file via `model.save()`. This file format is considered legacy. We recommend using instead the native Keras format, e.g. `model.save('my_model.keras')`.\n",
            "  saving_api.save_model(\n"
          ]
        },
        {
          "name": "stdout",
          "output_type": "stream",
          "text": [
            "2/2 - 44s - loss: 0.6098 - accuracy: 0.2857 - 44s/epoch - 22s/step\n"
          ]
        }
      ],
      "source": [
        "model.save('gdrive/My Drive/Colab Notebooks/insulcur10.h5')\n",
        "model.evaluate(test_data_gen,steps=len(test_data_gen),verbose=2)\n",
        "f1=open('gdrive/My Drive/Colab Notebooks/insulcurmodelOutput.txt', 'w')\n",
        "f1.write(\"CurrentModel\\n\")\n",
        "f1.write(str(model.history))\n",
        "f1.close()"
      ]
    },
    {
      "cell_type": "code",
      "execution_count": null,
      "metadata": {
        "colab": {
          "base_uri": "https://localhost:8080/",
          "height": 699
        },
        "id": "2hlkqmwSSVNl",
        "outputId": "77eedf57-0b86-4451-e693-2dc0b1838461"
      },
      "outputs": [
        {
          "data": {
            "image/png": "[encoded data removed]",
            "text/plain": [
              "<Figure size 800x800 with 2 Axes>"
            ]
          },
          "metadata": {},
          "output_type": "display_data"
        }
      ],
      "source": [
        "acc = custhistory.history['accuracy']\n",
        "loss = custhistory.history['loss']\n",
        "\n",
        "epochs_range = range(epochs)\n",
        "\n",
        "plt.figure(figsize=(8, 8))\n",
        "plt.subplot(1, 2, 1)\n",
        "plt.plot(epochs_range, acc, label='Training Accuracy')\n",
        "plt.legend(loc='lower right')\n",
        "plt.title('Training Accuracy')\n",
        "\n",
        "plt.subplot(1, 2, 2)\n",
        "plt.plot(epochs_range, loss, label='Training Loss')\n",
        "plt.legend(loc='upper right')\n",
        "plt.title('Training Loss')\n",
        "plt.show()"
      ]
    },
    {
      "cell_type": "markdown",
      "metadata": {
        "id": "bTax7zUeukzu"
      },
      "source": [
        "# Xception"
      ]
    },
    {
      "cell_type": "code",
      "execution_count": null,
      "metadata": {
        "id": "dDmE_TqXuoFU"
      },
      "outputs": [],
      "source": []
    },
    {
      "cell_type": "code",
      "execution_count": null,
      "metadata": {
        "colab": {
          "base_uri": "https://localhost:8080/"
        },
        "id": "kJxEFgwhRMSM",
        "outputId": "3a18dbf5-2c60-4340-818f-5e2578718b15"
      },
      "outputs": [
        {
          "name": "stdout",
          "output_type": "stream",
          "text": [
            "Downloading data from https://storage.googleapis.com/tensorflow/keras-applications/xception/xception_weights_tf_dim_ordering_tf_kernels.h5\n",
            "91884032/91884032 [==============================] - 1s 0us/step\n"
          ]
        }
      ],
      "source": [
        "import keras\n",
        "from tensorflow.keras.models import Model\n",
        "XC = keras.applications.Xception(\n",
        "    include_top=True,\n",
        "    weights=\"imagenet\",\n",
        "    input_tensor=None,\n",
        "    input_shape=None,\n",
        "    pooling=None,\n",
        "    )\n",
        "\n",
        "# Freeze the layers so that they are not trained during model fitting. We want to keep the imagenet weights\n",
        "for layer in XC.layers:\n",
        "    layer.trainable=False\n",
        "\n",
        "# Change the final dense layer to 1 node (sigmoid activation) for binary classification\n",
        "# could do 2 nodes and determine the probabilities of each class using SoftMax, but we used Sigmoid for our simple ConvNet\n",
        "x = XC.layers[-2].output\n",
        "output_layer = Dense(1, activation='sigmoid', name='predictions')(x)\n",
        "\n",
        "# Combine the output layer to the original model\n",
        "insulXC = Model(inputs=XC.input, outputs=output_layer)\n",
        "\n",
        "# Sanity check: Print out the model summary. The final layer should have 1 neuron only (again, using sigmoid activation)\n",
        "#MN_Categorical.summary()\n",
        "\n",
        "# Compile the modified vgg model with the following hyperparameters (same as simple ConvNet)\n",
        "# In future try different learning rates for the adam 'adaptive moment estimation'\n",
        "insulXC.compile(optimizer='adam', loss='binary_crossentropy', metrics=['accuracy'])"
      ]
    },
    {
      "cell_type": "code",
      "execution_count": null,
      "metadata": {
        "colab": {
          "base_uri": "https://localhost:8080/"
        },
        "id": "kgMlzZFDwIEq",
        "outputId": "525832ce-9cc2-4342-c4c9-085489519bc3"
      },
      "outputs": [
        {
          "name": "stderr",
          "output_type": "stream",
          "text": [
            "<ipython-input-12-92f1b94a9634>:1: UserWarning: `Model.fit_generator` is deprecated and will be removed in a future version. Please use `Model.fit`, which supports generators.\n",
            "  insulXCnhistory = insulXC.fit_generator(\n"
          ]
        },
        {
          "name": "stdout",
          "output_type": "stream",
          "text": [
            "Epoch 1/15\n",
            "17/17 [==============================] - 1234s 71s/step - loss: 0.3297 - accuracy: 0.8500\n",
            "Epoch 2/15\n",
            "17/17 [==============================] - 144s 8s/step - loss: 0.1681 - accuracy: 0.9322\n",
            "Epoch 3/15\n",
            "17/17 [==============================] - 138s 8s/step - loss: 0.1298 - accuracy: 0.9461\n",
            "Epoch 4/15\n",
            "17/17 [==============================] - 140s 8s/step - loss: 0.1044 - accuracy: 0.9645\n",
            "Epoch 5/15\n",
            "17/17 [==============================] - 138s 8s/step - loss: 0.0936 - accuracy: 0.9704\n",
            "Epoch 6/15\n",
            "17/17 [==============================] - 134s 8s/step - loss: 0.0840 - accuracy: 0.9784\n",
            "Epoch 7/15\n",
            "17/17 [==============================] - 145s 9s/step - loss: 0.0745 - accuracy: 0.9798\n",
            "Epoch 8/15\n",
            "17/17 [==============================] - 159s 9s/step - loss: 0.0668 - accuracy: 0.9847\n",
            "Epoch 9/15\n",
            "17/17 [==============================] - 149s 9s/step - loss: 0.0618 - accuracy: 0.9874\n",
            "Epoch 10/15\n",
            "17/17 [==============================] - 175s 10s/step - loss: 0.0559 - accuracy: 0.9892\n",
            "Epoch 11/15\n",
            "17/17 [==============================] - 137s 8s/step - loss: 0.0521 - accuracy: 0.9906\n",
            "Epoch 12/15\n",
            "17/17 [==============================] - 138s 8s/step - loss: 0.0498 - accuracy: 0.9910\n",
            "Epoch 13/15\n",
            "17/17 [==============================] - 150s 9s/step - loss: 0.0462 - accuracy: 0.9929\n",
            "Epoch 14/15\n",
            "17/17 [==============================] - 138s 8s/step - loss: 0.0446 - accuracy: 0.9924\n",
            "Epoch 15/15\n",
            "17/17 [==============================] - 139s 8s/step - loss: 0.0416 - accuracy: 0.9942\n"
          ]
        }
      ],
      "source": [
        "insulXCnhistory = insulXC.fit_generator(\n",
        "    train_data_gen,\n",
        "    steps_per_epoch=total_train // batch_size,\n",
        "    epochs=epochs\n",
        ")"
      ]
    },
    {
      "cell_type": "code",
      "execution_count": null,
      "metadata": {
        "colab": {
          "base_uri": "https://localhost:8080/"
        },
        "id": "WSLeq8r4wbdT",
        "outputId": "555a4799-c4a3-4ed7-9361-76835688cf72"
      },
      "outputs": [
        {
          "name": "stderr",
          "output_type": "stream",
          "text": [
            "/usr/local/lib/python3.10/dist-packages/keras/src/engine/training.py:3103: UserWarning: You are saving your model as an HDF5 file via `model.save()`. This file format is considered legacy. We recommend using instead the native Keras format, e.g. `model.save('my_model.keras')`.\n",
            "  saving_api.save_model(\n"
          ]
        },
        {
          "name": "stdout",
          "output_type": "stream",
          "text": [
            "2/2 - 49s - loss: 0.0971 - accuracy: 0.9829 - 49s/epoch - 25s/step\n"
          ]
        }
      ],
      "source": [
        "insulXC.save('gdrive/My Drive/Colab Notebooks/insulXC.h5')\n",
        "insulXC.evaluate(test_data_gen,steps=len(test_data_gen),verbose=2)\n",
        "f1=open('gdrive/My Drive/Colab Notebooks/insulresmodelOutput.txt', 'w')\n",
        "f1.write(\"Exception\\n\")\n",
        "f1.write(str(insulXCnhistory.history))\n",
        "f1.close()"
      ]
    },
    {
      "cell_type": "code",
      "execution_count": null,
      "metadata": {
        "id": "mZ4931drxrWM"
      },
      "outputs": [],
      "source": []
    },
    {
      "cell_type": "markdown",
      "metadata": {
        "id": "dL2LEWZY4qUo"
      },
      "source": [
        "# Inception"
      ]
    },
    {
      "cell_type": "code",
      "execution_count": null,
      "metadata": {
        "id": "ata3BpDn4sjf"
      },
      "outputs": [],
      "source": []
    },
    {
      "cell_type": "code",
      "execution_count": null,
      "metadata": {
        "colab": {
          "base_uri": "https://localhost:8080/"
        },
        "id": "yaqY2J1XPwBa",
        "outputId": "777b403a-8135-4a28-f944-3e1233bd329f"
      },
      "outputs": [
        {
          "name": "stdout",
          "output_type": "stream",
          "text": [
            "Downloading data from https://storage.googleapis.com/tensorflow/keras-applications/inception_v3/inception_v3_weights_tf_dim_ordering_tf_kernels.h5\n",
            "96112376/96112376 [==============================] - 0s 0us/step\n",
            "Model: \"model_1\"\n",
            "__________________________________________________________________________________________________\n",
            " Layer (type)                Output Shape                 Param #   Connected to                  \n",
            "==================================================================================================\n",
            " input_2 (InputLayer)        [(None, 299, 299, 3)]        0         []                            \n",
            "                                                                                                  \n",
            " conv2d_4 (Conv2D)           (None, 149, 149, 32)         864       ['input_2[0][0]']             \n",
            "                                                                                                  \n",
            " batch_normalization_4 (Bat  (None, 149, 149, 32)         96        ['conv2d_4[0][0]']            \n",
            " chNormalization)                                                                                 \n",
            "                                                                                                  \n",
            " activation (Activation)     (None, 149, 149, 32)         0         ['batch_normalization_4[0][0]'\n",
            "                                                                    ]                             \n",
            "                                                                                                  \n",
            " conv2d_5 (Conv2D)           (None, 147, 147, 32)         9216      ['activation[0][0]']          \n",
            "                                                                                                  \n",
            " batch_normalization_5 (Bat  (None, 147, 147, 32)         96        ['conv2d_5[0][0]']            \n",
            " chNormalization)                                                                                 \n",
            "                                                                                                  \n",
            " activation_1 (Activation)   (None, 147, 147, 32)         0         ['batch_normalization_5[0][0]'\n",
            "                                                                    ]                             \n",
            "                                                                                                  \n",
            " conv2d_6 (Conv2D)           (None, 147, 147, 64)         18432     ['activation_1[0][0]']        \n",
            "                                                                                                  \n",
            " batch_normalization_6 (Bat  (None, 147, 147, 64)         192       ['conv2d_6[0][0]']            \n",
            " chNormalization)                                                                                 \n",
            "                                                                                                  \n",
            " activation_2 (Activation)   (None, 147, 147, 64)         0         ['batch_normalization_6[0][0]'\n",
            "                                                                    ]                             \n",
            "                                                                                                  \n",
            " max_pooling2d (MaxPooling2  (None, 73, 73, 64)           0         ['activation_2[0][0]']        \n",
            " D)                                                                                               \n",
            "                                                                                                  \n",
            " conv2d_7 (Conv2D)           (None, 73, 73, 80)           5120      ['max_pooling2d[0][0]']       \n",
            "                                                                                                  \n",
            " batch_normalization_7 (Bat  (None, 73, 73, 80)           240       ['conv2d_7[0][0]']            \n",
            " chNormalization)                                                                                 \n",
            "                                                                                                  \n",
            " activation_3 (Activation)   (None, 73, 73, 80)           0         ['batch_normalization_7[0][0]'\n",
            "                                                                    ]                             \n",
            "                                                                                                  \n",
            " conv2d_8 (Conv2D)           (None, 71, 71, 192)          138240    ['activation_3[0][0]']        \n",
            "                                                                                                  \n",
            " batch_normalization_8 (Bat  (None, 71, 71, 192)          576       ['conv2d_8[0][0]']            \n",
            " chNormalization)                                                                                 \n",
            "                                                                                                  \n",
            " activation_4 (Activation)   (None, 71, 71, 192)          0         ['batch_normalization_8[0][0]'\n",
            "                                                                    ]                             \n",
            "                                                                                                  \n",
            " max_pooling2d_1 (MaxPoolin  (None, 35, 35, 192)          0         ['activation_4[0][0]']        \n",
            " g2D)                                                                                             \n",
            "                                                                                                  \n",
            " conv2d_12 (Conv2D)          (None, 35, 35, 64)           12288     ['max_pooling2d_1[0][0]']     \n",
            "                                                                                                  \n",
            " batch_normalization_12 (Ba  (None, 35, 35, 64)           192       ['conv2d_12[0][0]']           \n",
            " tchNormalization)                                                                                \n",
            "                                                                                                  \n",
            " activation_8 (Activation)   (None, 35, 35, 64)           0         ['batch_normalization_12[0][0]\n",
            "                                                                    ']                            \n",
            "                                                                                                  \n",
            " conv2d_10 (Conv2D)          (None, 35, 35, 48)           9216      ['max_pooling2d_1[0][0]']     \n",
            "                                                                                                  \n",
            " conv2d_13 (Conv2D)          (None, 35, 35, 96)           55296     ['activation_8[0][0]']        \n",
            "                                                                                                  \n",
            " batch_normalization_10 (Ba  (None, 35, 35, 48)           144       ['conv2d_10[0][0]']           \n",
            " tchNormalization)                                                                                \n",
            "                                                                                                  \n",
            " batch_normalization_13 (Ba  (None, 35, 35, 96)           288       ['conv2d_13[0][0]']           \n",
            " tchNormalization)                                                                                \n",
            "                                                                                                  \n",
            " activation_6 (Activation)   (None, 35, 35, 48)           0         ['batch_normalization_10[0][0]\n",
            "                                                                    ']                            \n",
            "                                                                                                  \n",
            " activation_9 (Activation)   (None, 35, 35, 96)           0         ['batch_normalization_13[0][0]\n",
            "                                                                    ']                            \n",
            "                                                                                                  \n",
            " average_pooling2d (Average  (None, 35, 35, 192)          0         ['max_pooling2d_1[0][0]']     \n",
            " Pooling2D)                                                                                       \n",
            "                                                                                                  \n",
            " conv2d_9 (Conv2D)           (None, 35, 35, 64)           12288     ['max_pooling2d_1[0][0]']     \n",
            "                                                                                                  \n",
            " conv2d_11 (Conv2D)          (None, 35, 35, 64)           76800     ['activation_6[0][0]']        \n",
            "                                                                                                  \n",
            " conv2d_14 (Conv2D)          (None, 35, 35, 96)           82944     ['activation_9[0][0]']        \n",
            "                                                                                                  \n",
            " conv2d_15 (Conv2D)          (None, 35, 35, 32)           6144      ['average_pooling2d[0][0]']   \n",
            "                                                                                                  \n",
            " batch_normalization_9 (Bat  (None, 35, 35, 64)           192       ['conv2d_9[0][0]']            \n",
            " chNormalization)                                                                                 \n",
            "                                                                                                  \n",
            " batch_normalization_11 (Ba  (None, 35, 35, 64)           192       ['conv2d_11[0][0]']           \n",
            " tchNormalization)                                                                                \n",
            "                                                                                                  \n",
            " batch_normalization_14 (Ba  (None, 35, 35, 96)           288       ['conv2d_14[0][0]']           \n",
            " tchNormalization)                                                                                \n",
            "                                                                                                  \n",
            " batch_normalization_15 (Ba  (None, 35, 35, 32)           96        ['conv2d_15[0][0]']           \n",
            " tchNormalization)                                                                                \n",
            "                                                                                                  \n",
            " activation_5 (Activation)   (None, 35, 35, 64)           0         ['batch_normalization_9[0][0]'\n",
            "                                                                    ]                             \n",
            "                                                                                                  \n",
            " activation_7 (Activation)   (None, 35, 35, 64)           0         ['batch_normalization_11[0][0]\n",
            "                                                                    ']                            \n",
            "                                                                                                  \n",
            " activation_10 (Activation)  (None, 35, 35, 96)           0         ['batch_normalization_14[0][0]\n",
            "                                                                    ']                            \n",
            "                                                                                                  \n",
            " activation_11 (Activation)  (None, 35, 35, 32)           0         ['batch_normalization_15[0][0]\n",
            "                                                                    ']                            \n",
            "                                                                                                  \n",
            " mixed0 (Concatenate)        (None, 35, 35, 256)          0         ['activation_5[0][0]',        \n",
            "                                                                     'activation_7[0][0]',        \n",
            "                                                                     'activation_10[0][0]',       \n",
            "                                                                     'activation_11[0][0]']       \n",
            "                                                                                                  \n",
            " conv2d_19 (Conv2D)          (None, 35, 35, 64)           16384     ['mixed0[0][0]']              \n",
            "                                                                                                  \n",
            " batch_normalization_19 (Ba  (None, 35, 35, 64)           192       ['conv2d_19[0][0]']           \n",
            " tchNormalization)                                                                                \n",
            "                                                                                                  \n",
            " activation_15 (Activation)  (None, 35, 35, 64)           0         ['batch_normalization_19[0][0]\n",
            "                                                                    ']                            \n",
            "                                                                                                  \n",
            " conv2d_17 (Conv2D)          (None, 35, 35, 48)           12288     ['mixed0[0][0]']              \n",
            "                                                                                                  \n",
            " conv2d_20 (Conv2D)          (None, 35, 35, 96)           55296     ['activation_15[0][0]']       \n",
            "                                                                                                  \n",
            " batch_normalization_17 (Ba  (None, 35, 35, 48)           144       ['conv2d_17[0][0]']           \n",
            " tchNormalization)                                                                                \n",
            "                                                                                                  \n",
            " batch_normalization_20 (Ba  (None, 35, 35, 96)           288       ['conv2d_20[0][0]']           \n",
            " tchNormalization)                                                                                \n",
            "                                                                                                  \n",
            " activation_13 (Activation)  (None, 35, 35, 48)           0         ['batch_normalization_17[0][0]\n",
            "                                                                    ']                            \n",
            "                                                                                                  \n",
            " activation_16 (Activation)  (None, 35, 35, 96)           0         ['batch_normalization_20[0][0]\n",
            "                                                                    ']                            \n",
            "                                                                                                  \n",
            " average_pooling2d_1 (Avera  (None, 35, 35, 256)          0         ['mixed0[0][0]']              \n",
            " gePooling2D)                                                                                     \n",
            "                                                                                                  \n",
            " conv2d_16 (Conv2D)          (None, 35, 35, 64)           16384     ['mixed0[0][0]']              \n",
            "                                                                                                  \n",
            " conv2d_18 (Conv2D)          (None, 35, 35, 64)           76800     ['activation_13[0][0]']       \n",
            "                                                                                                  \n",
            " conv2d_21 (Conv2D)          (None, 35, 35, 96)           82944     ['activation_16[0][0]']       \n",
            "                                                                                                  \n",
            " conv2d_22 (Conv2D)          (None, 35, 35, 64)           16384     ['average_pooling2d_1[0][0]'] \n",
            "                                                                                                  \n",
            " batch_normalization_16 (Ba  (None, 35, 35, 64)           192       ['conv2d_16[0][0]']           \n",
            " tchNormalization)                                                                                \n",
            "                                                                                                  \n",
            " batch_normalization_18 (Ba  (None, 35, 35, 64)           192       ['conv2d_18[0][0]']           \n",
            " tchNormalization)                                                                                \n",
            "                                                                                                  \n",
            " batch_normalization_21 (Ba  (None, 35, 35, 96)           288       ['conv2d_21[0][0]']           \n",
            " tchNormalization)                                                                                \n",
            "                                                                                                  \n",
            " batch_normalization_22 (Ba  (None, 35, 35, 64)           192       ['conv2d_22[0][0]']           \n",
            " tchNormalization)                                                                                \n",
            "                                                                                                  \n",
            " activation_12 (Activation)  (None, 35, 35, 64)           0         ['batch_normalization_16[0][0]\n",
            "                                                                    ']                            \n",
            "                                                                                                  \n",
            " activation_14 (Activation)  (None, 35, 35, 64)           0         ['batch_normalization_18[0][0]\n",
            "                                                                    ']                            \n",
            "                                                                                                  \n",
            " activation_17 (Activation)  (None, 35, 35, 96)           0         ['batch_normalization_21[0][0]\n",
            "                                                                    ']                            \n",
            "                                                                                                  \n",
            " activation_18 (Activation)  (None, 35, 35, 64)           0         ['batch_normalization_22[0][0]\n",
            "                                                                    ']                            \n",
            "                                                                                                  \n",
            " mixed1 (Concatenate)        (None, 35, 35, 288)          0         ['activation_12[0][0]',       \n",
            "                                                                     'activation_14[0][0]',       \n",
            "                                                                     'activation_17[0][0]',       \n",
            "                                                                     'activation_18[0][0]']       \n",
            "                                                                                                  \n",
            " conv2d_26 (Conv2D)          (None, 35, 35, 64)           18432     ['mixed1[0][0]']              \n",
            "                                                                                                  \n",
            " batch_normalization_26 (Ba  (None, 35, 35, 64)           192       ['conv2d_26[0][0]']           \n",
            " tchNormalization)                                                                                \n",
            "                                                                                                  \n",
            " activation_22 (Activation)  (None, 35, 35, 64)           0         ['batch_normalization_26[0][0]\n",
            "                                                                    ']                            \n",
            "                                                                                                  \n",
            " conv2d_24 (Conv2D)          (None, 35, 35, 48)           13824     ['mixed1[0][0]']              \n",
            "                                                                                                  \n",
            " conv2d_27 (Conv2D)          (None, 35, 35, 96)           55296     ['activation_22[0][0]']       \n",
            "                                                                                                  \n",
            " batch_normalization_24 (Ba  (None, 35, 35, 48)           144       ['conv2d_24[0][0]']           \n",
            " tchNormalization)                                                                                \n",
            "                                                                                                  \n",
            " batch_normalization_27 (Ba  (None, 35, 35, 96)           288       ['conv2d_27[0][0]']           \n",
            " tchNormalization)                                                                                \n",
            "                                                                                                  \n",
            " activation_20 (Activation)  (None, 35, 35, 48)           0         ['batch_normalization_24[0][0]\n",
            "                                                                    ']                            \n",
            "                                                                                                  \n",
            " activation_23 (Activation)  (None, 35, 35, 96)           0         ['batch_normalization_27[0][0]\n",
            "                                                                    ']                            \n",
            "                                                                                                  \n",
            " average_pooling2d_2 (Avera  (None, 35, 35, 288)          0         ['mixed1[0][0]']              \n",
            " gePooling2D)                                                                                     \n",
            "                                                                                                  \n",
            " conv2d_23 (Conv2D)          (None, 35, 35, 64)           18432     ['mixed1[0][0]']              \n",
            "                                                                                                  \n",
            " conv2d_25 (Conv2D)          (None, 35, 35, 64)           76800     ['activation_20[0][0]']       \n",
            "                                                                                                  \n",
            " conv2d_28 (Conv2D)          (None, 35, 35, 96)           82944     ['activation_23[0][0]']       \n",
            "                                                                                                  \n",
            " conv2d_29 (Conv2D)          (None, 35, 35, 64)           18432     ['average_pooling2d_2[0][0]'] \n",
            "                                                                                                  \n",
            " batch_normalization_23 (Ba  (None, 35, 35, 64)           192       ['conv2d_23[0][0]']           \n",
            " tchNormalization)                                                                                \n",
            "                                                                                                  \n",
            " batch_normalization_25 (Ba  (None, 35, 35, 64)           192       ['conv2d_25[0][0]']           \n",
            " tchNormalization)                                                                                \n",
            "                                                                                                  \n",
            " batch_normalization_28 (Ba  (None, 35, 35, 96)           288       ['conv2d_28[0][0]']           \n",
            " tchNormalization)                                                                                \n",
            "                                                                                                  \n",
            " batch_normalization_29 (Ba  (None, 35, 35, 64)           192       ['conv2d_29[0][0]']           \n",
            " tchNormalization)                                                                                \n",
            "                                                                                                  \n",
            " activation_19 (Activation)  (None, 35, 35, 64)           0         ['batch_normalization_23[0][0]\n",
            "                                                                    ']                            \n",
            "                                                                                                  \n",
            " activation_21 (Activation)  (None, 35, 35, 64)           0         ['batch_normalization_25[0][0]\n",
            "                                                                    ']                            \n",
            "                                                                                                  \n",
            " activation_24 (Activation)  (None, 35, 35, 96)           0         ['batch_normalization_28[0][0]\n",
            "                                                                    ']                            \n",
            "                                                                                                  \n",
            " activation_25 (Activation)  (None, 35, 35, 64)           0         ['batch_normalization_29[0][0]\n",
            "                                                                    ']                            \n",
            "                                                                                                  \n",
            " mixed2 (Concatenate)        (None, 35, 35, 288)          0         ['activation_19[0][0]',       \n",
            "                                                                     'activation_21[0][0]',       \n",
            "                                                                     'activation_24[0][0]',       \n",
            "                                                                     'activation_25[0][0]']       \n",
            "                                                                                                  \n",
            " conv2d_31 (Conv2D)          (None, 35, 35, 64)           18432     ['mixed2[0][0]']              \n",
            "                                                                                                  \n",
            " batch_normalization_31 (Ba  (None, 35, 35, 64)           192       ['conv2d_31[0][0]']           \n",
            " tchNormalization)                                                                                \n",
            "                                                                                                  \n",
            " activation_27 (Activation)  (None, 35, 35, 64)           0         ['batch_normalization_31[0][0]\n",
            "                                                                    ']                            \n",
            "                                                                                                  \n",
            " conv2d_32 (Conv2D)          (None, 35, 35, 96)           55296     ['activation_27[0][0]']       \n",
            "                                                                                                  \n",
            " batch_normalization_32 (Ba  (None, 35, 35, 96)           288       ['conv2d_32[0][0]']           \n",
            " tchNormalization)                                                                                \n",
            "                                                                                                  \n",
            " activation_28 (Activation)  (None, 35, 35, 96)           0         ['batch_normalization_32[0][0]\n",
            "                                                                    ']                            \n",
            "                                                                                                  \n",
            " conv2d_30 (Conv2D)          (None, 17, 17, 384)          995328    ['mixed2[0][0]']              \n",
            "                                                                                                  \n",
            " conv2d_33 (Conv2D)          (None, 17, 17, 96)           82944     ['activation_28[0][0]']       \n",
            "                                                                                                  \n",
            " batch_normalization_30 (Ba  (None, 17, 17, 384)          1152      ['conv2d_30[0][0]']           \n",
            " tchNormalization)                                                                                \n",
            "                                                                                                  \n",
            " batch_normalization_33 (Ba  (None, 17, 17, 96)           288       ['conv2d_33[0][0]']           \n",
            " tchNormalization)                                                                                \n",
            "                                                                                                  \n",
            " activation_26 (Activation)  (None, 17, 17, 384)          0         ['batch_normalization_30[0][0]\n",
            "                                                                    ']                            \n",
            "                                                                                                  \n",
            " activation_29 (Activation)  (None, 17, 17, 96)           0         ['batch_normalization_33[0][0]\n",
            "                                                                    ']                            \n",
            "                                                                                                  \n",
            " max_pooling2d_2 (MaxPoolin  (None, 17, 17, 288)          0         ['mixed2[0][0]']              \n",
            " g2D)                                                                                             \n",
            "                                                                                                  \n",
            " mixed3 (Concatenate)        (None, 17, 17, 768)          0         ['activation_26[0][0]',       \n",
            "                                                                     'activation_29[0][0]',       \n",
            "                                                                     'max_pooling2d_2[0][0]']     \n",
            "                                                                                                  \n",
            " conv2d_38 (Conv2D)          (None, 17, 17, 128)          98304     ['mixed3[0][0]']              \n",
            "                                                                                                  \n",
            " batch_normalization_38 (Ba  (None, 17, 17, 128)          384       ['conv2d_38[0][0]']           \n",
            " tchNormalization)                                                                                \n",
            "                                                                                                  \n",
            " activation_34 (Activation)  (None, 17, 17, 128)          0         ['batch_normalization_38[0][0]\n",
            "                                                                    ']                            \n",
            "                                                                                                  \n",
            " conv2d_39 (Conv2D)          (None, 17, 17, 128)          114688    ['activation_34[0][0]']       \n",
            "                                                                                                  \n",
            " batch_normalization_39 (Ba  (None, 17, 17, 128)          384       ['conv2d_39[0][0]']           \n",
            " tchNormalization)                                                                                \n",
            "                                                                                                  \n",
            " activation_35 (Activation)  (None, 17, 17, 128)          0         ['batch_normalization_39[0][0]\n",
            "                                                                    ']                            \n",
            "                                                                                                  \n",
            " conv2d_35 (Conv2D)          (None, 17, 17, 128)          98304     ['mixed3[0][0]']              \n",
            "                                                                                                  \n",
            " conv2d_40 (Conv2D)          (None, 17, 17, 128)          114688    ['activation_35[0][0]']       \n",
            "                                                                                                  \n",
            " batch_normalization_35 (Ba  (None, 17, 17, 128)          384       ['conv2d_35[0][0]']           \n",
            " tchNormalization)                                                                                \n",
            "                                                                                                  \n",
            " batch_normalization_40 (Ba  (None, 17, 17, 128)          384       ['conv2d_40[0][0]']           \n",
            " tchNormalization)                                                                                \n",
            "                                                                                                  \n",
            " activation_31 (Activation)  (None, 17, 17, 128)          0         ['batch_normalization_35[0][0]\n",
            "                                                                    ']                            \n",
            "                                                                                                  \n",
            " activation_36 (Activation)  (None, 17, 17, 128)          0         ['batch_normalization_40[0][0]\n",
            "                                                                    ']                            \n",
            "                                                                                                  \n",
            " conv2d_36 (Conv2D)          (None, 17, 17, 128)          114688    ['activation_31[0][0]']       \n",
            "                                                                                                  \n",
            " conv2d_41 (Conv2D)          (None, 17, 17, 128)          114688    ['activation_36[0][0]']       \n",
            "                                                                                                  \n",
            " batch_normalization_36 (Ba  (None, 17, 17, 128)          384       ['conv2d_36[0][0]']           \n",
            " tchNormalization)                                                                                \n",
            "                                                                                                  \n",
            " batch_normalization_41 (Ba  (None, 17, 17, 128)          384       ['conv2d_41[0][0]']           \n",
            " tchNormalization)                                                                                \n",
            "                                                                                                  \n",
            " activation_32 (Activation)  (None, 17, 17, 128)          0         ['batch_normalization_36[0][0]\n",
            "                                                                    ']                            \n",
            "                                                                                                  \n",
            " activation_37 (Activation)  (None, 17, 17, 128)          0         ['batch_normalization_41[0][0]\n",
            "                                                                    ']                            \n",
            "                                                                                                  \n",
            " average_pooling2d_3 (Avera  (None, 17, 17, 768)          0         ['mixed3[0][0]']              \n",
            " gePooling2D)                                                                                     \n",
            "                                                                                                  \n",
            " conv2d_34 (Conv2D)          (None, 17, 17, 192)          147456    ['mixed3[0][0]']              \n",
            "                                                                                                  \n",
            " conv2d_37 (Conv2D)          (None, 17, 17, 192)          172032    ['activation_32[0][0]']       \n",
            "                                                                                                  \n",
            " conv2d_42 (Conv2D)          (None, 17, 17, 192)          172032    ['activation_37[0][0]']       \n",
            "                                                                                                  \n",
            " conv2d_43 (Conv2D)          (None, 17, 17, 192)          147456    ['average_pooling2d_3[0][0]'] \n",
            "                                                                                                  \n",
            " batch_normalization_34 (Ba  (None, 17, 17, 192)          576       ['conv2d_34[0][0]']           \n",
            " tchNormalization)                                                                                \n",
            "                                                                                                  \n",
            " batch_normalization_37 (Ba  (None, 17, 17, 192)          576       ['conv2d_37[0][0]']           \n",
            " tchNormalization)                                                                                \n",
            "                                                                                                  \n",
            " batch_normalization_42 (Ba  (None, 17, 17, 192)          576       ['conv2d_42[0][0]']           \n",
            " tchNormalization)                                                                                \n",
            "                                                                                                  \n",
            " batch_normalization_43 (Ba  (None, 17, 17, 192)          576       ['conv2d_43[0][0]']           \n",
            " tchNormalization)                                                                                \n",
            "                                                                                                  \n",
            " activation_30 (Activation)  (None, 17, 17, 192)          0         ['batch_normalization_34[0][0]\n",
            "                                                                    ']                            \n",
            "                                                                                                  \n",
            " activation_33 (Activation)  (None, 17, 17, 192)          0         ['batch_normalization_37[0][0]\n",
            "                                                                    ']                            \n",
            "                                                                                                  \n",
            " activation_38 (Activation)  (None, 17, 17, 192)          0         ['batch_normalization_42[0][0]\n",
            "                                                                    ']                            \n",
            "                                                                                                  \n",
            " activation_39 (Activation)  (None, 17, 17, 192)          0         ['batch_normalization_43[0][0]\n",
            "                                                                    ']                            \n",
            "                                                                                                  \n",
            " mixed4 (Concatenate)        (None, 17, 17, 768)          0         ['activation_30[0][0]',       \n",
            "                                                                     'activation_33[0][0]',       \n",
            "                                                                     'activation_38[0][0]',       \n",
            "                                                                     'activation_39[0][0]']       \n",
            "                                                                                                  \n",
            " conv2d_48 (Conv2D)          (None, 17, 17, 160)          122880    ['mixed4[0][0]']              \n",
            "                                                                                                  \n",
            " batch_normalization_48 (Ba  (None, 17, 17, 160)          480       ['conv2d_48[0][0]']           \n",
            " tchNormalization)                                                                                \n",
            "                                                                                                  \n",
            " activation_44 (Activation)  (None, 17, 17, 160)          0         ['batch_normalization_48[0][0]\n",
            "                                                                    ']                            \n",
            "                                                                                                  \n",
            " conv2d_49 (Conv2D)          (None, 17, 17, 160)          179200    ['activation_44[0][0]']       \n",
            "                                                                                                  \n",
            " batch_normalization_49 (Ba  (None, 17, 17, 160)          480       ['conv2d_49[0][0]']           \n",
            " tchNormalization)                                                                                \n",
            "                                                                                                  \n",
            " activation_45 (Activation)  (None, 17, 17, 160)          0         ['batch_normalization_49[0][0]\n",
            "                                                                    ']                            \n",
            "                                                                                                  \n",
            " conv2d_45 (Conv2D)          (None, 17, 17, 160)          122880    ['mixed4[0][0]']              \n",
            "                                                                                                  \n",
            " conv2d_50 (Conv2D)          (None, 17, 17, 160)          179200    ['activation_45[0][0]']       \n",
            "                                                                                                  \n",
            " batch_normalization_45 (Ba  (None, 17, 17, 160)          480       ['conv2d_45[0][0]']           \n",
            " tchNormalization)                                                                                \n",
            "                                                                                                  \n",
            " batch_normalization_50 (Ba  (None, 17, 17, 160)          480       ['conv2d_50[0][0]']           \n",
            " tchNormalization)                                                                                \n",
            "                                                                                                  \n",
            " activation_41 (Activation)  (None, 17, 17, 160)          0         ['batch_normalization_45[0][0]\n",
            "                                                                    ']                            \n",
            "                                                                                                  \n",
            " activation_46 (Activation)  (None, 17, 17, 160)          0         ['batch_normalization_50[0][0]\n",
            "                                                                    ']                            \n",
            "                                                                                                  \n",
            " conv2d_46 (Conv2D)          (None, 17, 17, 160)          179200    ['activation_41[0][0]']       \n",
            "                                                                                                  \n",
            " conv2d_51 (Conv2D)          (None, 17, 17, 160)          179200    ['activation_46[0][0]']       \n",
            "                                                                                                  \n",
            " batch_normalization_46 (Ba  (None, 17, 17, 160)          480       ['conv2d_46[0][0]']           \n",
            " tchNormalization)                                                                                \n",
            "                                                                                                  \n",
            " batch_normalization_51 (Ba  (None, 17, 17, 160)          480       ['conv2d_51[0][0]']           \n",
            " tchNormalization)                                                                                \n",
            "                                                                                                  \n",
            " activation_42 (Activation)  (None, 17, 17, 160)          0         ['batch_normalization_46[0][0]\n",
            "                                                                    ']                            \n",
            "                                                                                                  \n",
            " activation_47 (Activation)  (None, 17, 17, 160)          0         ['batch_normalization_51[0][0]\n",
            "                                                                    ']                            \n",
            "                                                                                                  \n",
            " average_pooling2d_4 (Avera  (None, 17, 17, 768)          0         ['mixed4[0][0]']              \n",
            " gePooling2D)                                                                                     \n",
            "                                                                                                  \n",
            " conv2d_44 (Conv2D)          (None, 17, 17, 192)          147456    ['mixed4[0][0]']              \n",
            "                                                                                                  \n",
            " conv2d_47 (Conv2D)          (None, 17, 17, 192)          215040    ['activation_42[0][0]']       \n",
            "                                                                                                  \n",
            " conv2d_52 (Conv2D)          (None, 17, 17, 192)          215040    ['activation_47[0][0]']       \n",
            "                                                                                                  \n",
            " conv2d_53 (Conv2D)          (None, 17, 17, 192)          147456    ['average_pooling2d_4[0][0]'] \n",
            "                                                                                                  \n",
            " batch_normalization_44 (Ba  (None, 17, 17, 192)          576       ['conv2d_44[0][0]']           \n",
            " tchNormalization)                                                                                \n",
            "                                                                                                  \n",
            " batch_normalization_47 (Ba  (None, 17, 17, 192)          576       ['conv2d_47[0][0]']           \n",
            " tchNormalization)                                                                                \n",
            "                                                                                                  \n",
            " batch_normalization_52 (Ba  (None, 17, 17, 192)          576       ['conv2d_52[0][0]']           \n",
            " tchNormalization)                                                                                \n",
            "                                                                                                  \n",
            " batch_normalization_53 (Ba  (None, 17, 17, 192)          576       ['conv2d_53[0][0]']           \n",
            " tchNormalization)                                                                                \n",
            "                                                                                                  \n",
            " activation_40 (Activation)  (None, 17, 17, 192)          0         ['batch_normalization_44[0][0]\n",
            "                                                                    ']                            \n",
            "                                                                                                  \n",
            " activation_43 (Activation)  (None, 17, 17, 192)          0         ['batch_normalization_47[0][0]\n",
            "                                                                    ']                            \n",
            "                                                                                                  \n",
            " activation_48 (Activation)  (None, 17, 17, 192)          0         ['batch_normalization_52[0][0]\n",
            "                                                                    ']                            \n",
            "                                                                                                  \n",
            " activation_49 (Activation)  (None, 17, 17, 192)          0         ['batch_normalization_53[0][0]\n",
            "                                                                    ']                            \n",
            "                                                                                                  \n",
            " mixed5 (Concatenate)        (None, 17, 17, 768)          0         ['activation_40[0][0]',       \n",
            "                                                                     'activation_43[0][0]',       \n",
            "                                                                     'activation_48[0][0]',       \n",
            "                                                                     'activation_49[0][0]']       \n",
            "                                                                                                  \n",
            " conv2d_58 (Conv2D)          (None, 17, 17, 160)          122880    ['mixed5[0][0]']              \n",
            "                                                                                                  \n",
            " batch_normalization_58 (Ba  (None, 17, 17, 160)          480       ['conv2d_58[0][0]']           \n",
            " tchNormalization)                                                                                \n",
            "                                                                                                  \n",
            " activation_54 (Activation)  (None, 17, 17, 160)          0         ['batch_normalization_58[0][0]\n",
            "                                                                    ']                            \n",
            "                                                                                                  \n",
            " conv2d_59 (Conv2D)          (None, 17, 17, 160)          179200    ['activation_54[0][0]']       \n",
            "                                                                                                  \n",
            " batch_normalization_59 (Ba  (None, 17, 17, 160)          480       ['conv2d_59[0][0]']           \n",
            " tchNormalization)                                                                                \n",
            "                                                                                                  \n",
            " activation_55 (Activation)  (None, 17, 17, 160)          0         ['batch_normalization_59[0][0]\n",
            "                                                                    ']                            \n",
            "                                                                                                  \n",
            " conv2d_55 (Conv2D)          (None, 17, 17, 160)          122880    ['mixed5[0][0]']              \n",
            "                                                                                                  \n",
            " conv2d_60 (Conv2D)          (None, 17, 17, 160)          179200    ['activation_55[0][0]']       \n",
            "                                                                                                  \n",
            " batch_normalization_55 (Ba  (None, 17, 17, 160)          480       ['conv2d_55[0][0]']           \n",
            " tchNormalization)                                                                                \n",
            "                                                                                                  \n",
            " batch_normalization_60 (Ba  (None, 17, 17, 160)          480       ['conv2d_60[0][0]']           \n",
            " tchNormalization)                                                                                \n",
            "                                                                                                  \n",
            " activation_51 (Activation)  (None, 17, 17, 160)          0         ['batch_normalization_55[0][0]\n",
            "                                                                    ']                            \n",
            "                                                                                                  \n",
            " activation_56 (Activation)  (None, 17, 17, 160)          0         ['batch_normalization_60[0][0]\n",
            "                                                                    ']                            \n",
            "                                                                                                  \n",
            " conv2d_56 (Conv2D)          (None, 17, 17, 160)          179200    ['activation_51[0][0]']       \n",
            "                                                                                                  \n",
            " conv2d_61 (Conv2D)          (None, 17, 17, 160)          179200    ['activation_56[0][0]']       \n",
            "                                                                                                  \n",
            " batch_normalization_56 (Ba  (None, 17, 17, 160)          480       ['conv2d_56[0][0]']           \n",
            " tchNormalization)                                                                                \n",
            "                                                                                                  \n",
            " batch_normalization_61 (Ba  (None, 17, 17, 160)          480       ['conv2d_61[0][0]']           \n",
            " tchNormalization)                                                                                \n",
            "                                                                                                  \n",
            " activation_52 (Activation)  (None, 17, 17, 160)          0         ['batch_normalization_56[0][0]\n",
            "                                                                    ']                            \n",
            "                                                                                                  \n",
            " activation_57 (Activation)  (None, 17, 17, 160)          0         ['batch_normalization_61[0][0]\n",
            "                                                                    ']                            \n",
            "                                                                                                  \n",
            " average_pooling2d_5 (Avera  (None, 17, 17, 768)          0         ['mixed5[0][0]']              \n",
            " gePooling2D)                                                                                     \n",
            "                                                                                                  \n",
            " conv2d_54 (Conv2D)          (None, 17, 17, 192)          147456    ['mixed5[0][0]']              \n",
            "                                                                                                  \n",
            " conv2d_57 (Conv2D)          (None, 17, 17, 192)          215040    ['activation_52[0][0]']       \n",
            "                                                                                                  \n",
            " conv2d_62 (Conv2D)          (None, 17, 17, 192)          215040    ['activation_57[0][0]']       \n",
            "                                                                                                  \n",
            " conv2d_63 (Conv2D)          (None, 17, 17, 192)          147456    ['average_pooling2d_5[0][0]'] \n",
            "                                                                                                  \n",
            " batch_normalization_54 (Ba  (None, 17, 17, 192)          576       ['conv2d_54[0][0]']           \n",
            " tchNormalization)                                                                                \n",
            "                                                                                                  \n",
            " batch_normalization_57 (Ba  (None, 17, 17, 192)          576       ['conv2d_57[0][0]']           \n",
            " tchNormalization)                                                                                \n",
            "                                                                                                  \n",
            " batch_normalization_62 (Ba  (None, 17, 17, 192)          576       ['conv2d_62[0][0]']           \n",
            " tchNormalization)                                                                                \n",
            "                                                                                                  \n",
            " batch_normalization_63 (Ba  (None, 17, 17, 192)          576       ['conv2d_63[0][0]']           \n",
            " tchNormalization)                                                                                \n",
            "                                                                                                  \n",
            " activation_50 (Activation)  (None, 17, 17, 192)          0         ['batch_normalization_54[0][0]\n",
            "                                                                    ']                            \n",
            "                                                                                                  \n",
            " activation_53 (Activation)  (None, 17, 17, 192)          0         ['batch_normalization_57[0][0]\n",
            "                                                                    ']                            \n",
            "                                                                                                  \n",
            " activation_58 (Activation)  (None, 17, 17, 192)          0         ['batch_normalization_62[0][0]\n",
            "                                                                    ']                            \n",
            "                                                                                                  \n",
            " activation_59 (Activation)  (None, 17, 17, 192)          0         ['batch_normalization_63[0][0]\n",
            "                                                                    ']                            \n",
            "                                                                                                  \n",
            " mixed6 (Concatenate)        (None, 17, 17, 768)          0         ['activation_50[0][0]',       \n",
            "                                                                     'activation_53[0][0]',       \n",
            "                                                                     'activation_58[0][0]',       \n",
            "                                                                     'activation_59[0][0]']       \n",
            "                                                                                                  \n",
            " conv2d_68 (Conv2D)          (None, 17, 17, 192)          147456    ['mixed6[0][0]']              \n",
            "                                                                                                  \n",
            " batch_normalization_68 (Ba  (None, 17, 17, 192)          576       ['conv2d_68[0][0]']           \n",
            " tchNormalization)                                                                                \n",
            "                                                                                                  \n",
            " activation_64 (Activation)  (None, 17, 17, 192)          0         ['batch_normalization_68[0][0]\n",
            "                                                                    ']                            \n",
            "                                                                                                  \n",
            " conv2d_69 (Conv2D)          (None, 17, 17, 192)          258048    ['activation_64[0][0]']       \n",
            "                                                                                                  \n",
            " batch_normalization_69 (Ba  (None, 17, 17, 192)          576       ['conv2d_69[0][0]']           \n",
            " tchNormalization)                                                                                \n",
            "                                                                                                  \n",
            " activation_65 (Activation)  (None, 17, 17, 192)          0         ['batch_normalization_69[0][0]\n",
            "                                                                    ']                            \n",
            "                                                                                                  \n",
            " conv2d_65 (Conv2D)          (None, 17, 17, 192)          147456    ['mixed6[0][0]']              \n",
            "                                                                                                  \n",
            " conv2d_70 (Conv2D)          (None, 17, 17, 192)          258048    ['activation_65[0][0]']       \n",
            "                                                                                                  \n",
            " batch_normalization_65 (Ba  (None, 17, 17, 192)          576       ['conv2d_65[0][0]']           \n",
            " tchNormalization)                                                                                \n",
            "                                                                                                  \n",
            " batch_normalization_70 (Ba  (None, 17, 17, 192)          576       ['conv2d_70[0][0]']           \n",
            " tchNormalization)                                                                                \n",
            "                                                                                                  \n",
            " activation_61 (Activation)  (None, 17, 17, 192)          0         ['batch_normalization_65[0][0]\n",
            "                                                                    ']                            \n",
            "                                                                                                  \n",
            " activation_66 (Activation)  (None, 17, 17, 192)          0         ['batch_normalization_70[0][0]\n",
            "                                                                    ']                            \n",
            "                                                                                                  \n",
            " conv2d_66 (Conv2D)          (None, 17, 17, 192)          258048    ['activation_61[0][0]']       \n",
            "                                                                                                  \n",
            " conv2d_71 (Conv2D)          (None, 17, 17, 192)          258048    ['activation_66[0][0]']       \n",
            "                                                                                                  \n",
            " batch_normalization_66 (Ba  (None, 17, 17, 192)          576       ['conv2d_66[0][0]']           \n",
            " tchNormalization)                                                                                \n",
            "                                                                                                  \n",
            " batch_normalization_71 (Ba  (None, 17, 17, 192)          576       ['conv2d_71[0][0]']           \n",
            " tchNormalization)                                                                                \n",
            "                                                                                                  \n",
            " activation_62 (Activation)  (None, 17, 17, 192)          0         ['batch_normalization_66[0][0]\n",
            "                                                                    ']                            \n",
            "                                                                                                  \n",
            " activation_67 (Activation)  (None, 17, 17, 192)          0         ['batch_normalization_71[0][0]\n",
            "                                                                    ']                            \n",
            "                                                                                                  \n",
            " average_pooling2d_6 (Avera  (None, 17, 17, 768)          0         ['mixed6[0][0]']              \n",
            " gePooling2D)                                                                                     \n",
            "                                                                                                  \n",
            " conv2d_64 (Conv2D)          (None, 17, 17, 192)          147456    ['mixed6[0][0]']              \n",
            "                                                                                                  \n",
            " conv2d_67 (Conv2D)          (None, 17, 17, 192)          258048    ['activation_62[0][0]']       \n",
            "                                                                                                  \n",
            " conv2d_72 (Conv2D)          (None, 17, 17, 192)          258048    ['activation_67[0][0]']       \n",
            "                                                                                                  \n",
            " conv2d_73 (Conv2D)          (None, 17, 17, 192)          147456    ['average_pooling2d_6[0][0]'] \n",
            "                                                                                                  \n",
            " batch_normalization_64 (Ba  (None, 17, 17, 192)          576       ['conv2d_64[0][0]']           \n",
            " tchNormalization)                                                                                \n",
            "                                                                                                  \n",
            " batch_normalization_67 (Ba  (None, 17, 17, 192)          576       ['conv2d_67[0][0]']           \n",
            " tchNormalization)                                                                                \n",
            "                                                                                                  \n",
            " batch_normalization_72 (Ba  (None, 17, 17, 192)          576       ['conv2d_72[0][0]']           \n",
            " tchNormalization)                                                                                \n",
            "                                                                                                  \n",
            " batch_normalization_73 (Ba  (None, 17, 17, 192)          576       ['conv2d_73[0][0]']           \n",
            " tchNormalization)                                                                                \n",
            "                                                                                                  \n",
            " activation_60 (Activation)  (None, 17, 17, 192)          0         ['batch_normalization_64[0][0]\n",
            "                                                                    ']                            \n",
            "                                                                                                  \n",
            " activation_63 (Activation)  (None, 17, 17, 192)          0         ['batch_normalization_67[0][0]\n",
            "                                                                    ']                            \n",
            "                                                                                                  \n",
            " activation_68 (Activation)  (None, 17, 17, 192)          0         ['batch_normalization_72[0][0]\n",
            "                                                                    ']                            \n",
            "                                                                                                  \n",
            " activation_69 (Activation)  (None, 17, 17, 192)          0         ['batch_normalization_73[0][0]\n",
            "                                                                    ']                            \n",
            "                                                                                                  \n",
            " mixed7 (Concatenate)        (None, 17, 17, 768)          0         ['activation_60[0][0]',       \n",
            "                                                                     'activation_63[0][0]',       \n",
            "                                                                     'activation_68[0][0]',       \n",
            "                                                                     'activation_69[0][0]']       \n",
            "                                                                                                  \n",
            " conv2d_76 (Conv2D)          (None, 17, 17, 192)          147456    ['mixed7[0][0]']              \n",
            "                                                                                                  \n",
            " batch_normalization_76 (Ba  (None, 17, 17, 192)          576       ['conv2d_76[0][0]']           \n",
            " tchNormalization)                                                                                \n",
            "                                                                                                  \n",
            " activation_72 (Activation)  (None, 17, 17, 192)          0         ['batch_normalization_76[0][0]\n",
            "                                                                    ']                            \n",
            "                                                                                                  \n",
            " conv2d_77 (Conv2D)          (None, 17, 17, 192)          258048    ['activation_72[0][0]']       \n",
            "                                                                                                  \n",
            " batch_normalization_77 (Ba  (None, 17, 17, 192)          576       ['conv2d_77[0][0]']           \n",
            " tchNormalization)                                                                                \n",
            "                                                                                                  \n",
            " activation_73 (Activation)  (None, 17, 17, 192)          0         ['batch_normalization_77[0][0]\n",
            "                                                                    ']                            \n",
            "                                                                                                  \n",
            " conv2d_74 (Conv2D)          (None, 17, 17, 192)          147456    ['mixed7[0][0]']              \n",
            "                                                                                                  \n",
            " conv2d_78 (Conv2D)          (None, 17, 17, 192)          258048    ['activation_73[0][0]']       \n",
            "                                                                                                  \n",
            " batch_normalization_74 (Ba  (None, 17, 17, 192)          576       ['conv2d_74[0][0]']           \n",
            " tchNormalization)                                                                                \n",
            "                                                                                                  \n",
            " batch_normalization_78 (Ba  (None, 17, 17, 192)          576       ['conv2d_78[0][0]']           \n",
            " tchNormalization)                                                                                \n",
            "                                                                                                  \n",
            " activation_70 (Activation)  (None, 17, 17, 192)          0         ['batch_normalization_74[0][0]\n",
            "                                                                    ']                            \n",
            "                                                                                                  \n",
            " activation_74 (Activation)  (None, 17, 17, 192)          0         ['batch_normalization_78[0][0]\n",
            "                                                                    ']                            \n",
            "                                                                                                  \n",
            " conv2d_75 (Conv2D)          (None, 8, 8, 320)            552960    ['activation_70[0][0]']       \n",
            "                                                                                                  \n",
            " conv2d_79 (Conv2D)          (None, 8, 8, 192)            331776    ['activation_74[0][0]']       \n",
            "                                                                                                  \n",
            " batch_normalization_75 (Ba  (None, 8, 8, 320)            960       ['conv2d_75[0][0]']           \n",
            " tchNormalization)                                                                                \n",
            "                                                                                                  \n",
            " batch_normalization_79 (Ba  (None, 8, 8, 192)            576       ['conv2d_79[0][0]']           \n",
            " tchNormalization)                                                                                \n",
            "                                                                                                  \n",
            " activation_71 (Activation)  (None, 8, 8, 320)            0         ['batch_normalization_75[0][0]\n",
            "                                                                    ']                            \n",
            "                                                                                                  \n",
            " activation_75 (Activation)  (None, 8, 8, 192)            0         ['batch_normalization_79[0][0]\n",
            "                                                                    ']                            \n",
            "                                                                                                  \n",
            " max_pooling2d_3 (MaxPoolin  (None, 8, 8, 768)            0         ['mixed7[0][0]']              \n",
            " g2D)                                                                                             \n",
            "                                                                                                  \n",
            " mixed8 (Concatenate)        (None, 8, 8, 1280)           0         ['activation_71[0][0]',       \n",
            "                                                                     'activation_75[0][0]',       \n",
            "                                                                     'max_pooling2d_3[0][0]']     \n",
            "                                                                                                  \n",
            " conv2d_84 (Conv2D)          (None, 8, 8, 448)            573440    ['mixed8[0][0]']              \n",
            "                                                                                                  \n",
            " batch_normalization_84 (Ba  (None, 8, 8, 448)            1344      ['conv2d_84[0][0]']           \n",
            " tchNormalization)                                                                                \n",
            "                                                                                                  \n",
            " activation_80 (Activation)  (None, 8, 8, 448)            0         ['batch_normalization_84[0][0]\n",
            "                                                                    ']                            \n",
            "                                                                                                  \n",
            " conv2d_81 (Conv2D)          (None, 8, 8, 384)            491520    ['mixed8[0][0]']              \n",
            "                                                                                                  \n",
            " conv2d_85 (Conv2D)          (None, 8, 8, 384)            1548288   ['activation_80[0][0]']       \n",
            "                                                                                                  \n",
            " batch_normalization_81 (Ba  (None, 8, 8, 384)            1152      ['conv2d_81[0][0]']           \n",
            " tchNormalization)                                                                                \n",
            "                                                                                                  \n",
            " batch_normalization_85 (Ba  (None, 8, 8, 384)            1152      ['conv2d_85[0][0]']           \n",
            " tchNormalization)                                                                                \n",
            "                                                                                                  \n",
            " activation_77 (Activation)  (None, 8, 8, 384)            0         ['batch_normalization_81[0][0]\n",
            "                                                                    ']                            \n",
            "                                                                                                  \n",
            " activation_81 (Activation)  (None, 8, 8, 384)            0         ['batch_normalization_85[0][0]\n",
            "                                                                    ']                            \n",
            "                                                                                                  \n",
            " conv2d_82 (Conv2D)          (None, 8, 8, 384)            442368    ['activation_77[0][0]']       \n",
            "                                                                                                  \n",
            " conv2d_83 (Conv2D)          (None, 8, 8, 384)            442368    ['activation_77[0][0]']       \n",
            "                                                                                                  \n",
            " conv2d_86 (Conv2D)          (None, 8, 8, 384)            442368    ['activation_81[0][0]']       \n",
            "                                                                                                  \n",
            " conv2d_87 (Conv2D)          (None, 8, 8, 384)            442368    ['activation_81[0][0]']       \n",
            "                                                                                                  \n",
            " average_pooling2d_7 (Avera  (None, 8, 8, 1280)           0         ['mixed8[0][0]']              \n",
            " gePooling2D)                                                                                     \n",
            "                                                                                                  \n",
            " conv2d_80 (Conv2D)          (None, 8, 8, 320)            409600    ['mixed8[0][0]']              \n",
            "                                                                                                  \n",
            " batch_normalization_82 (Ba  (None, 8, 8, 384)            1152      ['conv2d_82[0][0]']           \n",
            " tchNormalization)                                                                                \n",
            "                                                                                                  \n",
            " batch_normalization_83 (Ba  (None, 8, 8, 384)            1152      ['conv2d_83[0][0]']           \n",
            " tchNormalization)                                                                                \n",
            "                                                                                                  \n",
            " batch_normalization_86 (Ba  (None, 8, 8, 384)            1152      ['conv2d_86[0][0]']           \n",
            " tchNormalization)                                                                                \n",
            "                                                                                                  \n",
            " batch_normalization_87 (Ba  (None, 8, 8, 384)            1152      ['conv2d_87[0][0]']           \n",
            " tchNormalization)                                                                                \n",
            "                                                                                                  \n",
            " conv2d_88 (Conv2D)          (None, 8, 8, 192)            245760    ['average_pooling2d_7[0][0]'] \n",
            "                                                                                                  \n",
            " batch_normalization_80 (Ba  (None, 8, 8, 320)            960       ['conv2d_80[0][0]']           \n",
            " tchNormalization)                                                                                \n",
            "                                                                                                  \n",
            " activation_78 (Activation)  (None, 8, 8, 384)            0         ['batch_normalization_82[0][0]\n",
            "                                                                    ']                            \n",
            "                                                                                                  \n",
            " activation_79 (Activation)  (None, 8, 8, 384)            0         ['batch_normalization_83[0][0]\n",
            "                                                                    ']                            \n",
            "                                                                                                  \n",
            " activation_82 (Activation)  (None, 8, 8, 384)            0         ['batch_normalization_86[0][0]\n",
            "                                                                    ']                            \n",
            "                                                                                                  \n",
            " activation_83 (Activation)  (None, 8, 8, 384)            0         ['batch_normalization_87[0][0]\n",
            "                                                                    ']                            \n",
            "                                                                                                  \n",
            " batch_normalization_88 (Ba  (None, 8, 8, 192)            576       ['conv2d_88[0][0]']           \n",
            " tchNormalization)                                                                                \n",
            "                                                                                                  \n",
            " activation_76 (Activation)  (None, 8, 8, 320)            0         ['batch_normalization_80[0][0]\n",
            "                                                                    ']                            \n",
            "                                                                                                  \n",
            " mixed9_0 (Concatenate)      (None, 8, 8, 768)            0         ['activation_78[0][0]',       \n",
            "                                                                     'activation_79[0][0]']       \n",
            "                                                                                                  \n",
            " concatenate (Concatenate)   (None, 8, 8, 768)            0         ['activation_82[0][0]',       \n",
            "                                                                     'activation_83[0][0]']       \n",
            "                                                                                                  \n",
            " activation_84 (Activation)  (None, 8, 8, 192)            0         ['batch_normalization_88[0][0]\n",
            "                                                                    ']                            \n",
            "                                                                                                  \n",
            " mixed9 (Concatenate)        (None, 8, 8, 2048)           0         ['activation_76[0][0]',       \n",
            "                                                                     'mixed9_0[0][0]',            \n",
            "                                                                     'concatenate[0][0]',         \n",
            "                                                                     'activation_84[0][0]']       \n",
            "                                                                                                  \n",
            " conv2d_93 (Conv2D)          (None, 8, 8, 448)            917504    ['mixed9[0][0]']              \n",
            "                                                                                                  \n",
            " batch_normalization_93 (Ba  (None, 8, 8, 448)            1344      ['conv2d_93[0][0]']           \n",
            " tchNormalization)                                                                                \n",
            "                                                                                                  \n",
            " activation_89 (Activation)  (None, 8, 8, 448)            0         ['batch_normalization_93[0][0]\n",
            "                                                                    ']                            \n",
            "                                                                                                  \n",
            " conv2d_90 (Conv2D)          (None, 8, 8, 384)            786432    ['mixed9[0][0]']              \n",
            "                                                                                                  \n",
            " conv2d_94 (Conv2D)          (None, 8, 8, 384)            1548288   ['activation_89[0][0]']       \n",
            "                                                                                                  \n",
            " batch_normalization_90 (Ba  (None, 8, 8, 384)            1152      ['conv2d_90[0][0]']           \n",
            " tchNormalization)                                                                                \n",
            "                                                                                                  \n",
            " batch_normalization_94 (Ba  (None, 8, 8, 384)            1152      ['conv2d_94[0][0]']           \n",
            " tchNormalization)                                                                                \n",
            "                                                                                                  \n",
            " activation_86 (Activation)  (None, 8, 8, 384)            0         ['batch_normalization_90[0][0]\n",
            "                                                                    ']                            \n",
            "                                                                                                  \n",
            " activation_90 (Activation)  (None, 8, 8, 384)            0         ['batch_normalization_94[0][0]\n",
            "                                                                    ']                            \n",
            "                                                                                                  \n",
            " conv2d_91 (Conv2D)          (None, 8, 8, 384)            442368    ['activation_86[0][0]']       \n",
            "                                                                                                  \n",
            " conv2d_92 (Conv2D)          (None, 8, 8, 384)            442368    ['activation_86[0][0]']       \n",
            "                                                                                                  \n",
            " conv2d_95 (Conv2D)          (None, 8, 8, 384)            442368    ['activation_90[0][0]']       \n",
            "                                                                                                  \n",
            " conv2d_96 (Conv2D)          (None, 8, 8, 384)            442368    ['activation_90[0][0]']       \n",
            "                                                                                                  \n",
            " average_pooling2d_8 (Avera  (None, 8, 8, 2048)           0         ['mixed9[0][0]']              \n",
            " gePooling2D)                                                                                     \n",
            "                                                                                                  \n",
            " conv2d_89 (Conv2D)          (None, 8, 8, 320)            655360    ['mixed9[0][0]']              \n",
            "                                                                                                  \n",
            " batch_normalization_91 (Ba  (None, 8, 8, 384)            1152      ['conv2d_91[0][0]']           \n",
            " tchNormalization)                                                                                \n",
            "                                                                                                  \n",
            " batch_normalization_92 (Ba  (None, 8, 8, 384)            1152      ['conv2d_92[0][0]']           \n",
            " tchNormalization)                                                                                \n",
            "                                                                                                  \n",
            " batch_normalization_95 (Ba  (None, 8, 8, 384)            1152      ['conv2d_95[0][0]']           \n",
            " tchNormalization)                                                                                \n",
            "                                                                                                  \n",
            " batch_normalization_96 (Ba  (None, 8, 8, 384)            1152      ['conv2d_96[0][0]']           \n",
            " tchNormalization)                                                                                \n",
            "                                                                                                  \n",
            " conv2d_97 (Conv2D)          (None, 8, 8, 192)            393216    ['average_pooling2d_8[0][0]'] \n",
            "                                                                                                  \n",
            " batch_normalization_89 (Ba  (None, 8, 8, 320)            960       ['conv2d_89[0][0]']           \n",
            " tchNormalization)                                                                                \n",
            "                                                                                                  \n",
            " activation_87 (Activation)  (None, 8, 8, 384)            0         ['batch_normalization_91[0][0]\n",
            "                                                                    ']                            \n",
            "                                                                                                  \n",
            " activation_88 (Activation)  (None, 8, 8, 384)            0         ['batch_normalization_92[0][0]\n",
            "                                                                    ']                            \n",
            "                                                                                                  \n",
            " activation_91 (Activation)  (None, 8, 8, 384)            0         ['batch_normalization_95[0][0]\n",
            "                                                                    ']                            \n",
            "                                                                                                  \n",
            " activation_92 (Activation)  (None, 8, 8, 384)            0         ['batch_normalization_96[0][0]\n",
            "                                                                    ']                            \n",
            "                                                                                                  \n",
            " batch_normalization_97 (Ba  (None, 8, 8, 192)            576       ['conv2d_97[0][0]']           \n",
            " tchNormalization)                                                                                \n",
            "                                                                                                  \n",
            " activation_85 (Activation)  (None, 8, 8, 320)            0         ['batch_normalization_89[0][0]\n",
            "                                                                    ']                            \n",
            "                                                                                                  \n",
            " mixed9_1 (Concatenate)      (None, 8, 8, 768)            0         ['activation_87[0][0]',       \n",
            "                                                                     'activation_88[0][0]']       \n",
            "                                                                                                  \n",
            " concatenate_1 (Concatenate  (None, 8, 8, 768)            0         ['activation_91[0][0]',       \n",
            " )                                                                   'activation_92[0][0]']       \n",
            "                                                                                                  \n",
            " activation_93 (Activation)  (None, 8, 8, 192)            0         ['batch_normalization_97[0][0]\n",
            "                                                                    ']                            \n",
            "                                                                                                  \n",
            " mixed10 (Concatenate)       (None, 8, 8, 2048)           0         ['activation_85[0][0]',       \n",
            "                                                                     'mixed9_1[0][0]',            \n",
            "                                                                     'concatenate_1[0][0]',       \n",
            "                                                                     'activation_93[0][0]']       \n",
            "                                                                                                  \n",
            " avg_pool (GlobalAveragePoo  (None, 2048)                 0         ['mixed10[0][0]']             \n",
            " ling2D)                                                                                          \n",
            "                                                                                                  \n",
            " predictions (Dense)         (None, 1)                    2049      ['avg_pool[0][0]']            \n",
            "                                                                                                  \n",
            "==================================================================================================\n",
            "Total params: 21804833 (83.18 MB)\n",
            "Trainable params: 2049 (8.00 KB)\n",
            "Non-trainable params: 21802784 (83.17 MB)\n",
            "__________________________________________________________________________________________________\n"
          ]
        }
      ],
      "source": [
        "import keras\n",
        "from tensorflow.keras.models import Model\n",
        "inv3 = keras.applications.InceptionV3(\n",
        "    include_top=True,\n",
        "    weights=\"imagenet\",\n",
        "    input_tensor=None,\n",
        "    input_shape=None,\n",
        "    pooling=None\n",
        "    )\n",
        "\n",
        "# Freeze the layers so that they are not trained during model fitting. We want to keep the imagenet weights\n",
        "for layer in inv3.layers:\n",
        "    layer.trainable=False\n",
        "\n",
        "# Change the final dense layer to 1 node (sigmoid activation) for binary classification\n",
        "# could do 2 nodes and determine the probabilities of each class using SoftMax, but we used Sigmoid for our simple ConvNet\n",
        "x = inv3.layers[-2].output\n",
        "output_layer = Dense(1, activation='sigmoid', name='predictions')(x)\n",
        "\n",
        "# Combine the output layer to the original model\n",
        "insulinv3 = Model(inputs=inv3.input, outputs=output_layer)\n",
        "\n",
        "# Sanity check: Print out the model summary. The final layer should have 1 neuron only (again, using sigmoid activation)\n",
        "insulinv3.summary()\n",
        "\n",
        "# Compile the modified vgg model with the following hyperparameters (same as simple ConvNet)\n",
        "# In future try different learning rates for the adam 'adaptive moment estimation'\n",
        "insulinv3.compile(optimizer='adam', loss='binary_crossentropy', metrics=['accuracy'])"
      ]
    },
    {
      "cell_type": "code",
      "execution_count": null,
      "metadata": {
        "colab": {
          "base_uri": "https://localhost:8080/"
        },
        "id": "ZQVO_dDd5NuR",
        "outputId": "b7a65cf4-bfd5-41a6-c497-76692c9974d5"
      },
      "outputs": [
        {
          "name": "stderr",
          "output_type": "stream",
          "text": [
            "<ipython-input-15-b6987af1b20a>:1: UserWarning: `Model.fit_generator` is deprecated and will be removed in a future version. Please use `Model.fit`, which supports generators.\n",
            "  insulinv3history = insulinv3.fit_generator(\n"
          ]
        },
        {
          "name": "stdout",
          "output_type": "stream",
          "text": [
            "Epoch 1/15\n",
            "17/17 [==============================] - 141s 7s/step - loss: 0.2901 - accuracy: 0.8643\n",
            "Epoch 2/15\n",
            "17/17 [==============================] - 128s 7s/step - loss: 0.1658 - accuracy: 0.9290\n",
            "Epoch 3/15\n",
            "17/17 [==============================] - 127s 7s/step - loss: 0.1268 - accuracy: 0.9551\n",
            "Epoch 4/15\n",
            "17/17 [==============================] - 127s 7s/step - loss: 0.1032 - accuracy: 0.9650\n",
            "Epoch 5/15\n",
            "17/17 [==============================] - 129s 8s/step - loss: 0.0917 - accuracy: 0.9742\n",
            "Epoch 6/15\n",
            "17/17 [==============================] - 131s 8s/step - loss: 0.0810 - accuracy: 0.9748\n",
            "Epoch 7/15\n",
            "17/17 [==============================] - 132s 8s/step - loss: 0.0719 - accuracy: 0.9807\n",
            "Epoch 8/15\n",
            "17/17 [==============================] - 130s 8s/step - loss: 0.0653 - accuracy: 0.9807\n",
            "Epoch 9/15\n",
            "17/17 [==============================] - 129s 8s/step - loss: 0.0604 - accuracy: 0.9843\n",
            "Epoch 10/15\n",
            "17/17 [==============================] - 132s 8s/step - loss: 0.0574 - accuracy: 0.9843\n",
            "Epoch 11/15\n",
            "17/17 [==============================] - 129s 8s/step - loss: 0.0536 - accuracy: 0.9847\n",
            "Epoch 12/15\n",
            "17/17 [==============================] - 137s 8s/step - loss: 0.0488 - accuracy: 0.9874\n",
            "Epoch 13/15\n",
            "17/17 [==============================] - 130s 8s/step - loss: 0.0474 - accuracy: 0.9879\n",
            "Epoch 14/15\n",
            "17/17 [==============================] - 133s 8s/step - loss: 0.0434 - accuracy: 0.9906\n",
            "Epoch 15/15\n",
            "17/17 [==============================] - 134s 8s/step - loss: 0.0420 - accuracy: 0.9915\n"
          ]
        }
      ],
      "source": [
        "insulinv3history = insulinv3.fit_generator(\n",
        "    train_data_gen,\n",
        "    steps_per_epoch=total_train // batch_size,\n",
        "    epochs=epochs\n",
        ")"
      ]
    },
    {
      "cell_type": "code",
      "execution_count": null,
      "metadata": {
        "colab": {
          "base_uri": "https://localhost:8080/"
        },
        "id": "OqHuc5aO5X7E",
        "outputId": "df62eeb0-c363-41df-c259-df25320fcd17"
      },
      "outputs": [
        {
          "name": "stdout",
          "output_type": "stream",
          "text": [
            "2/2 - 24s - loss: 0.1009 - accuracy: 0.9714 - 24s/epoch - 12s/step\n"
          ]
        }
      ],
      "source": [
        "insulinv3.save('gdrive/My Drive/Colab Notebooks/insulinv3.h5')\n",
        "insulinv3.evaluate(test_data_gen,steps=len(test_data_gen),verbose=2)\n",
        "f1=open('gdrive/My Drive/Colab Notebooks/insulinv3modelOutput.txt', 'w')\n",
        "f1.write(\"InceptionV3\\n\")\n",
        "f1.write(str(insulinv3history.history))\n",
        "f1.close()"
      ]
    },
    {
      "cell_type": "markdown",
      "metadata": {
        "id": "LJRurtRW6O5-"
      },
      "source": [
        "# VGG19"
      ]
    },
    {
      "cell_type": "code",
      "execution_count": null,
      "metadata": {
        "id": "vNakrfeU6RH9"
      },
      "outputs": [],
      "source": []
    },
    {
      "cell_type": "code",
      "execution_count": null,
      "metadata": {
        "colab": {
          "base_uri": "https://localhost:8080/"
        },
        "id": "dNCNjpyjwszN",
        "outputId": "682eb26b-3a57-4ad6-883a-a141620da3c9"
      },
      "outputs": [
        {
          "name": "stdout",
          "output_type": "stream",
          "text": [
            "Downloading data from https://storage.googleapis.com/tensorflow/keras-applications/vgg19/vgg19_weights_tf_dim_ordering_tf_kernels.h5\n",
            "574710816/574710816 [==============================] - 4s 0us/step\n",
            "Model: \"model_2\"\n",
            "_________________________________________________________________\n",
            " Layer (type)                Output Shape              Param #   \n",
            "=================================================================\n",
            " input_3 (InputLayer)        [(None, 224, 224, 3)]     0         \n",
            "                                                                 \n",
            " block1_conv1 (Conv2D)       (None, 224, 224, 64)      1792      \n",
            "                                                                 \n",
            " block1_conv2 (Conv2D)       (None, 224, 224, 64)      36928     \n",
            "                                                                 \n",
            " block1_pool (MaxPooling2D)  (None, 112, 112, 64)      0         \n",
            "                                                                 \n",
            " block2_conv1 (Conv2D)       (None, 112, 112, 128)     73856     \n",
            "                                                                 \n",
            " block2_conv2 (Conv2D)       (None, 112, 112, 128)     147584    \n",
            "                                                                 \n",
            " block2_pool (MaxPooling2D)  (None, 56, 56, 128)       0         \n",
            "                                                                 \n",
            " block3_conv1 (Conv2D)       (None, 56, 56, 256)       295168    \n",
            "                                                                 \n",
            " block3_conv2 (Conv2D)       (None, 56, 56, 256)       590080    \n",
            "                                                                 \n",
            " block3_conv3 (Conv2D)       (None, 56, 56, 256)       590080    \n",
            "                                                                 \n",
            " block3_conv4 (Conv2D)       (None, 56, 56, 256)       590080    \n",
            "                                                                 \n",
            " block3_pool (MaxPooling2D)  (None, 28, 28, 256)       0         \n",
            "                                                                 \n",
            " block4_conv1 (Conv2D)       (None, 28, 28, 512)       1180160   \n",
            "                                                                 \n",
            " block4_conv2 (Conv2D)       (None, 28, 28, 512)       2359808   \n",
            "                                                                 \n",
            " block4_conv3 (Conv2D)       (None, 28, 28, 512)       2359808   \n",
            "                                                                 \n",
            " block4_conv4 (Conv2D)       (None, 28, 28, 512)       2359808   \n",
            "                                                                 \n",
            " block4_pool (MaxPooling2D)  (None, 14, 14, 512)       0         \n",
            "                                                                 \n",
            " block5_conv1 (Conv2D)       (None, 14, 14, 512)       2359808   \n",
            "                                                                 \n",
            " block5_conv2 (Conv2D)       (None, 14, 14, 512)       2359808   \n",
            "                                                                 \n",
            " block5_conv3 (Conv2D)       (None, 14, 14, 512)       2359808   \n",
            "                                                                 \n",
            " block5_conv4 (Conv2D)       (None, 14, 14, 512)       2359808   \n",
            "                                                                 \n",
            " block5_pool (MaxPooling2D)  (None, 7, 7, 512)         0         \n",
            "                                                                 \n",
            " flatten (Flatten)           (None, 25088)             0         \n",
            "                                                                 \n",
            " fc1 (Dense)                 (None, 4096)              102764544 \n",
            "                                                                 \n",
            " fc2 (Dense)                 (None, 4096)              16781312  \n",
            "                                                                 \n",
            " predictions (Dense)         (None, 1)                 4097      \n",
            "                                                                 \n",
            "=================================================================\n",
            "Total params: 139574337 (532.43 MB)\n",
            "Trainable params: 4097 (16.00 KB)\n",
            "Non-trainable params: 139570240 (532.42 MB)\n",
            "_________________________________________________________________\n"
          ]
        }
      ],
      "source": [
        "import keras\n",
        "from tensorflow.keras.models import Model\n",
        "vggv19 = keras.applications.vgg19.VGG19(include_top=True, weights='imagenet',\n",
        "                               input_tensor=None, input_shape=(224,224,3), pooling=None) #could write input_shape=input_shape\n",
        "#vgg.summary()             # print out the model summary\n",
        "\n",
        "# Freeze the layers so that they are not trained during model fitting. We want to keep the imagenet weights\n",
        "for layer in vggv19.layers:\n",
        "    layer.trainable=False\n",
        "\n",
        "# Change the final dense layer to 1 node (sigmoid activation) for binary classification\n",
        "# could do 2 nodes and determine the probabilities of each class using SoftMax, but we used Sigmoid for our simple ConvNet\n",
        "x = vggv19.layers[-2].output\n",
        "output_layer = Dense(1, activation='sigmoid', name='predictions')(x)\n",
        "\n",
        "# Combine the output layer to the original model\n",
        "insulvgg19 = Model(inputs=vggv19.input, outputs=output_layer)\n",
        "\n",
        "# Sanity check: Print out the model summary. The final layer should have 1 neuron only (again, using sigmoid activation)\n",
        "insulvgg19.summary()\n",
        "\n",
        "# Compile the modified vgg model with the following hyperparameters (same as simple ConvNet),\n",
        "# In future try different learning rates for the adam 'adaptive moment estimation'\n",
        "insulvgg19.compile(optimizer='adam', loss='binary_crossentropy', metrics=['accuracy'])"
      ]
    },
    {
      "cell_type": "code",
      "execution_count": null,
      "metadata": {
        "colab": {
          "base_uri": "https://localhost:8080/"
        },
        "id": "P3VEU0_C6lcx",
        "outputId": "d17c823d-54e3-4a98-d080-307f524c9395"
      },
      "outputs": [
        {
          "name": "stderr",
          "output_type": "stream",
          "text": [
            "<ipython-input-18-a6a212616a10>:1: UserWarning: `Model.fit_generator` is deprecated and will be removed in a future version. Please use `Model.fit`, which supports generators.\n",
            "  insulvgg19history = insulvgg19.fit_generator(\n"
          ]
        },
        {
          "name": "stdout",
          "output_type": "stream",
          "text": [
            "Epoch 1/15\n",
            "17/17 [==============================] - 144s 7s/step - loss: 0.4965 - accuracy: 0.7713\n",
            "Epoch 2/15\n",
            "17/17 [==============================] - 133s 8s/step - loss: 0.3384 - accuracy: 0.8706\n",
            "Epoch 3/15\n",
            "17/17 [==============================] - 129s 7s/step - loss: 0.2563 - accuracy: 0.9070\n",
            "Epoch 4/15\n",
            "17/17 [==============================] - 132s 8s/step - loss: 0.2116 - accuracy: 0.9474\n",
            "Epoch 5/15\n",
            "17/17 [==============================] - 132s 8s/step - loss: 0.1805 - accuracy: 0.9596\n",
            "Epoch 6/15\n",
            "17/17 [==============================] - 133s 8s/step - loss: 0.1634 - accuracy: 0.9627\n",
            "Epoch 7/15\n",
            "17/17 [==============================] - 132s 8s/step - loss: 0.1514 - accuracy: 0.9587\n",
            "Epoch 8/15\n",
            "17/17 [==============================] - 130s 8s/step - loss: 0.1401 - accuracy: 0.9654\n",
            "Epoch 9/15\n",
            "17/17 [==============================] - 133s 8s/step - loss: 0.1290 - accuracy: 0.9690\n",
            "Epoch 10/15\n",
            "17/17 [==============================] - 133s 8s/step - loss: 0.1193 - accuracy: 0.9735\n",
            "Epoch 11/15\n",
            "17/17 [==============================] - 131s 8s/step - loss: 0.1128 - accuracy: 0.9739\n",
            "Epoch 12/15\n",
            "17/17 [==============================] - 133s 8s/step - loss: 0.1079 - accuracy: 0.9766\n",
            "Epoch 13/15\n",
            "17/17 [==============================] - 133s 8s/step - loss: 0.1038 - accuracy: 0.9762\n",
            "Epoch 14/15\n",
            "17/17 [==============================] - 133s 8s/step - loss: 0.0969 - accuracy: 0.9793\n",
            "Epoch 15/15\n",
            "17/17 [==============================] - 130s 8s/step - loss: 0.0953 - accuracy: 0.9829\n"
          ]
        }
      ],
      "source": [
        "insulvgg19history = insulvgg19.fit_generator(\n",
        "    train_data_gen,\n",
        "    steps_per_epoch=total_train // batch_size,\n",
        "    epochs=epochs\n",
        ")"
      ]
    },
    {
      "cell_type": "code",
      "execution_count": null,
      "metadata": {
        "colab": {
          "base_uri": "https://localhost:8080/"
        },
        "id": "2WUTrEv46zwb",
        "outputId": "d0e3c941-e430-47f6-86ea-9112b02c7b8a"
      },
      "outputs": [
        {
          "name": "stdout",
          "output_type": "stream",
          "text": [
            "2/2 - 26s - loss: 0.2273 - accuracy: 0.8914 - 26s/epoch - 13s/step\n"
          ]
        }
      ],
      "source": [
        "insulvgg19.save('gdrive/My Drive/Colab Notebooks/insulvgg19.h5')\n",
        "insulvgg19.evaluate(test_data_gen,steps=len(test_data_gen),verbose=2)\n",
        "f1=open('gdrive/My Drive/Colab Notebooks/insulvgg19modelOutput.txt', 'w')\n",
        "f1.write(\"VGG19\\n\")\n",
        "f1.write(str(insulvgg19history.history))\n",
        "f1.close()"
      ]
    },
    {
      "cell_type": "markdown",
      "metadata": {
        "id": "D7C6SEJjSmwi"
      },
      "source": [
        "# Hybrid Method - Model Merging"
      ]
    },
    {
      "cell_type": "code",
      "execution_count": null,
      "metadata": {
        "colab": {
          "base_uri": "https://localhost:8080/",
          "height": 73
        },
        "id": "ICyrFLIFsFlo",
        "outputId": "5097fd53-f59b-4ae9-9dcd-80bb936b0298"
      },
      "outputs": [
        {
          "data": {
            "text/html": [
              "\n",
              "     <input type=\"file\" id=\"files-9dc5b438-78c6-4186-b689-86a6229df9c2\" name=\"files[]\" multiple disabled\n",
              "        style=\"border:none\" />\n",
              "     <output id=\"result-9dc5b438-78c6-4186-b689-86a6229df9c2\">\n",
              "      Upload widget is only available when the cell has been executed in the\n",
              "      current browser session. Please rerun this cell to enable.\n",
              "      </output>\n",
              "      <script>// Copyright 2017 Google LLC\n",
              "//\n",
              "// Licensed under the Apache License, Version 2.0 (the \"License\");\n",
              "// you may not use this file except in compliance with the License.\n",
              "// You may obtain a copy of the License at\n",
              "//\n",
              "//      http://www.apache.org/licenses/LICENSE-2.0\n",
              "//\n",
              "// Unless required by applicable law or agreed to in writing, software\n",
              "// distributed under the License is distributed on an \"AS IS\" BASIS,\n",
              "// WITHOUT WARRANTIES OR CONDITIONS OF ANY KIND, either express or implied.\n",
              "// See the License for the specific language governing permissions and\n",
              "// limitations under the License.\n",
              "\n",
              "/**\n",
              " * @fileoverview Helpers for google.colab Python module.\n",
              " */\n",
              "(function(scope) {\n",
              "function span(text, styleAttributes = {}) {\n",
              "  const element = document.createElement('span');\n",
              "  element.textContent = text;\n",
              "  for (const key of Object.keys(styleAttributes)) {\n",
              "    element.style[key] = styleAttributes[key];\n",
              "  }\n",
              "  return element;\n",
              "}\n",
              "\n",
              "// Max number of bytes which will be uploaded at a time.\n",
              "const MAX_PAYLOAD_SIZE = 100 * 1024;\n",
              "\n",
              "function _uploadFiles(inputId, outputId) {\n",
              "  const steps = uploadFilesStep(inputId, outputId);\n",
              "  const outputElement = document.getElementById(outputId);\n",
              "  // Cache steps on the outputElement to make it available for the next call\n",
              "  // to uploadFilesContinue from Python.\n",
              "  outputElement.steps = steps;\n",
              "\n",
              "  return _uploadFilesContinue(outputId);\n",
              "}\n",
              "\n",
              "// This is roughly an async generator (not supported in the browser yet),\n",
              "// where there are multiple asynchronous steps and the Python side is going\n",
              "// to poll for completion of each step.\n",
              "// This uses a Promise to block the python side on completion of each step,\n",
              "// then passes the result of the previous step as the input to the next step.\n",
              "function _uploadFilesContinue(outputId) {\n",
              "  const outputElement = document.getElementById(outputId);\n",
              "  const steps = outputElement.steps;\n",
              "\n",
              "  const next = steps.next(outputElement.lastPromiseValue);\n",
              "  return Promise.resolve(next.value.promise).then((value) => {\n",
              "    // Cache the last promise value to make it available to the next\n",
              "    // step of the generator.\n",
              "    outputElement.lastPromiseValue = value;\n",
              "    return next.value.response;\n",
              "  });\n",
              "}\n",
              "\n",
              "/**\n",
              " * Generator function which is called between each async step of the upload\n",
              " * process.\n",
              " * @param {string} inputId Element ID of the input file picker element.\n",
              " * @param {string} outputId Element ID of the output display.\n",
              " * @return {!Iterable<!Object>} Iterable of next steps.\n",
              " */\n",
              "function* uploadFilesStep(inputId, outputId) {\n",
              "  const inputElement = document.getElementById(inputId);\n",
              "  inputElement.disabled = false;\n",
              "\n",
              "  const outputElement = document.getElementById(outputId);\n",
              "  outputElement.innerHTML = '';\n",
              "\n",
              "  const pickedPromise = new Promise((resolve) => {\n",
              "    inputElement.addEventListener('change', (e) => {\n",
              "      resolve(e.target.files);\n",
              "    });\n",
              "  });\n",
              "\n",
              "  const cancel = document.createElement('button');\n",
              "  inputElement.parentElement.appendChild(cancel);\n",
              "  cancel.textContent = 'Cancel upload';\n",
              "  const cancelPromise = new Promise((resolve) => {\n",
              "    cancel.onclick = () => {\n",
              "      resolve(null);\n",
              "    };\n",
              "  });\n",
              "\n",
              "  // Wait for the user to pick the files.\n",
              "  const files = yield {\n",
              "    promise: Promise.race([pickedPromise, cancelPromise]),\n",
              "    response: {\n",
              "      action: 'starting',\n",
              "    }\n",
              "  };\n",
              "\n",
              "  cancel.remove();\n",
              "\n",
              "  // Disable the input element since further picks are not allowed.\n",
              "  inputElement.disabled = true;\n",
              "\n",
              "  if (!files) {\n",
              "    return {\n",
              "      response: {\n",
              "        action: 'complete',\n",
              "      }\n",
              "    };\n",
              "  }\n",
              "\n",
              "  for (const file of files) {\n",
              "    const li = document.createElement('li');\n",
              "    li.append(span(file.name, {fontWeight: 'bold'}));\n",
              "    li.append(span(\n",
              "        `(${file.type || 'n/a'}) - ${file.size} bytes, ` +\n",
              "        `last modified: ${\n",
              "            file.lastModifiedDate ? file.lastModifiedDate.toLocaleDateString() :\n",
              "                                    'n/a'} - `));\n",
              "    const percent = span('0% done');\n",
              "    li.appendChild(percent);\n",
              "\n",
              "    outputElement.appendChild(li);\n",
              "\n",
              "    const fileDataPromise = new Promise((resolve) => {\n",
              "      const reader = new FileReader();\n",
              "      reader.onload = (e) => {\n",
              "        resolve(e.target.result);\n",
              "      };\n",
              "      reader.readAsArrayBuffer(file);\n",
              "    });\n",
              "    // Wait for the data to be ready.\n",
              "    let fileData = yield {\n",
              "      promise: fileDataPromise,\n",
              "      response: {\n",
              "        action: 'continue',\n",
              "      }\n",
              "    };\n",
              "\n",
              "    // Use a chunked sending to avoid message size limits. See b/62115660.\n",
              "    let position = 0;\n",
              "    do {\n",
              "      const length = Math.min(fileData.byteLength - position, MAX_PAYLOAD_SIZE);\n",
              "      const chunk = new Uint8Array(fileData, position, length);\n",
              "      position += length;\n",
              "\n",
              "      const base64 = btoa(String.fromCharCode.apply(null, chunk));\n",
              "      yield {\n",
              "        response: {\n",
              "          action: 'append',\n",
              "          file: file.name,\n",
              "          data: base64,\n",
              "        },\n",
              "      };\n",
              "\n",
              "      let percentDone = fileData.byteLength === 0 ?\n",
              "          100 :\n",
              "          Math.round((position / fileData.byteLength) * 100);\n",
              "      percent.textContent = `${percentDone}% done`;\n",
              "\n",
              "    } while (position < fileData.byteLength);\n",
              "  }\n",
              "\n",
              "  // All done.\n",
              "  yield {\n",
              "    response: {\n",
              "      action: 'complete',\n",
              "    }\n",
              "  };\n",
              "}\n",
              "\n",
              "scope.google = scope.google || {};\n",
              "scope.google.colab = scope.google.colab || {};\n",
              "scope.google.colab._files = {\n",
              "  _uploadFiles,\n",
              "  _uploadFilesContinue,\n",
              "};\n",
              "})(self);\n",
              "</script> "
            ],
            "text/plain": [
              "<IPython.core.display.HTML object>"
            ]
          },
          "metadata": {},
          "output_type": "display_data"
        },
        {
          "name": "stdout",
          "output_type": "stream",
          "text": [
            "Saving insulAlex (1).h5 to insulAlex (1).h5\n"
          ]
        }
      ],
      "source": [
        "from google.colab import files\n",
        "insulAlex=files.upload()"
      ]
    },
    {
      "cell_type": "code",
      "execution_count": null,
      "metadata": {
        "colab": {
          "base_uri": "https://localhost:8080/",
          "height": 73
        },
        "id": "CbRIJFvAsUjU",
        "outputId": "61c86031-cfe8-4996-db21-c38716813729"
      },
      "outputs": [
        {
          "data": {
            "text/html": [
              "\n",
              "     <input type=\"file\" id=\"files-06e181d5-3f75-42c1-8f45-a20811eca491\" name=\"files[]\" multiple disabled\n",
              "        style=\"border:none\" />\n",
              "     <output id=\"result-06e181d5-3f75-42c1-8f45-a20811eca491\">\n",
              "      Upload widget is only available when the cell has been executed in the\n",
              "      current browser session. Please rerun this cell to enable.\n",
              "      </output>\n",
              "      <script>// Copyright 2017 Google LLC\n",
              "//\n",
              "// Licensed under the Apache License, Version 2.0 (the \"License\");\n",
              "// you may not use this file except in compliance with the License.\n",
              "// You may obtain a copy of the License at\n",
              "//\n",
              "//      http://www.apache.org/licenses/LICENSE-2.0\n",
              "//\n",
              "// Unless required by applicable law or agreed to in writing, software\n",
              "// distributed under the License is distributed on an \"AS IS\" BASIS,\n",
              "// WITHOUT WARRANTIES OR CONDITIONS OF ANY KIND, either express or implied.\n",
              "// See the License for the specific language governing permissions and\n",
              "// limitations under the License.\n",
              "\n",
              "/**\n",
              " * @fileoverview Helpers for google.colab Python module.\n",
              " */\n",
              "(function(scope) {\n",
              "function span(text, styleAttributes = {}) {\n",
              "  const element = document.createElement('span');\n",
              "  element.textContent = text;\n",
              "  for (const key of Object.keys(styleAttributes)) {\n",
              "    element.style[key] = styleAttributes[key];\n",
              "  }\n",
              "  return element;\n",
              "}\n",
              "\n",
              "// Max number of bytes which will be uploaded at a time.\n",
              "const MAX_PAYLOAD_SIZE = 100 * 1024;\n",
              "\n",
              "function _uploadFiles(inputId, outputId) {\n",
              "  const steps = uploadFilesStep(inputId, outputId);\n",
              "  const outputElement = document.getElementById(outputId);\n",
              "  // Cache steps on the outputElement to make it available for the next call\n",
              "  // to uploadFilesContinue from Python.\n",
              "  outputElement.steps = steps;\n",
              "\n",
              "  return _uploadFilesContinue(outputId);\n",
              "}\n",
              "\n",
              "// This is roughly an async generator (not supported in the browser yet),\n",
              "// where there are multiple asynchronous steps and the Python side is going\n",
              "// to poll for completion of each step.\n",
              "// This uses a Promise to block the python side on completion of each step,\n",
              "// then passes the result of the previous step as the input to the next step.\n",
              "function _uploadFilesContinue(outputId) {\n",
              "  const outputElement = document.getElementById(outputId);\n",
              "  const steps = outputElement.steps;\n",
              "\n",
              "  const next = steps.next(outputElement.lastPromiseValue);\n",
              "  return Promise.resolve(next.value.promise).then((value) => {\n",
              "    // Cache the last promise value to make it available to the next\n",
              "    // step of the generator.\n",
              "    outputElement.lastPromiseValue = value;\n",
              "    return next.value.response;\n",
              "  });\n",
              "}\n",
              "\n",
              "/**\n",
              " * Generator function which is called between each async step of the upload\n",
              " * process.\n",
              " * @param {string} inputId Element ID of the input file picker element.\n",
              " * @param {string} outputId Element ID of the output display.\n",
              " * @return {!Iterable<!Object>} Iterable of next steps.\n",
              " */\n",
              "function* uploadFilesStep(inputId, outputId) {\n",
              "  const inputElement = document.getElementById(inputId);\n",
              "  inputElement.disabled = false;\n",
              "\n",
              "  const outputElement = document.getElementById(outputId);\n",
              "  outputElement.innerHTML = '';\n",
              "\n",
              "  const pickedPromise = new Promise((resolve) => {\n",
              "    inputElement.addEventListener('change', (e) => {\n",
              "      resolve(e.target.files);\n",
              "    });\n",
              "  });\n",
              "\n",
              "  const cancel = document.createElement('button');\n",
              "  inputElement.parentElement.appendChild(cancel);\n",
              "  cancel.textContent = 'Cancel upload';\n",
              "  const cancelPromise = new Promise((resolve) => {\n",
              "    cancel.onclick = () => {\n",
              "      resolve(null);\n",
              "    };\n",
              "  });\n",
              "\n",
              "  // Wait for the user to pick the files.\n",
              "  const files = yield {\n",
              "    promise: Promise.race([pickedPromise, cancelPromise]),\n",
              "    response: {\n",
              "      action: 'starting',\n",
              "    }\n",
              "  };\n",
              "\n",
              "  cancel.remove();\n",
              "\n",
              "  // Disable the input element since further picks are not allowed.\n",
              "  inputElement.disabled = true;\n",
              "\n",
              "  if (!files) {\n",
              "    return {\n",
              "      response: {\n",
              "        action: 'complete',\n",
              "      }\n",
              "    };\n",
              "  }\n",
              "\n",
              "  for (const file of files) {\n",
              "    const li = document.createElement('li');\n",
              "    li.append(span(file.name, {fontWeight: 'bold'}));\n",
              "    li.append(span(\n",
              "        `(${file.type || 'n/a'}) - ${file.size} bytes, ` +\n",
              "        `last modified: ${\n",
              "            file.lastModifiedDate ? file.lastModifiedDate.toLocaleDateString() :\n",
              "                                    'n/a'} - `));\n",
              "    const percent = span('0% done');\n",
              "    li.appendChild(percent);\n",
              "\n",
              "    outputElement.appendChild(li);\n",
              "\n",
              "    const fileDataPromise = new Promise((resolve) => {\n",
              "      const reader = new FileReader();\n",
              "      reader.onload = (e) => {\n",
              "        resolve(e.target.result);\n",
              "      };\n",
              "      reader.readAsArrayBuffer(file);\n",
              "    });\n",
              "    // Wait for the data to be ready.\n",
              "    let fileData = yield {\n",
              "      promise: fileDataPromise,\n",
              "      response: {\n",
              "        action: 'continue',\n",
              "      }\n",
              "    };\n",
              "\n",
              "    // Use a chunked sending to avoid message size limits. See b/62115660.\n",
              "    let position = 0;\n",
              "    do {\n",
              "      const length = Math.min(fileData.byteLength - position, MAX_PAYLOAD_SIZE);\n",
              "      const chunk = new Uint8Array(fileData, position, length);\n",
              "      position += length;\n",
              "\n",
              "      const base64 = btoa(String.fromCharCode.apply(null, chunk));\n",
              "      yield {\n",
              "        response: {\n",
              "          action: 'append',\n",
              "          file: file.name,\n",
              "          data: base64,\n",
              "        },\n",
              "      };\n",
              "\n",
              "      let percentDone = fileData.byteLength === 0 ?\n",
              "          100 :\n",
              "          Math.round((position / fileData.byteLength) * 100);\n",
              "      percent.textContent = `${percentDone}% done`;\n",
              "\n",
              "    } while (position < fileData.byteLength);\n",
              "  }\n",
              "\n",
              "  // All done.\n",
              "  yield {\n",
              "    response: {\n",
              "      action: 'complete',\n",
              "    }\n",
              "  };\n",
              "}\n",
              "\n",
              "scope.google = scope.google || {};\n",
              "scope.google.colab = scope.google.colab || {};\n",
              "scope.google.colab._files = {\n",
              "  _uploadFiles,\n",
              "  _uploadFilesContinue,\n",
              "};\n",
              "})(self);\n",
              "</script> "
            ],
            "text/plain": [
              "<IPython.core.display.HTML object>"
            ]
          },
          "metadata": {},
          "output_type": "display_data"
        },
        {
          "name": "stdout",
          "output_type": "stream",
          "text": [
            "Saving insulres10 (2).h5 to insulres10 (2).h5\n"
          ]
        }
      ],
      "source": [
        "from google.colab import files\n",
        "insulres=files.upload()"
      ]
    },
    {
      "cell_type": "code",
      "execution_count": null,
      "metadata": {
        "id": "n6ZlbM-WSuXp"
      },
      "outputs": [],
      "source": [
        "#load the existing model available in the gdrive (DenseNet,ResNet)\n",
        "modelalex = tf.keras.models.load_model('insul.h5')\n",
        "modelres = tf.keras.models.load_model('insulres10 (2).h5')"
      ]
    },
    {
      "cell_type": "code",
      "execution_count": null,
      "metadata": {
        "id": "KBLcQcnhUdRX"
      },
      "outputs": [],
      "source": []
    },
    {
      "cell_type": "markdown",
      "metadata": {
        "id": "q8ZRK1vmbpXE"
      },
      "source": [
        "# **1.Combine Inception & Exception**"
      ]
    },
    {
      "cell_type": "code",
      "execution_count": null,
      "metadata": {
        "id": "U6GjCacjbvu1",
        "colab": {
          "base_uri": "https://localhost:8080/",
          "height": 180
        },
        "outputId": "8c51a1ec-89cd-4396-b77a-8c2bc6853f06"
      },
      "outputs": [
        {
          "output_type": "error",
          "ename": "NameError",
          "evalue": "name 'tf' is not defined",
          "traceback": [
            "\u001b[0;31m---------------------------------------------------------------------------\u001b[0m",
            "\u001b[0;31mNameError\u001b[0m                                 Traceback (most recent call last)",
            "\u001b[0;32m<ipython-input-1-9ea1dc9647ed>\u001b[0m in \u001b[0;36m<cell line: 2>\u001b[0;34m()\u001b[0m\n\u001b[1;32m      1\u001b[0m \u001b[0;31m#load the existing model available in the gdrive (Inception,Exception)\u001b[0m\u001b[0;34m\u001b[0m\u001b[0;34m\u001b[0m\u001b[0m\n\u001b[0;32m----> 2\u001b[0;31m \u001b[0mmodelinc\u001b[0m \u001b[0;34m=\u001b[0m \u001b[0mtf\u001b[0m\u001b[0;34m.\u001b[0m\u001b[0mkeras\u001b[0m\u001b[0;34m.\u001b[0m\u001b[0mmodels\u001b[0m\u001b[0;34m.\u001b[0m\u001b[0mload_model\u001b[0m\u001b[0;34m(\u001b[0m\u001b[0;34m'gdrive/My Drive/Colab Notebooks/insulinv3.h5'\u001b[0m\u001b[0;34m)\u001b[0m\u001b[0;34m\u001b[0m\u001b[0;34m\u001b[0m\u001b[0m\n\u001b[0m\u001b[1;32m      3\u001b[0m \u001b[0mmodelXC\u001b[0m \u001b[0;34m=\u001b[0m \u001b[0mtf\u001b[0m\u001b[0;34m.\u001b[0m\u001b[0mkeras\u001b[0m\u001b[0;34m.\u001b[0m\u001b[0mmodels\u001b[0m\u001b[0;34m.\u001b[0m\u001b[0mload_model\u001b[0m\u001b[0;34m(\u001b[0m\u001b[0;34m'gdrive/My Drive/Colab Notebooks/insulXC.h5'\u001b[0m\u001b[0;34m)\u001b[0m\u001b[0;34m\u001b[0m\u001b[0;34m\u001b[0m\u001b[0m\n",
            "\u001b[0;31mNameError\u001b[0m: name 'tf' is not defined"
          ]
        }
      ],
      "source": [
        "#load the existing model available in the gdrive (Inception,Exception)\n",
        "modelinc = tf.keras.models.load_model('gdrive/My Drive/Colab Notebooks/insulinv3.h5')\n",
        "modelXC = tf.keras.models.load_model('gdrive/My Drive/Colab Notebooks/insulXC.h5')"
      ]
    },
    {
      "cell_type": "code",
      "execution_count": null,
      "metadata": {
        "id": "4IHwpNkPb_6X"
      },
      "outputs": [],
      "source": [
        "#Assign the input image size as 224,224,3\n",
        "input_shape=(IMG_HEIGHT, IMG_WIDTH, 3)\n",
        "# Set the Output size as number of classes (1, sigmoid for binary classisfication)\n",
        "# (2, softmax for multiclass)\n",
        "n_classes=1\n",
        "inputs = tf.keras.layers.Input(shape=input_shape)\n",
        "#combine the two models\n",
        "combined = tf.keras.layers.Concatenate()([modelinc(inputs), modelXC(inputs)])\n",
        "\n",
        "outputs = tf.keras.layers.Dense(n_classes)(combined)\n",
        "\n",
        "modelincXC = tf.keras.models.Model(inputs, outputs)\n"
      ]
    },
    {
      "cell_type": "code",
      "execution_count": null,
      "metadata": {
        "colab": {
          "base_uri": "https://localhost:8080/"
        },
        "id": "gxKm6wQ4dmKm",
        "outputId": "51019a2f-ec32-482b-ddb4-4e236d177505"
      },
      "outputs": [
        {
          "name": "stdout",
          "output_type": "stream",
          "text": [
            "Model: \"model_1\"\n",
            "__________________________________________________________________________________________________\n",
            " Layer (type)                Output Shape                 Param #   Connected to                  \n",
            "==================================================================================================\n",
            " input_2 (InputLayer)        [(None, 299, 299, 3)]        0         []                            \n",
            "                                                                                                  \n",
            " conv2d_4 (Conv2D)           (None, 149, 149, 32)         864       ['input_2[0][0]']             \n",
            "                                                                                                  \n",
            " batch_normalization_4 (Bat  (None, 149, 149, 32)         96        ['conv2d_4[0][0]']            \n",
            " chNormalization)                                                                                 \n",
            "                                                                                                  \n",
            " activation (Activation)     (None, 149, 149, 32)         0         ['batch_normalization_4[0][0]'\n",
            "                                                                    ]                             \n",
            "                                                                                                  \n",
            " conv2d_5 (Conv2D)           (None, 147, 147, 32)         9216      ['activation[0][0]']          \n",
            "                                                                                                  \n",
            " batch_normalization_5 (Bat  (None, 147, 147, 32)         96        ['conv2d_5[0][0]']            \n",
            " chNormalization)                                                                                 \n",
            "                                                                                                  \n",
            " activation_1 (Activation)   (None, 147, 147, 32)         0         ['batch_normalization_5[0][0]'\n",
            "                                                                    ]                             \n",
            "                                                                                                  \n",
            " conv2d_6 (Conv2D)           (None, 147, 147, 64)         18432     ['activation_1[0][0]']        \n",
            "                                                                                                  \n",
            " batch_normalization_6 (Bat  (None, 147, 147, 64)         192       ['conv2d_6[0][0]']            \n",
            " chNormalization)                                                                                 \n",
            "                                                                                                  \n",
            " activation_2 (Activation)   (None, 147, 147, 64)         0         ['batch_normalization_6[0][0]'\n",
            "                                                                    ]                             \n",
            "                                                                                                  \n",
            " max_pooling2d (MaxPooling2  (None, 73, 73, 64)           0         ['activation_2[0][0]']        \n",
            " D)                                                                                               \n",
            "                                                                                                  \n",
            " conv2d_7 (Conv2D)           (None, 73, 73, 80)           5120      ['max_pooling2d[0][0]']       \n",
            "                                                                                                  \n",
            " batch_normalization_7 (Bat  (None, 73, 73, 80)           240       ['conv2d_7[0][0]']            \n",
            " chNormalization)                                                                                 \n",
            "                                                                                                  \n",
            " activation_3 (Activation)   (None, 73, 73, 80)           0         ['batch_normalization_7[0][0]'\n",
            "                                                                    ]                             \n",
            "                                                                                                  \n",
            " conv2d_8 (Conv2D)           (None, 71, 71, 192)          138240    ['activation_3[0][0]']        \n",
            "                                                                                                  \n",
            " batch_normalization_8 (Bat  (None, 71, 71, 192)          576       ['conv2d_8[0][0]']            \n",
            " chNormalization)                                                                                 \n",
            "                                                                                                  \n",
            " activation_4 (Activation)   (None, 71, 71, 192)          0         ['batch_normalization_8[0][0]'\n",
            "                                                                    ]                             \n",
            "                                                                                                  \n",
            " max_pooling2d_1 (MaxPoolin  (None, 35, 35, 192)          0         ['activation_4[0][0]']        \n",
            " g2D)                                                                                             \n",
            "                                                                                                  \n",
            " conv2d_12 (Conv2D)          (None, 35, 35, 64)           12288     ['max_pooling2d_1[0][0]']     \n",
            "                                                                                                  \n",
            " batch_normalization_12 (Ba  (None, 35, 35, 64)           192       ['conv2d_12[0][0]']           \n",
            " tchNormalization)                                                                                \n",
            "                                                                                                  \n",
            " activation_8 (Activation)   (None, 35, 35, 64)           0         ['batch_normalization_12[0][0]\n",
            "                                                                    ']                            \n",
            "                                                                                                  \n",
            " conv2d_10 (Conv2D)          (None, 35, 35, 48)           9216      ['max_pooling2d_1[0][0]']     \n",
            "                                                                                                  \n",
            " conv2d_13 (Conv2D)          (None, 35, 35, 96)           55296     ['activation_8[0][0]']        \n",
            "                                                                                                  \n",
            " batch_normalization_10 (Ba  (None, 35, 35, 48)           144       ['conv2d_10[0][0]']           \n",
            " tchNormalization)                                                                                \n",
            "                                                                                                  \n",
            " batch_normalization_13 (Ba  (None, 35, 35, 96)           288       ['conv2d_13[0][0]']           \n",
            " tchNormalization)                                                                                \n",
            "                                                                                                  \n",
            " activation_6 (Activation)   (None, 35, 35, 48)           0         ['batch_normalization_10[0][0]\n",
            "                                                                    ']                            \n",
            "                                                                                                  \n",
            " activation_9 (Activation)   (None, 35, 35, 96)           0         ['batch_normalization_13[0][0]\n",
            "                                                                    ']                            \n",
            "                                                                                                  \n",
            " average_pooling2d (Average  (None, 35, 35, 192)          0         ['max_pooling2d_1[0][0]']     \n",
            " Pooling2D)                                                                                       \n",
            "                                                                                                  \n",
            " conv2d_9 (Conv2D)           (None, 35, 35, 64)           12288     ['max_pooling2d_1[0][0]']     \n",
            "                                                                                                  \n",
            " conv2d_11 (Conv2D)          (None, 35, 35, 64)           76800     ['activation_6[0][0]']        \n",
            "                                                                                                  \n",
            " conv2d_14 (Conv2D)          (None, 35, 35, 96)           82944     ['activation_9[0][0]']        \n",
            "                                                                                                  \n",
            " conv2d_15 (Conv2D)          (None, 35, 35, 32)           6144      ['average_pooling2d[0][0]']   \n",
            "                                                                                                  \n",
            " batch_normalization_9 (Bat  (None, 35, 35, 64)           192       ['conv2d_9[0][0]']            \n",
            " chNormalization)                                                                                 \n",
            "                                                                                                  \n",
            " batch_normalization_11 (Ba  (None, 35, 35, 64)           192       ['conv2d_11[0][0]']           \n",
            " tchNormalization)                                                                                \n",
            "                                                                                                  \n",
            " batch_normalization_14 (Ba  (None, 35, 35, 96)           288       ['conv2d_14[0][0]']           \n",
            " tchNormalization)                                                                                \n",
            "                                                                                                  \n",
            " batch_normalization_15 (Ba  (None, 35, 35, 32)           96        ['conv2d_15[0][0]']           \n",
            " tchNormalization)                                                                                \n",
            "                                                                                                  \n",
            " activation_5 (Activation)   (None, 35, 35, 64)           0         ['batch_normalization_9[0][0]'\n",
            "                                                                    ]                             \n",
            "                                                                                                  \n",
            " activation_7 (Activation)   (None, 35, 35, 64)           0         ['batch_normalization_11[0][0]\n",
            "                                                                    ']                            \n",
            "                                                                                                  \n",
            " activation_10 (Activation)  (None, 35, 35, 96)           0         ['batch_normalization_14[0][0]\n",
            "                                                                    ']                            \n",
            "                                                                                                  \n",
            " activation_11 (Activation)  (None, 35, 35, 32)           0         ['batch_normalization_15[0][0]\n",
            "                                                                    ']                            \n",
            "                                                                                                  \n",
            " mixed0 (Concatenate)        (None, 35, 35, 256)          0         ['activation_5[0][0]',        \n",
            "                                                                     'activation_7[0][0]',        \n",
            "                                                                     'activation_10[0][0]',       \n",
            "                                                                     'activation_11[0][0]']       \n",
            "                                                                                                  \n",
            " conv2d_19 (Conv2D)          (None, 35, 35, 64)           16384     ['mixed0[0][0]']              \n",
            "                                                                                                  \n",
            " batch_normalization_19 (Ba  (None, 35, 35, 64)           192       ['conv2d_19[0][0]']           \n",
            " tchNormalization)                                                                                \n",
            "                                                                                                  \n",
            " activation_15 (Activation)  (None, 35, 35, 64)           0         ['batch_normalization_19[0][0]\n",
            "                                                                    ']                            \n",
            "                                                                                                  \n",
            " conv2d_17 (Conv2D)          (None, 35, 35, 48)           12288     ['mixed0[0][0]']              \n",
            "                                                                                                  \n",
            " conv2d_20 (Conv2D)          (None, 35, 35, 96)           55296     ['activation_15[0][0]']       \n",
            "                                                                                                  \n",
            " batch_normalization_17 (Ba  (None, 35, 35, 48)           144       ['conv2d_17[0][0]']           \n",
            " tchNormalization)                                                                                \n",
            "                                                                                                  \n",
            " batch_normalization_20 (Ba  (None, 35, 35, 96)           288       ['conv2d_20[0][0]']           \n",
            " tchNormalization)                                                                                \n",
            "                                                                                                  \n",
            " activation_13 (Activation)  (None, 35, 35, 48)           0         ['batch_normalization_17[0][0]\n",
            "                                                                    ']                            \n",
            "                                                                                                  \n",
            " activation_16 (Activation)  (None, 35, 35, 96)           0         ['batch_normalization_20[0][0]\n",
            "                                                                    ']                            \n",
            "                                                                                                  \n",
            " average_pooling2d_1 (Avera  (None, 35, 35, 256)          0         ['mixed0[0][0]']              \n",
            " gePooling2D)                                                                                     \n",
            "                                                                                                  \n",
            " conv2d_16 (Conv2D)          (None, 35, 35, 64)           16384     ['mixed0[0][0]']              \n",
            "                                                                                                  \n",
            " conv2d_18 (Conv2D)          (None, 35, 35, 64)           76800     ['activation_13[0][0]']       \n",
            "                                                                                                  \n",
            " conv2d_21 (Conv2D)          (None, 35, 35, 96)           82944     ['activation_16[0][0]']       \n",
            "                                                                                                  \n",
            " conv2d_22 (Conv2D)          (None, 35, 35, 64)           16384     ['average_pooling2d_1[0][0]'] \n",
            "                                                                                                  \n",
            " batch_normalization_16 (Ba  (None, 35, 35, 64)           192       ['conv2d_16[0][0]']           \n",
            " tchNormalization)                                                                                \n",
            "                                                                                                  \n",
            " batch_normalization_18 (Ba  (None, 35, 35, 64)           192       ['conv2d_18[0][0]']           \n",
            " tchNormalization)                                                                                \n",
            "                                                                                                  \n",
            " batch_normalization_21 (Ba  (None, 35, 35, 96)           288       ['conv2d_21[0][0]']           \n",
            " tchNormalization)                                                                                \n",
            "                                                                                                  \n",
            " batch_normalization_22 (Ba  (None, 35, 35, 64)           192       ['conv2d_22[0][0]']           \n",
            " tchNormalization)                                                                                \n",
            "                                                                                                  \n",
            " activation_12 (Activation)  (None, 35, 35, 64)           0         ['batch_normalization_16[0][0]\n",
            "                                                                    ']                            \n",
            "                                                                                                  \n",
            " activation_14 (Activation)  (None, 35, 35, 64)           0         ['batch_normalization_18[0][0]\n",
            "                                                                    ']                            \n",
            "                                                                                                  \n",
            " activation_17 (Activation)  (None, 35, 35, 96)           0         ['batch_normalization_21[0][0]\n",
            "                                                                    ']                            \n",
            "                                                                                                  \n",
            " activation_18 (Activation)  (None, 35, 35, 64)           0         ['batch_normalization_22[0][0]\n",
            "                                                                    ']                            \n",
            "                                                                                                  \n",
            " mixed1 (Concatenate)        (None, 35, 35, 288)          0         ['activation_12[0][0]',       \n",
            "                                                                     'activation_14[0][0]',       \n",
            "                                                                     'activation_17[0][0]',       \n",
            "                                                                     'activation_18[0][0]']       \n",
            "                                                                                                  \n",
            " conv2d_26 (Conv2D)          (None, 35, 35, 64)           18432     ['mixed1[0][0]']              \n",
            "                                                                                                  \n",
            " batch_normalization_26 (Ba  (None, 35, 35, 64)           192       ['conv2d_26[0][0]']           \n",
            " tchNormalization)                                                                                \n",
            "                                                                                                  \n",
            " activation_22 (Activation)  (None, 35, 35, 64)           0         ['batch_normalization_26[0][0]\n",
            "                                                                    ']                            \n",
            "                                                                                                  \n",
            " conv2d_24 (Conv2D)          (None, 35, 35, 48)           13824     ['mixed1[0][0]']              \n",
            "                                                                                                  \n",
            " conv2d_27 (Conv2D)          (None, 35, 35, 96)           55296     ['activation_22[0][0]']       \n",
            "                                                                                                  \n",
            " batch_normalization_24 (Ba  (None, 35, 35, 48)           144       ['conv2d_24[0][0]']           \n",
            " tchNormalization)                                                                                \n",
            "                                                                                                  \n",
            " batch_normalization_27 (Ba  (None, 35, 35, 96)           288       ['conv2d_27[0][0]']           \n",
            " tchNormalization)                                                                                \n",
            "                                                                                                  \n",
            " activation_20 (Activation)  (None, 35, 35, 48)           0         ['batch_normalization_24[0][0]\n",
            "                                                                    ']                            \n",
            "                                                                                                  \n",
            " activation_23 (Activation)  (None, 35, 35, 96)           0         ['batch_normalization_27[0][0]\n",
            "                                                                    ']                            \n",
            "                                                                                                  \n",
            " average_pooling2d_2 (Avera  (None, 35, 35, 288)          0         ['mixed1[0][0]']              \n",
            " gePooling2D)                                                                                     \n",
            "                                                                                                  \n",
            " conv2d_23 (Conv2D)          (None, 35, 35, 64)           18432     ['mixed1[0][0]']              \n",
            "                                                                                                  \n",
            " conv2d_25 (Conv2D)          (None, 35, 35, 64)           76800     ['activation_20[0][0]']       \n",
            "                                                                                                  \n",
            " conv2d_28 (Conv2D)          (None, 35, 35, 96)           82944     ['activation_23[0][0]']       \n",
            "                                                                                                  \n",
            " conv2d_29 (Conv2D)          (None, 35, 35, 64)           18432     ['average_pooling2d_2[0][0]'] \n",
            "                                                                                                  \n",
            " batch_normalization_23 (Ba  (None, 35, 35, 64)           192       ['conv2d_23[0][0]']           \n",
            " tchNormalization)                                                                                \n",
            "                                                                                                  \n",
            " batch_normalization_25 (Ba  (None, 35, 35, 64)           192       ['conv2d_25[0][0]']           \n",
            " tchNormalization)                                                                                \n",
            "                                                                                                  \n",
            " batch_normalization_28 (Ba  (None, 35, 35, 96)           288       ['conv2d_28[0][0]']           \n",
            " tchNormalization)                                                                                \n",
            "                                                                                                  \n",
            " batch_normalization_29 (Ba  (None, 35, 35, 64)           192       ['conv2d_29[0][0]']           \n",
            " tchNormalization)                                                                                \n",
            "                                                                                                  \n",
            " activation_19 (Activation)  (None, 35, 35, 64)           0         ['batch_normalization_23[0][0]\n",
            "                                                                    ']                            \n",
            "                                                                                                  \n",
            " activation_21 (Activation)  (None, 35, 35, 64)           0         ['batch_normalization_25[0][0]\n",
            "                                                                    ']                            \n",
            "                                                                                                  \n",
            " activation_24 (Activation)  (None, 35, 35, 96)           0         ['batch_normalization_28[0][0]\n",
            "                                                                    ']                            \n",
            "                                                                                                  \n",
            " activation_25 (Activation)  (None, 35, 35, 64)           0         ['batch_normalization_29[0][0]\n",
            "                                                                    ']                            \n",
            "                                                                                                  \n",
            " mixed2 (Concatenate)        (None, 35, 35, 288)          0         ['activation_19[0][0]',       \n",
            "                                                                     'activation_21[0][0]',       \n",
            "                                                                     'activation_24[0][0]',       \n",
            "                                                                     'activation_25[0][0]']       \n",
            "                                                                                                  \n",
            " conv2d_31 (Conv2D)          (None, 35, 35, 64)           18432     ['mixed2[0][0]']              \n",
            "                                                                                                  \n",
            " batch_normalization_31 (Ba  (None, 35, 35, 64)           192       ['conv2d_31[0][0]']           \n",
            " tchNormalization)                                                                                \n",
            "                                                                                                  \n",
            " activation_27 (Activation)  (None, 35, 35, 64)           0         ['batch_normalization_31[0][0]\n",
            "                                                                    ']                            \n",
            "                                                                                                  \n",
            " conv2d_32 (Conv2D)          (None, 35, 35, 96)           55296     ['activation_27[0][0]']       \n",
            "                                                                                                  \n",
            " batch_normalization_32 (Ba  (None, 35, 35, 96)           288       ['conv2d_32[0][0]']           \n",
            " tchNormalization)                                                                                \n",
            "                                                                                                  \n",
            " activation_28 (Activation)  (None, 35, 35, 96)           0         ['batch_normalization_32[0][0]\n",
            "                                                                    ']                            \n",
            "                                                                                                  \n",
            " conv2d_30 (Conv2D)          (None, 17, 17, 384)          995328    ['mixed2[0][0]']              \n",
            "                                                                                                  \n",
            " conv2d_33 (Conv2D)          (None, 17, 17, 96)           82944     ['activation_28[0][0]']       \n",
            "                                                                                                  \n",
            " batch_normalization_30 (Ba  (None, 17, 17, 384)          1152      ['conv2d_30[0][0]']           \n",
            " tchNormalization)                                                                                \n",
            "                                                                                                  \n",
            " batch_normalization_33 (Ba  (None, 17, 17, 96)           288       ['conv2d_33[0][0]']           \n",
            " tchNormalization)                                                                                \n",
            "                                                                                                  \n",
            " activation_26 (Activation)  (None, 17, 17, 384)          0         ['batch_normalization_30[0][0]\n",
            "                                                                    ']                            \n",
            "                                                                                                  \n",
            " activation_29 (Activation)  (None, 17, 17, 96)           0         ['batch_normalization_33[0][0]\n",
            "                                                                    ']                            \n",
            "                                                                                                  \n",
            " max_pooling2d_2 (MaxPoolin  (None, 17, 17, 288)          0         ['mixed2[0][0]']              \n",
            " g2D)                                                                                             \n",
            "                                                                                                  \n",
            " mixed3 (Concatenate)        (None, 17, 17, 768)          0         ['activation_26[0][0]',       \n",
            "                                                                     'activation_29[0][0]',       \n",
            "                                                                     'max_pooling2d_2[0][0]']     \n",
            "                                                                                                  \n",
            " conv2d_38 (Conv2D)          (None, 17, 17, 128)          98304     ['mixed3[0][0]']              \n",
            "                                                                                                  \n",
            " batch_normalization_38 (Ba  (None, 17, 17, 128)          384       ['conv2d_38[0][0]']           \n",
            " tchNormalization)                                                                                \n",
            "                                                                                                  \n",
            " activation_34 (Activation)  (None, 17, 17, 128)          0         ['batch_normalization_38[0][0]\n",
            "                                                                    ']                            \n",
            "                                                                                                  \n",
            " conv2d_39 (Conv2D)          (None, 17, 17, 128)          114688    ['activation_34[0][0]']       \n",
            "                                                                                                  \n",
            " batch_normalization_39 (Ba  (None, 17, 17, 128)          384       ['conv2d_39[0][0]']           \n",
            " tchNormalization)                                                                                \n",
            "                                                                                                  \n",
            " activation_35 (Activation)  (None, 17, 17, 128)          0         ['batch_normalization_39[0][0]\n",
            "                                                                    ']                            \n",
            "                                                                                                  \n",
            " conv2d_35 (Conv2D)          (None, 17, 17, 128)          98304     ['mixed3[0][0]']              \n",
            "                                                                                                  \n",
            " conv2d_40 (Conv2D)          (None, 17, 17, 128)          114688    ['activation_35[0][0]']       \n",
            "                                                                                                  \n",
            " batch_normalization_35 (Ba  (None, 17, 17, 128)          384       ['conv2d_35[0][0]']           \n",
            " tchNormalization)                                                                                \n",
            "                                                                                                  \n",
            " batch_normalization_40 (Ba  (None, 17, 17, 128)          384       ['conv2d_40[0][0]']           \n",
            " tchNormalization)                                                                                \n",
            "                                                                                                  \n",
            " activation_31 (Activation)  (None, 17, 17, 128)          0         ['batch_normalization_35[0][0]\n",
            "                                                                    ']                            \n",
            "                                                                                                  \n",
            " activation_36 (Activation)  (None, 17, 17, 128)          0         ['batch_normalization_40[0][0]\n",
            "                                                                    ']                            \n",
            "                                                                                                  \n",
            " conv2d_36 (Conv2D)          (None, 17, 17, 128)          114688    ['activation_31[0][0]']       \n",
            "                                                                                                  \n",
            " conv2d_41 (Conv2D)          (None, 17, 17, 128)          114688    ['activation_36[0][0]']       \n",
            "                                                                                                  \n",
            " batch_normalization_36 (Ba  (None, 17, 17, 128)          384       ['conv2d_36[0][0]']           \n",
            " tchNormalization)                                                                                \n",
            "                                                                                                  \n",
            " batch_normalization_41 (Ba  (None, 17, 17, 128)          384       ['conv2d_41[0][0]']           \n",
            " tchNormalization)                                                                                \n",
            "                                                                                                  \n",
            " activation_32 (Activation)  (None, 17, 17, 128)          0         ['batch_normalization_36[0][0]\n",
            "                                                                    ']                            \n",
            "                                                                                                  \n",
            " activation_37 (Activation)  (None, 17, 17, 128)          0         ['batch_normalization_41[0][0]\n",
            "                                                                    ']                            \n",
            "                                                                                                  \n",
            " average_pooling2d_3 (Avera  (None, 17, 17, 768)          0         ['mixed3[0][0]']              \n",
            " gePooling2D)                                                                                     \n",
            "                                                                                                  \n",
            " conv2d_34 (Conv2D)          (None, 17, 17, 192)          147456    ['mixed3[0][0]']              \n",
            "                                                                                                  \n",
            " conv2d_37 (Conv2D)          (None, 17, 17, 192)          172032    ['activation_32[0][0]']       \n",
            "                                                                                                  \n",
            " conv2d_42 (Conv2D)          (None, 17, 17, 192)          172032    ['activation_37[0][0]']       \n",
            "                                                                                                  \n",
            " conv2d_43 (Conv2D)          (None, 17, 17, 192)          147456    ['average_pooling2d_3[0][0]'] \n",
            "                                                                                                  \n",
            " batch_normalization_34 (Ba  (None, 17, 17, 192)          576       ['conv2d_34[0][0]']           \n",
            " tchNormalization)                                                                                \n",
            "                                                                                                  \n",
            " batch_normalization_37 (Ba  (None, 17, 17, 192)          576       ['conv2d_37[0][0]']           \n",
            " tchNormalization)                                                                                \n",
            "                                                                                                  \n",
            " batch_normalization_42 (Ba  (None, 17, 17, 192)          576       ['conv2d_42[0][0]']           \n",
            " tchNormalization)                                                                                \n",
            "                                                                                                  \n",
            " batch_normalization_43 (Ba  (None, 17, 17, 192)          576       ['conv2d_43[0][0]']           \n",
            " tchNormalization)                                                                                \n",
            "                                                                                                  \n",
            " activation_30 (Activation)  (None, 17, 17, 192)          0         ['batch_normalization_34[0][0]\n",
            "                                                                    ']                            \n",
            "                                                                                                  \n",
            " activation_33 (Activation)  (None, 17, 17, 192)          0         ['batch_normalization_37[0][0]\n",
            "                                                                    ']                            \n",
            "                                                                                                  \n",
            " activation_38 (Activation)  (None, 17, 17, 192)          0         ['batch_normalization_42[0][0]\n",
            "                                                                    ']                            \n",
            "                                                                                                  \n",
            " activation_39 (Activation)  (None, 17, 17, 192)          0         ['batch_normalization_43[0][0]\n",
            "                                                                    ']                            \n",
            "                                                                                                  \n",
            " mixed4 (Concatenate)        (None, 17, 17, 768)          0         ['activation_30[0][0]',       \n",
            "                                                                     'activation_33[0][0]',       \n",
            "                                                                     'activation_38[0][0]',       \n",
            "                                                                     'activation_39[0][0]']       \n",
            "                                                                                                  \n",
            " conv2d_48 (Conv2D)          (None, 17, 17, 160)          122880    ['mixed4[0][0]']              \n",
            "                                                                                                  \n",
            " batch_normalization_48 (Ba  (None, 17, 17, 160)          480       ['conv2d_48[0][0]']           \n",
            " tchNormalization)                                                                                \n",
            "                                                                                                  \n",
            " activation_44 (Activation)  (None, 17, 17, 160)          0         ['batch_normalization_48[0][0]\n",
            "                                                                    ']                            \n",
            "                                                                                                  \n",
            " conv2d_49 (Conv2D)          (None, 17, 17, 160)          179200    ['activation_44[0][0]']       \n",
            "                                                                                                  \n",
            " batch_normalization_49 (Ba  (None, 17, 17, 160)          480       ['conv2d_49[0][0]']           \n",
            " tchNormalization)                                                                                \n",
            "                                                                                                  \n",
            " activation_45 (Activation)  (None, 17, 17, 160)          0         ['batch_normalization_49[0][0]\n",
            "                                                                    ']                            \n",
            "                                                                                                  \n",
            " conv2d_45 (Conv2D)          (None, 17, 17, 160)          122880    ['mixed4[0][0]']              \n",
            "                                                                                                  \n",
            " conv2d_50 (Conv2D)          (None, 17, 17, 160)          179200    ['activation_45[0][0]']       \n",
            "                                                                                                  \n",
            " batch_normalization_45 (Ba  (None, 17, 17, 160)          480       ['conv2d_45[0][0]']           \n",
            " tchNormalization)                                                                                \n",
            "                                                                                                  \n",
            " batch_normalization_50 (Ba  (None, 17, 17, 160)          480       ['conv2d_50[0][0]']           \n",
            " tchNormalization)                                                                                \n",
            "                                                                                                  \n",
            " activation_41 (Activation)  (None, 17, 17, 160)          0         ['batch_normalization_45[0][0]\n",
            "                                                                    ']                            \n",
            "                                                                                                  \n",
            " activation_46 (Activation)  (None, 17, 17, 160)          0         ['batch_normalization_50[0][0]\n",
            "                                                                    ']                            \n",
            "                                                                                                  \n",
            " conv2d_46 (Conv2D)          (None, 17, 17, 160)          179200    ['activation_41[0][0]']       \n",
            "                                                                                                  \n",
            " conv2d_51 (Conv2D)          (None, 17, 17, 160)          179200    ['activation_46[0][0]']       \n",
            "                                                                                                  \n",
            " batch_normalization_46 (Ba  (None, 17, 17, 160)          480       ['conv2d_46[0][0]']           \n",
            " tchNormalization)                                                                                \n",
            "                                                                                                  \n",
            " batch_normalization_51 (Ba  (None, 17, 17, 160)          480       ['conv2d_51[0][0]']           \n",
            " tchNormalization)                                                                                \n",
            "                                                                                                  \n",
            " activation_42 (Activation)  (None, 17, 17, 160)          0         ['batch_normalization_46[0][0]\n",
            "                                                                    ']                            \n",
            "                                                                                                  \n",
            " activation_47 (Activation)  (None, 17, 17, 160)          0         ['batch_normalization_51[0][0]\n",
            "                                                                    ']                            \n",
            "                                                                                                  \n",
            " average_pooling2d_4 (Avera  (None, 17, 17, 768)          0         ['mixed4[0][0]']              \n",
            " gePooling2D)                                                                                     \n",
            "                                                                                                  \n",
            " conv2d_44 (Conv2D)          (None, 17, 17, 192)          147456    ['mixed4[0][0]']              \n",
            "                                                                                                  \n",
            " conv2d_47 (Conv2D)          (None, 17, 17, 192)          215040    ['activation_42[0][0]']       \n",
            "                                                                                                  \n",
            " conv2d_52 (Conv2D)          (None, 17, 17, 192)          215040    ['activation_47[0][0]']       \n",
            "                                                                                                  \n",
            " conv2d_53 (Conv2D)          (None, 17, 17, 192)          147456    ['average_pooling2d_4[0][0]'] \n",
            "                                                                                                  \n",
            " batch_normalization_44 (Ba  (None, 17, 17, 192)          576       ['conv2d_44[0][0]']           \n",
            " tchNormalization)                                                                                \n",
            "                                                                                                  \n",
            " batch_normalization_47 (Ba  (None, 17, 17, 192)          576       ['conv2d_47[0][0]']           \n",
            " tchNormalization)                                                                                \n",
            "                                                                                                  \n",
            " batch_normalization_52 (Ba  (None, 17, 17, 192)          576       ['conv2d_52[0][0]']           \n",
            " tchNormalization)                                                                                \n",
            "                                                                                                  \n",
            " batch_normalization_53 (Ba  (None, 17, 17, 192)          576       ['conv2d_53[0][0]']           \n",
            " tchNormalization)                                                                                \n",
            "                                                                                                  \n",
            " activation_40 (Activation)  (None, 17, 17, 192)          0         ['batch_normalization_44[0][0]\n",
            "                                                                    ']                            \n",
            "                                                                                                  \n",
            " activation_43 (Activation)  (None, 17, 17, 192)          0         ['batch_normalization_47[0][0]\n",
            "                                                                    ']                            \n",
            "                                                                                                  \n",
            " activation_48 (Activation)  (None, 17, 17, 192)          0         ['batch_normalization_52[0][0]\n",
            "                                                                    ']                            \n",
            "                                                                                                  \n",
            " activation_49 (Activation)  (None, 17, 17, 192)          0         ['batch_normalization_53[0][0]\n",
            "                                                                    ']                            \n",
            "                                                                                                  \n",
            " mixed5 (Concatenate)        (None, 17, 17, 768)          0         ['activation_40[0][0]',       \n",
            "                                                                     'activation_43[0][0]',       \n",
            "                                                                     'activation_48[0][0]',       \n",
            "                                                                     'activation_49[0][0]']       \n",
            "                                                                                                  \n",
            " conv2d_58 (Conv2D)          (None, 17, 17, 160)          122880    ['mixed5[0][0]']              \n",
            "                                                                                                  \n",
            " batch_normalization_58 (Ba  (None, 17, 17, 160)          480       ['conv2d_58[0][0]']           \n",
            " tchNormalization)                                                                                \n",
            "                                                                                                  \n",
            " activation_54 (Activation)  (None, 17, 17, 160)          0         ['batch_normalization_58[0][0]\n",
            "                                                                    ']                            \n",
            "                                                                                                  \n",
            " conv2d_59 (Conv2D)          (None, 17, 17, 160)          179200    ['activation_54[0][0]']       \n",
            "                                                                                                  \n",
            " batch_normalization_59 (Ba  (None, 17, 17, 160)          480       ['conv2d_59[0][0]']           \n",
            " tchNormalization)                                                                                \n",
            "                                                                                                  \n",
            " activation_55 (Activation)  (None, 17, 17, 160)          0         ['batch_normalization_59[0][0]\n",
            "                                                                    ']                            \n",
            "                                                                                                  \n",
            " conv2d_55 (Conv2D)          (None, 17, 17, 160)          122880    ['mixed5[0][0]']              \n",
            "                                                                                                  \n",
            " conv2d_60 (Conv2D)          (None, 17, 17, 160)          179200    ['activation_55[0][0]']       \n",
            "                                                                                                  \n",
            " batch_normalization_55 (Ba  (None, 17, 17, 160)          480       ['conv2d_55[0][0]']           \n",
            " tchNormalization)                                                                                \n",
            "                                                                                                  \n",
            " batch_normalization_60 (Ba  (None, 17, 17, 160)          480       ['conv2d_60[0][0]']           \n",
            " tchNormalization)                                                                                \n",
            "                                                                                                  \n",
            " activation_51 (Activation)  (None, 17, 17, 160)          0         ['batch_normalization_55[0][0]\n",
            "                                                                    ']                            \n",
            "                                                                                                  \n",
            " activation_56 (Activation)  (None, 17, 17, 160)          0         ['batch_normalization_60[0][0]\n",
            "                                                                    ']                            \n",
            "                                                                                                  \n",
            " conv2d_56 (Conv2D)          (None, 17, 17, 160)          179200    ['activation_51[0][0]']       \n",
            "                                                                                                  \n",
            " conv2d_61 (Conv2D)          (None, 17, 17, 160)          179200    ['activation_56[0][0]']       \n",
            "                                                                                                  \n",
            " batch_normalization_56 (Ba  (None, 17, 17, 160)          480       ['conv2d_56[0][0]']           \n",
            " tchNormalization)                                                                                \n",
            "                                                                                                  \n",
            " batch_normalization_61 (Ba  (None, 17, 17, 160)          480       ['conv2d_61[0][0]']           \n",
            " tchNormalization)                                                                                \n",
            "                                                                                                  \n",
            " activation_52 (Activation)  (None, 17, 17, 160)          0         ['batch_normalization_56[0][0]\n",
            "                                                                    ']                            \n",
            "                                                                                                  \n",
            " activation_57 (Activation)  (None, 17, 17, 160)          0         ['batch_normalization_61[0][0]\n",
            "                                                                    ']                            \n",
            "                                                                                                  \n",
            " average_pooling2d_5 (Avera  (None, 17, 17, 768)          0         ['mixed5[0][0]']              \n",
            " gePooling2D)                                                                                     \n",
            "                                                                                                  \n",
            " conv2d_54 (Conv2D)          (None, 17, 17, 192)          147456    ['mixed5[0][0]']              \n",
            "                                                                                                  \n",
            " conv2d_57 (Conv2D)          (None, 17, 17, 192)          215040    ['activation_52[0][0]']       \n",
            "                                                                                                  \n",
            " conv2d_62 (Conv2D)          (None, 17, 17, 192)          215040    ['activation_57[0][0]']       \n",
            "                                                                                                  \n",
            " conv2d_63 (Conv2D)          (None, 17, 17, 192)          147456    ['average_pooling2d_5[0][0]'] \n",
            "                                                                                                  \n",
            " batch_normalization_54 (Ba  (None, 17, 17, 192)          576       ['conv2d_54[0][0]']           \n",
            " tchNormalization)                                                                                \n",
            "                                                                                                  \n",
            " batch_normalization_57 (Ba  (None, 17, 17, 192)          576       ['conv2d_57[0][0]']           \n",
            " tchNormalization)                                                                                \n",
            "                                                                                                  \n",
            " batch_normalization_62 (Ba  (None, 17, 17, 192)          576       ['conv2d_62[0][0]']           \n",
            " tchNormalization)                                                                                \n",
            "                                                                                                  \n",
            " batch_normalization_63 (Ba  (None, 17, 17, 192)          576       ['conv2d_63[0][0]']           \n",
            " tchNormalization)                                                                                \n",
            "                                                                                                  \n",
            " activation_50 (Activation)  (None, 17, 17, 192)          0         ['batch_normalization_54[0][0]\n",
            "                                                                    ']                            \n",
            "                                                                                                  \n",
            " activation_53 (Activation)  (None, 17, 17, 192)          0         ['batch_normalization_57[0][0]\n",
            "                                                                    ']                            \n",
            "                                                                                                  \n",
            " activation_58 (Activation)  (None, 17, 17, 192)          0         ['batch_normalization_62[0][0]\n",
            "                                                                    ']                            \n",
            "                                                                                                  \n",
            " activation_59 (Activation)  (None, 17, 17, 192)          0         ['batch_normalization_63[0][0]\n",
            "                                                                    ']                            \n",
            "                                                                                                  \n",
            " mixed6 (Concatenate)        (None, 17, 17, 768)          0         ['activation_50[0][0]',       \n",
            "                                                                     'activation_53[0][0]',       \n",
            "                                                                     'activation_58[0][0]',       \n",
            "                                                                     'activation_59[0][0]']       \n",
            "                                                                                                  \n",
            " conv2d_68 (Conv2D)          (None, 17, 17, 192)          147456    ['mixed6[0][0]']              \n",
            "                                                                                                  \n",
            " batch_normalization_68 (Ba  (None, 17, 17, 192)          576       ['conv2d_68[0][0]']           \n",
            " tchNormalization)                                                                                \n",
            "                                                                                                  \n",
            " activation_64 (Activation)  (None, 17, 17, 192)          0         ['batch_normalization_68[0][0]\n",
            "                                                                    ']                            \n",
            "                                                                                                  \n",
            " conv2d_69 (Conv2D)          (None, 17, 17, 192)          258048    ['activation_64[0][0]']       \n",
            "                                                                                                  \n",
            " batch_normalization_69 (Ba  (None, 17, 17, 192)          576       ['conv2d_69[0][0]']           \n",
            " tchNormalization)                                                                                \n",
            "                                                                                                  \n",
            " activation_65 (Activation)  (None, 17, 17, 192)          0         ['batch_normalization_69[0][0]\n",
            "                                                                    ']                            \n",
            "                                                                                                  \n",
            " conv2d_65 (Conv2D)          (None, 17, 17, 192)          147456    ['mixed6[0][0]']              \n",
            "                                                                                                  \n",
            " conv2d_70 (Conv2D)          (None, 17, 17, 192)          258048    ['activation_65[0][0]']       \n",
            "                                                                                                  \n",
            " batch_normalization_65 (Ba  (None, 17, 17, 192)          576       ['conv2d_65[0][0]']           \n",
            " tchNormalization)                                                                                \n",
            "                                                                                                  \n",
            " batch_normalization_70 (Ba  (None, 17, 17, 192)          576       ['conv2d_70[0][0]']           \n",
            " tchNormalization)                                                                                \n",
            "                                                                                                  \n",
            " activation_61 (Activation)  (None, 17, 17, 192)          0         ['batch_normalization_65[0][0]\n",
            "                                                                    ']                            \n",
            "                                                                                                  \n",
            " activation_66 (Activation)  (None, 17, 17, 192)          0         ['batch_normalization_70[0][0]\n",
            "                                                                    ']                            \n",
            "                                                                                                  \n",
            " conv2d_66 (Conv2D)          (None, 17, 17, 192)          258048    ['activation_61[0][0]']       \n",
            "                                                                                                  \n",
            " conv2d_71 (Conv2D)          (None, 17, 17, 192)          258048    ['activation_66[0][0]']       \n",
            "                                                                                                  \n",
            " batch_normalization_66 (Ba  (None, 17, 17, 192)          576       ['conv2d_66[0][0]']           \n",
            " tchNormalization)                                                                                \n",
            "                                                                                                  \n",
            " batch_normalization_71 (Ba  (None, 17, 17, 192)          576       ['conv2d_71[0][0]']           \n",
            " tchNormalization)                                                                                \n",
            "                                                                                                  \n",
            " activation_62 (Activation)  (None, 17, 17, 192)          0         ['batch_normalization_66[0][0]\n",
            "                                                                    ']                            \n",
            "                                                                                                  \n",
            " activation_67 (Activation)  (None, 17, 17, 192)          0         ['batch_normalization_71[0][0]\n",
            "                                                                    ']                            \n",
            "                                                                                                  \n",
            " average_pooling2d_6 (Avera  (None, 17, 17, 768)          0         ['mixed6[0][0]']              \n",
            " gePooling2D)                                                                                     \n",
            "                                                                                                  \n",
            " conv2d_64 (Conv2D)          (None, 17, 17, 192)          147456    ['mixed6[0][0]']              \n",
            "                                                                                                  \n",
            " conv2d_67 (Conv2D)          (None, 17, 17, 192)          258048    ['activation_62[0][0]']       \n",
            "                                                                                                  \n",
            " conv2d_72 (Conv2D)          (None, 17, 17, 192)          258048    ['activation_67[0][0]']       \n",
            "                                                                                                  \n",
            " conv2d_73 (Conv2D)          (None, 17, 17, 192)          147456    ['average_pooling2d_6[0][0]'] \n",
            "                                                                                                  \n",
            " batch_normalization_64 (Ba  (None, 17, 17, 192)          576       ['conv2d_64[0][0]']           \n",
            " tchNormalization)                                                                                \n",
            "                                                                                                  \n",
            " batch_normalization_67 (Ba  (None, 17, 17, 192)          576       ['conv2d_67[0][0]']           \n",
            " tchNormalization)                                                                                \n",
            "                                                                                                  \n",
            " batch_normalization_72 (Ba  (None, 17, 17, 192)          576       ['conv2d_72[0][0]']           \n",
            " tchNormalization)                                                                                \n",
            "                                                                                                  \n",
            " batch_normalization_73 (Ba  (None, 17, 17, 192)          576       ['conv2d_73[0][0]']           \n",
            " tchNormalization)                                                                                \n",
            "                                                                                                  \n",
            " activation_60 (Activation)  (None, 17, 17, 192)          0         ['batch_normalization_64[0][0]\n",
            "                                                                    ']                            \n",
            "                                                                                                  \n",
            " activation_63 (Activation)  (None, 17, 17, 192)          0         ['batch_normalization_67[0][0]\n",
            "                                                                    ']                            \n",
            "                                                                                                  \n",
            " activation_68 (Activation)  (None, 17, 17, 192)          0         ['batch_normalization_72[0][0]\n",
            "                                                                    ']                            \n",
            "                                                                                                  \n",
            " activation_69 (Activation)  (None, 17, 17, 192)          0         ['batch_normalization_73[0][0]\n",
            "                                                                    ']                            \n",
            "                                                                                                  \n",
            " mixed7 (Concatenate)        (None, 17, 17, 768)          0         ['activation_60[0][0]',       \n",
            "                                                                     'activation_63[0][0]',       \n",
            "                                                                     'activation_68[0][0]',       \n",
            "                                                                     'activation_69[0][0]']       \n",
            "                                                                                                  \n",
            " conv2d_76 (Conv2D)          (None, 17, 17, 192)          147456    ['mixed7[0][0]']              \n",
            "                                                                                                  \n",
            " batch_normalization_76 (Ba  (None, 17, 17, 192)          576       ['conv2d_76[0][0]']           \n",
            " tchNormalization)                                                                                \n",
            "                                                                                                  \n",
            " activation_72 (Activation)  (None, 17, 17, 192)          0         ['batch_normalization_76[0][0]\n",
            "                                                                    ']                            \n",
            "                                                                                                  \n",
            " conv2d_77 (Conv2D)          (None, 17, 17, 192)          258048    ['activation_72[0][0]']       \n",
            "                                                                                                  \n",
            " batch_normalization_77 (Ba  (None, 17, 17, 192)          576       ['conv2d_77[0][0]']           \n",
            " tchNormalization)                                                                                \n",
            "                                                                                                  \n",
            " activation_73 (Activation)  (None, 17, 17, 192)          0         ['batch_normalization_77[0][0]\n",
            "                                                                    ']                            \n",
            "                                                                                                  \n",
            " conv2d_74 (Conv2D)          (None, 17, 17, 192)          147456    ['mixed7[0][0]']              \n",
            "                                                                                                  \n",
            " conv2d_78 (Conv2D)          (None, 17, 17, 192)          258048    ['activation_73[0][0]']       \n",
            "                                                                                                  \n",
            " batch_normalization_74 (Ba  (None, 17, 17, 192)          576       ['conv2d_74[0][0]']           \n",
            " tchNormalization)                                                                                \n",
            "                                                                                                  \n",
            " batch_normalization_78 (Ba  (None, 17, 17, 192)          576       ['conv2d_78[0][0]']           \n",
            " tchNormalization)                                                                                \n",
            "                                                                                                  \n",
            " activation_70 (Activation)  (None, 17, 17, 192)          0         ['batch_normalization_74[0][0]\n",
            "                                                                    ']                            \n",
            "                                                                                                  \n",
            " activation_74 (Activation)  (None, 17, 17, 192)          0         ['batch_normalization_78[0][0]\n",
            "                                                                    ']                            \n",
            "                                                                                                  \n",
            " conv2d_75 (Conv2D)          (None, 8, 8, 320)            552960    ['activation_70[0][0]']       \n",
            "                                                                                                  \n",
            " conv2d_79 (Conv2D)          (None, 8, 8, 192)            331776    ['activation_74[0][0]']       \n",
            "                                                                                                  \n",
            " batch_normalization_75 (Ba  (None, 8, 8, 320)            960       ['conv2d_75[0][0]']           \n",
            " tchNormalization)                                                                                \n",
            "                                                                                                  \n",
            " batch_normalization_79 (Ba  (None, 8, 8, 192)            576       ['conv2d_79[0][0]']           \n",
            " tchNormalization)                                                                                \n",
            "                                                                                                  \n",
            " activation_71 (Activation)  (None, 8, 8, 320)            0         ['batch_normalization_75[0][0]\n",
            "                                                                    ']                            \n",
            "                                                                                                  \n",
            " activation_75 (Activation)  (None, 8, 8, 192)            0         ['batch_normalization_79[0][0]\n",
            "                                                                    ']                            \n",
            "                                                                                                  \n",
            " max_pooling2d_3 (MaxPoolin  (None, 8, 8, 768)            0         ['mixed7[0][0]']              \n",
            " g2D)                                                                                             \n",
            "                                                                                                  \n",
            " mixed8 (Concatenate)        (None, 8, 8, 1280)           0         ['activation_71[0][0]',       \n",
            "                                                                     'activation_75[0][0]',       \n",
            "                                                                     'max_pooling2d_3[0][0]']     \n",
            "                                                                                                  \n",
            " conv2d_84 (Conv2D)          (None, 8, 8, 448)            573440    ['mixed8[0][0]']              \n",
            "                                                                                                  \n",
            " batch_normalization_84 (Ba  (None, 8, 8, 448)            1344      ['conv2d_84[0][0]']           \n",
            " tchNormalization)                                                                                \n",
            "                                                                                                  \n",
            " activation_80 (Activation)  (None, 8, 8, 448)            0         ['batch_normalization_84[0][0]\n",
            "                                                                    ']                            \n",
            "                                                                                                  \n",
            " conv2d_81 (Conv2D)          (None, 8, 8, 384)            491520    ['mixed8[0][0]']              \n",
            "                                                                                                  \n",
            " conv2d_85 (Conv2D)          (None, 8, 8, 384)            1548288   ['activation_80[0][0]']       \n",
            "                                                                                                  \n",
            " batch_normalization_81 (Ba  (None, 8, 8, 384)            1152      ['conv2d_81[0][0]']           \n",
            " tchNormalization)                                                                                \n",
            "                                                                                                  \n",
            " batch_normalization_85 (Ba  (None, 8, 8, 384)            1152      ['conv2d_85[0][0]']           \n",
            " tchNormalization)                                                                                \n",
            "                                                                                                  \n",
            " activation_77 (Activation)  (None, 8, 8, 384)            0         ['batch_normalization_81[0][0]\n",
            "                                                                    ']                            \n",
            "                                                                                                  \n",
            " activation_81 (Activation)  (None, 8, 8, 384)            0         ['batch_normalization_85[0][0]\n",
            "                                                                    ']                            \n",
            "                                                                                                  \n",
            " conv2d_82 (Conv2D)          (None, 8, 8, 384)            442368    ['activation_77[0][0]']       \n",
            "                                                                                                  \n",
            " conv2d_83 (Conv2D)          (None, 8, 8, 384)            442368    ['activation_77[0][0]']       \n",
            "                                                                                                  \n",
            " conv2d_86 (Conv2D)          (None, 8, 8, 384)            442368    ['activation_81[0][0]']       \n",
            "                                                                                                  \n",
            " conv2d_87 (Conv2D)          (None, 8, 8, 384)            442368    ['activation_81[0][0]']       \n",
            "                                                                                                  \n",
            " average_pooling2d_7 (Avera  (None, 8, 8, 1280)           0         ['mixed8[0][0]']              \n",
            " gePooling2D)                                                                                     \n",
            "                                                                                                  \n",
            " conv2d_80 (Conv2D)          (None, 8, 8, 320)            409600    ['mixed8[0][0]']              \n",
            "                                                                                                  \n",
            " batch_normalization_82 (Ba  (None, 8, 8, 384)            1152      ['conv2d_82[0][0]']           \n",
            " tchNormalization)                                                                                \n",
            "                                                                                                  \n",
            " batch_normalization_83 (Ba  (None, 8, 8, 384)            1152      ['conv2d_83[0][0]']           \n",
            " tchNormalization)                                                                                \n",
            "                                                                                                  \n",
            " batch_normalization_86 (Ba  (None, 8, 8, 384)            1152      ['conv2d_86[0][0]']           \n",
            " tchNormalization)                                                                                \n",
            "                                                                                                  \n",
            " batch_normalization_87 (Ba  (None, 8, 8, 384)            1152      ['conv2d_87[0][0]']           \n",
            " tchNormalization)                                                                                \n",
            "                                                                                                  \n",
            " conv2d_88 (Conv2D)          (None, 8, 8, 192)            245760    ['average_pooling2d_7[0][0]'] \n",
            "                                                                                                  \n",
            " batch_normalization_80 (Ba  (None, 8, 8, 320)            960       ['conv2d_80[0][0]']           \n",
            " tchNormalization)                                                                                \n",
            "                                                                                                  \n",
            " activation_78 (Activation)  (None, 8, 8, 384)            0         ['batch_normalization_82[0][0]\n",
            "                                                                    ']                            \n",
            "                                                                                                  \n",
            " activation_79 (Activation)  (None, 8, 8, 384)            0         ['batch_normalization_83[0][0]\n",
            "                                                                    ']                            \n",
            "                                                                                                  \n",
            " activation_82 (Activation)  (None, 8, 8, 384)            0         ['batch_normalization_86[0][0]\n",
            "                                                                    ']                            \n",
            "                                                                                                  \n",
            " activation_83 (Activation)  (None, 8, 8, 384)            0         ['batch_normalization_87[0][0]\n",
            "                                                                    ']                            \n",
            "                                                                                                  \n",
            " batch_normalization_88 (Ba  (None, 8, 8, 192)            576       ['conv2d_88[0][0]']           \n",
            " tchNormalization)                                                                                \n",
            "                                                                                                  \n",
            " activation_76 (Activation)  (None, 8, 8, 320)            0         ['batch_normalization_80[0][0]\n",
            "                                                                    ']                            \n",
            "                                                                                                  \n",
            " mixed9_0 (Concatenate)      (None, 8, 8, 768)            0         ['activation_78[0][0]',       \n",
            "                                                                     'activation_79[0][0]']       \n",
            "                                                                                                  \n",
            " concatenate (Concatenate)   (None, 8, 8, 768)            0         ['activation_82[0][0]',       \n",
            "                                                                     'activation_83[0][0]']       \n",
            "                                                                                                  \n",
            " activation_84 (Activation)  (None, 8, 8, 192)            0         ['batch_normalization_88[0][0]\n",
            "                                                                    ']                            \n",
            "                                                                                                  \n",
            " mixed9 (Concatenate)        (None, 8, 8, 2048)           0         ['activation_76[0][0]',       \n",
            "                                                                     'mixed9_0[0][0]',            \n",
            "                                                                     'concatenate[0][0]',         \n",
            "                                                                     'activation_84[0][0]']       \n",
            "                                                                                                  \n",
            " conv2d_93 (Conv2D)          (None, 8, 8, 448)            917504    ['mixed9[0][0]']              \n",
            "                                                                                                  \n",
            " batch_normalization_93 (Ba  (None, 8, 8, 448)            1344      ['conv2d_93[0][0]']           \n",
            " tchNormalization)                                                                                \n",
            "                                                                                                  \n",
            " activation_89 (Activation)  (None, 8, 8, 448)            0         ['batch_normalization_93[0][0]\n",
            "                                                                    ']                            \n",
            "                                                                                                  \n",
            " conv2d_90 (Conv2D)          (None, 8, 8, 384)            786432    ['mixed9[0][0]']              \n",
            "                                                                                                  \n",
            " conv2d_94 (Conv2D)          (None, 8, 8, 384)            1548288   ['activation_89[0][0]']       \n",
            "                                                                                                  \n",
            " batch_normalization_90 (Ba  (None, 8, 8, 384)            1152      ['conv2d_90[0][0]']           \n",
            " tchNormalization)                                                                                \n",
            "                                                                                                  \n",
            " batch_normalization_94 (Ba  (None, 8, 8, 384)            1152      ['conv2d_94[0][0]']           \n",
            " tchNormalization)                                                                                \n",
            "                                                                                                  \n",
            " activation_86 (Activation)  (None, 8, 8, 384)            0         ['batch_normalization_90[0][0]\n",
            "                                                                    ']                            \n",
            "                                                                                                  \n",
            " activation_90 (Activation)  (None, 8, 8, 384)            0         ['batch_normalization_94[0][0]\n",
            "                                                                    ']                            \n",
            "                                                                                                  \n",
            " conv2d_91 (Conv2D)          (None, 8, 8, 384)            442368    ['activation_86[0][0]']       \n",
            "                                                                                                  \n",
            " conv2d_92 (Conv2D)          (None, 8, 8, 384)            442368    ['activation_86[0][0]']       \n",
            "                                                                                                  \n",
            " conv2d_95 (Conv2D)          (None, 8, 8, 384)            442368    ['activation_90[0][0]']       \n",
            "                                                                                                  \n",
            " conv2d_96 (Conv2D)          (None, 8, 8, 384)            442368    ['activation_90[0][0]']       \n",
            "                                                                                                  \n",
            " average_pooling2d_8 (Avera  (None, 8, 8, 2048)           0         ['mixed9[0][0]']              \n",
            " gePooling2D)                                                                                     \n",
            "                                                                                                  \n",
            " conv2d_89 (Conv2D)          (None, 8, 8, 320)            655360    ['mixed9[0][0]']              \n",
            "                                                                                                  \n",
            " batch_normalization_91 (Ba  (None, 8, 8, 384)            1152      ['conv2d_91[0][0]']           \n",
            " tchNormalization)                                                                                \n",
            "                                                                                                  \n",
            " batch_normalization_92 (Ba  (None, 8, 8, 384)            1152      ['conv2d_92[0][0]']           \n",
            " tchNormalization)                                                                                \n",
            "                                                                                                  \n",
            " batch_normalization_95 (Ba  (None, 8, 8, 384)            1152      ['conv2d_95[0][0]']           \n",
            " tchNormalization)                                                                                \n",
            "                                                                                                  \n",
            " batch_normalization_96 (Ba  (None, 8, 8, 384)            1152      ['conv2d_96[0][0]']           \n",
            " tchNormalization)                                                                                \n",
            "                                                                                                  \n",
            " conv2d_97 (Conv2D)          (None, 8, 8, 192)            393216    ['average_pooling2d_8[0][0]'] \n",
            "                                                                                                  \n",
            " batch_normalization_89 (Ba  (None, 8, 8, 320)            960       ['conv2d_89[0][0]']           \n",
            " tchNormalization)                                                                                \n",
            "                                                                                                  \n",
            " activation_87 (Activation)  (None, 8, 8, 384)            0         ['batch_normalization_91[0][0]\n",
            "                                                                    ']                            \n",
            "                                                                                                  \n",
            " activation_88 (Activation)  (None, 8, 8, 384)            0         ['batch_normalization_92[0][0]\n",
            "                                                                    ']                            \n",
            "                                                                                                  \n",
            " activation_91 (Activation)  (None, 8, 8, 384)            0         ['batch_normalization_95[0][0]\n",
            "                                                                    ']                            \n",
            "                                                                                                  \n",
            " activation_92 (Activation)  (None, 8, 8, 384)            0         ['batch_normalization_96[0][0]\n",
            "                                                                    ']                            \n",
            "                                                                                                  \n",
            " batch_normalization_97 (Ba  (None, 8, 8, 192)            576       ['conv2d_97[0][0]']           \n",
            " tchNormalization)                                                                                \n",
            "                                                                                                  \n",
            " activation_85 (Activation)  (None, 8, 8, 320)            0         ['batch_normalization_89[0][0]\n",
            "                                                                    ']                            \n",
            "                                                                                                  \n",
            " mixed9_1 (Concatenate)      (None, 8, 8, 768)            0         ['activation_87[0][0]',       \n",
            "                                                                     'activation_88[0][0]']       \n",
            "                                                                                                  \n",
            " concatenate_1 (Concatenate  (None, 8, 8, 768)            0         ['activation_91[0][0]',       \n",
            " )                                                                   'activation_92[0][0]']       \n",
            "                                                                                                  \n",
            " activation_93 (Activation)  (None, 8, 8, 192)            0         ['batch_normalization_97[0][0]\n",
            "                                                                    ']                            \n",
            "                                                                                                  \n",
            " mixed10 (Concatenate)       (None, 8, 8, 2048)           0         ['activation_85[0][0]',       \n",
            "                                                                     'mixed9_1[0][0]',            \n",
            "                                                                     'concatenate_1[0][0]',       \n",
            "                                                                     'activation_93[0][0]']       \n",
            "                                                                                                  \n",
            " avg_pool (GlobalAveragePoo  (None, 2048)                 0         ['mixed10[0][0]']             \n",
            " ling2D)                                                                                          \n",
            "                                                                                                  \n",
            " predictions (Dense)         (None, 1)                    2049      ['avg_pool[0][0]']            \n",
            "                                                                                                  \n",
            "==================================================================================================\n",
            "Total params: 21804833 (83.18 MB)\n",
            "Trainable params: 2049 (8.00 KB)\n",
            "Non-trainable params: 21802784 (83.17 MB)\n",
            "__________________________________________________________________________________________________\n"
          ]
        }
      ],
      "source": [
        "modelinc.summary()"
      ]
    },
    {
      "cell_type": "code",
      "execution_count": null,
      "metadata": {
        "colab": {
          "base_uri": "https://localhost:8080/"
        },
        "id": "Yp4pdSOqcGHS",
        "outputId": "ec0142af-bee7-415c-af2e-fbf2ed0c0a9a"
      },
      "outputs": [
        {
          "name": "stdout",
          "output_type": "stream",
          "text": [
            "Epoch 1/10\n",
            "18/18 [==============================] - 921s 49s/step - loss: 3.5978 - accuracy: 0.7668\n",
            "Epoch 2/10\n",
            "18/18 [==============================] - 158s 9s/step - loss: 3.5978 - accuracy: 0.7668\n",
            "Epoch 3/10\n",
            "18/18 [==============================] - 148s 8s/step - loss: 3.5978 - accuracy: 0.7668\n",
            "Epoch 4/10\n",
            "18/18 [==============================] - 154s 9s/step - loss: 3.5978 - accuracy: 0.7668\n",
            "Epoch 5/10\n",
            "18/18 [==============================] - 156s 9s/step - loss: 3.5978 - accuracy: 0.7668\n",
            "Epoch 6/10\n",
            "18/18 [==============================] - 149s 8s/step - loss: 3.5978 - accuracy: 0.7668\n",
            "Epoch 7/10\n",
            "18/18 [==============================] - 149s 8s/step - loss: 3.5978 - accuracy: 0.7668\n",
            "Epoch 8/10\n",
            "18/18 [==============================] - 155s 9s/step - loss: 3.5978 - accuracy: 0.7668\n",
            "Epoch 9/10\n",
            "18/18 [==============================] - 161s 9s/step - loss: 3.5978 - accuracy: 0.7668\n",
            "Epoch 10/10\n",
            "18/18 [==============================] - 168s 9s/step - loss: 3.5978 - accuracy: 0.7668\n"
          ]
        }
      ],
      "source": [
        "modelinc.trainable = False\n",
        "modelXC.trainable = False\n",
        "modelincXC.compile(optimizer='adam', loss='binary_crossentropy', metrics=['accuracy'])\n",
        "insuincXChistory=modelincXC.fit(train_data_gen,epochs=10)"
      ]
    },
    {
      "cell_type": "code",
      "execution_count": null,
      "metadata": {
        "colab": {
          "base_uri": "https://localhost:8080/"
        },
        "id": "xOl_KTyJcJEb",
        "outputId": "bfdc998a-9664-4e0d-aabd-67677af47ce6"
      },
      "outputs": [
        {
          "name": "stderr",
          "output_type": "stream",
          "text": [
            "/usr/local/lib/python3.10/dist-packages/keras/src/engine/training.py:3103: UserWarning: You are saving your model as an HDF5 file via `model.save()`. This file format is considered legacy. We recommend using instead the native Keras format, e.g. `model.save('my_model.keras')`.\n",
            "  saving_api.save_model(\n"
          ]
        },
        {
          "name": "stdout",
          "output_type": "stream",
          "text": [
            "2/2 - 52s - loss: 4.4071 - accuracy: 0.7143 - 52s/epoch - 26s/step\n"
          ]
        }
      ],
      "source": [
        "#modelincXC.save('/content/gdrive/MyDrive/Colab Notebooks/insuincXChistory.history')\n",
        "modelincXC.save('gdrive/My Drive/Colab Notebooks/insulincXC.h5')\n",
        "modelincXC.evaluate(test_data_gen,steps=len(test_data_gen),verbose=2)\n",
        "f1=open('gdrive/My Drive/Colab Notebooks/insulincXCmodelOutput.txt', 'w')\n",
        "f1.write(\"Inception & Exception\\n\")\n",
        "f1.write(str(insuincXChistory.history))\n",
        "f1.close()"
      ]
    },
    {
      "cell_type": "code",
      "execution_count": null,
      "metadata": {
        "colab": {
          "base_uri": "https://localhost:8080/"
        },
        "id": "HcKrt2R-8d6B",
        "outputId": "40f72f18-0258-4d4b-dfe2-17bf36f9d593"
      },
      "outputs": [
        {
          "data": {
            "text/plain": [
              "array([0, 0, 0, 0, 0, 0, 0, 0, 0, 0, 0, 0, 0, 0, 0, 0, 0, 0, 0, 0, 0, 0,\n",
              "       0, 0, 0, 0, 0, 0, 0, 0, 0, 0, 0, 0, 0, 0, 0, 0, 0, 0, 0, 0, 0, 0,\n",
              "       0, 0, 0, 0, 0, 0, 0, 0, 0, 0, 0, 0, 0, 0, 0, 0, 0, 0, 0, 0, 0, 0,\n",
              "       0, 0, 0, 0, 0, 0, 0, 0, 0, 0, 0, 0, 0, 0, 0, 0, 0, 0, 0, 0, 0, 0,\n",
              "       0, 0, 0, 0, 0, 0, 0, 0, 0, 0, 0, 0, 0, 0, 0, 0, 0, 0, 0, 0, 0, 0,\n",
              "       0, 0, 0, 0, 0, 0, 0, 0, 0, 0, 0, 0, 0, 0, 0, 1, 1, 1, 1, 1, 1, 1,\n",
              "       1, 1, 1, 1, 1, 1, 1, 1, 1, 1, 1, 1, 1, 1, 1, 1, 1, 1, 1, 1, 1, 1,\n",
              "       1, 1, 1, 1, 1, 1, 1, 1, 1, 1, 1, 1, 1, 1, 1, 1, 1, 1, 1, 1, 1],\n",
              "      dtype=int32)"
            ]
          },
          "execution_count": 24,
          "metadata": {},
          "output_type": "execute_result"
        }
      ],
      "source": [
        "test_labels = np.asarray(test_data_gen.labels, dtype=np.int32)\n",
        "test_labels"
      ]
    },
    {
      "cell_type": "code",
      "execution_count": null,
      "metadata": {
        "colab": {
          "base_uri": "https://localhost:8080/",
          "height": 1000
        },
        "id": "ydAxvEYZ8Tc2",
        "outputId": "167ad007-61c3-46af-aece-4ce15eb84832"
      },
      "outputs": [
        {
          "name": "stdout",
          "output_type": "stream",
          "text": [
            "2/2 [==============================] - 20s 4s/step\n",
            "              precision    recall  f1-score   support\n",
            "\n",
            "      normal       0.71      1.00      0.83       125\n",
            "      defect       0.00      0.00      0.00        50\n",
            "\n",
            "    accuracy                           0.71       175\n",
            "   macro avg       0.36      0.50      0.42       175\n",
            "weighted avg       0.51      0.71      0.60       175\n",
            "\n"
          ]
        },
        {
          "name": "stderr",
          "output_type": "stream",
          "text": [
            "/usr/local/lib/python3.10/dist-packages/sklearn/metrics/_classification.py:1344: UndefinedMetricWarning: Precision and F-score are ill-defined and being set to 0.0 in labels with no predicted samples. Use `zero_division` parameter to control this behavior.\n",
            "  _warn_prf(average, modifier, msg_start, len(result))\n",
            "/usr/local/lib/python3.10/dist-packages/sklearn/metrics/_classification.py:1344: UndefinedMetricWarning: Precision and F-score are ill-defined and being set to 0.0 in labels with no predicted samples. Use `zero_division` parameter to control this behavior.\n",
            "  _warn_prf(average, modifier, msg_start, len(result))\n",
            "/usr/local/lib/python3.10/dist-packages/sklearn/metrics/_classification.py:1344: UndefinedMetricWarning: Precision and F-score are ill-defined and being set to 0.0 in labels with no predicted samples. Use `zero_division` parameter to control this behavior.\n",
            "  _warn_prf(average, modifier, msg_start, len(result))\n"
          ]
        },
        {
          "data": {
            "text/plain": [
              "<Axes: >"
            ]
          },
          "execution_count": 26,
          "metadata": {},
          "output_type": "execute_result"
        },
        {
          "data": {
            "image/png": "[encoded data removed]",
            "text/plain": [
              "<Figure size 1000x1000 with 2 Axes>"
            ]
          },
          "metadata": {},
          "output_type": "display_data"
        }
      ],
      "source": [
        "test_labels = np.asarray(test_data_gen.labels, dtype=np.int32)\n",
        "categories= ['normal', 'defect' ]\n",
        "predictions = (modelincXC.predict(test_data_gen))\n",
        "predictions[:10]\n",
        "from sklearn import preprocessing\n",
        "le = preprocessing.LabelEncoder()\n",
        "test_labels_encoded = le.fit_transform(test_labels)\n",
        "from sklearn.metrics import classification_report\n",
        "test_labels = test_labels.ravel()\n",
        "predictions = predictions.argmax(axis=1)\n",
        "print(classification_report(test_labels, predictions, target_names=categories))\n",
        "cm = confusion_matrix(test_labels,predictions)\n",
        "cm = pd.DataFrame(cm , index = categories , columns = categories)\n",
        "plt.figure(figsize = (10,10))\n",
        "sns.heatmap(cm,cmap= \"Blues\", linecolor = 'black' , linewidth = 1 , annot = True, fmt='',\n",
        "            xticklabels = categories , yticklabels =categories)"
      ]
    },
    {
      "cell_type": "markdown",
      "metadata": {
        "id": "uqnrumabtHPD"
      },
      "source": [
        "# **2. Combine Inception and VGG19**"
      ]
    },
    {
      "cell_type": "code",
      "execution_count": null,
      "metadata": {
        "id": "svj_TSp8tSbF"
      },
      "outputs": [],
      "source": [
        "#load the existing model available in the gdrive (Inception,Exception)\n",
        "modelinc = tf.keras.models.load_model('gdrive/My Drive/Colab Notebooks/insulinv3.h5')\n",
        "modelvgg19 = tf.keras.models.load_model('gdrive/My Drive/Colab Notebooks/insulvgg19.h5')\n"
      ]
    },
    {
      "cell_type": "code",
      "execution_count": null,
      "metadata": {
        "id": "6yWv618atmWE"
      },
      "outputs": [],
      "source": [
        "#Assign the input image size as 224,224,3\n",
        "input_shape=(IMG_HEIGHT, IMG_WIDTH, 3)\n",
        "# Set the Output size as number of classes (1, sigmoid for binary classisfication)\n",
        "# (2, softmax for multiclass)\n",
        "n_classes=1\n",
        "inputs = tf.keras.layers.Input(shape=input_shape)\n",
        "#combine the two models\n",
        "combined = tf.keras.layers.Concatenate()([modelinc(inputs), modelvgg19(inputs)])\n",
        "\n",
        "outputs = tf.keras.layers.Dense(n_classes)(combined)\n",
        "\n",
        "modelincvgg19 = tf.keras.models.Model(inputs, outputs)\n"
      ]
    },
    {
      "cell_type": "code",
      "execution_count": null,
      "metadata": {
        "colab": {
          "base_uri": "https://localhost:8080/"
        },
        "id": "GAvw8-uWwClE",
        "outputId": "69f724b4-63d7-4ba9-ad2d-f1697f974533"
      },
      "outputs": [
        {
          "name": "stdout",
          "output_type": "stream",
          "text": [
            "Epoch 1/10\n",
            "18/18 [==============================] - 186s 9s/step - loss: 3.5978 - accuracy: 0.7668\n",
            "Epoch 2/10\n",
            "18/18 [==============================] - 156s 9s/step - loss: 3.5978 - accuracy: 0.7668\n",
            "Epoch 3/10\n",
            "18/18 [==============================] - 183s 10s/step - loss: 3.5978 - accuracy: 0.7668\n",
            "Epoch 4/10\n",
            "18/18 [==============================] - 149s 8s/step - loss: 3.5978 - accuracy: 0.7668\n",
            "Epoch 5/10\n",
            "18/18 [==============================] - 147s 8s/step - loss: 3.5978 - accuracy: 0.7668\n",
            "Epoch 6/10\n",
            "18/18 [==============================] - 154s 9s/step - loss: 3.5978 - accuracy: 0.7668\n",
            "Epoch 7/10\n",
            "18/18 [==============================] - 148s 8s/step - loss: 3.5978 - accuracy: 0.7668\n",
            "Epoch 8/10\n",
            "18/18 [==============================] - 146s 8s/step - loss: 3.5978 - accuracy: 0.7668\n",
            "Epoch 9/10\n",
            "18/18 [==============================] - 153s 9s/step - loss: 3.5978 - accuracy: 0.7668\n",
            "Epoch 10/10\n",
            "18/18 [==============================] - 149s 8s/step - loss: 3.5978 - accuracy: 0.7668\n"
          ]
        }
      ],
      "source": [
        "modelinc.trainable = False\n",
        "modelvgg19.trainable = False\n",
        "modelincvgg19.compile(optimizer='adam', loss='binary_crossentropy', metrics=['accuracy'])\n",
        "insuincvgg19history=modelincvgg19.fit(train_data_gen,epochs=10)"
      ]
    },
    {
      "cell_type": "code",
      "execution_count": null,
      "metadata": {
        "colab": {
          "base_uri": "https://localhost:8080/"
        },
        "id": "YPyCQ8Twt8zC",
        "outputId": "0870d65c-bc6a-4cdc-cb39-cc4f053e4d0f"
      },
      "outputs": [
        {
          "name": "stderr",
          "output_type": "stream",
          "text": [
            "/usr/local/lib/python3.10/dist-packages/keras/src/engine/training.py:3103: UserWarning: You are saving your model as an HDF5 file via `model.save()`. This file format is considered legacy. We recommend using instead the native Keras format, e.g. `model.save('my_model.keras')`.\n",
            "  saving_api.save_model(\n"
          ]
        },
        {
          "name": "stdout",
          "output_type": "stream",
          "text": [
            "2/2 - 30s - loss: 4.4071 - accuracy: 0.7143 - 30s/epoch - 15s/step\n"
          ]
        }
      ],
      "source": [
        "modelincvgg19.save('gdrive/My Drive/Colab Notebooks/insulincvgg19.h5')\n",
        "modelincvgg19.evaluate(test_data_gen,steps=len(test_data_gen),verbose=2)\n",
        "f1=open('gdrive/My Drive/Colab Notebooks/insulincvgg19modelOutput.txt', 'w')\n",
        "f1.write(\"Inception & VGG19\\n\")\n",
        "f1.write(str(insuincvgg19history.history))\n",
        "f1.close()"
      ]
    },
    {
      "cell_type": "markdown",
      "metadata": {
        "id": "5ckJnCrN0ZTL"
      },
      "source": [
        "# Performance Metrics"
      ]
    },
    {
      "cell_type": "code",
      "execution_count": null,
      "metadata": {
        "id": "ZM_klGFs0YFr"
      },
      "outputs": [],
      "source": [
        "import matplotlib.pyplot as plt\n",
        "import seaborn as sns\n",
        "import keras\n",
        "from keras.models import Sequential, Model\n",
        "from keras.layers import Dense, Conv2D , MaxPool2D , Flatten , Dropout , MaxPooling2D, BatchNormalization\n",
        "from keras.preprocessing.image import ImageDataGenerator\n",
        "from sklearn.model_selection import train_test_split\n",
        "from sklearn.metrics import classification_report,confusion_matrix\n",
        "from tensorflow.keras.applications import VGG19,VGG16\n",
        "import cv2\n",
        "import os\n",
        "import random\n",
        "import tensorflow as tf\n",
        "import numpy as np\n",
        "import pandas as pd\n",
        "\n",
        "from tensorflow.keras.applications.imagenet_utils import preprocess_input\n",
        "from sklearn.metrics.pairwise import cosine_similarity\n",
        "from tensorflow.keras.models import load_model # to save the model\n",
        "from tensorflow.keras.models import Sequential\n",
        "from tensorflow.keras import layers, losses\n",
        "from tensorflow.keras.optimizers import SGD,RMSprop,Adam\n",
        "from tensorflow.random import set_seed\n",
        "from __future__ import absolute_import, division, print_function, unicode_literals\n",
        "\n",
        "from tensorflow.keras import utils as np_utils\n",
        "import requests\n",
        "import urllib\n",
        "from io import BytesIO\n",
        "from PIL import Image"
      ]
    },
    {
      "cell_type": "code",
      "execution_count": null,
      "metadata": {
        "colab": {
          "base_uri": "https://localhost:8080/",
          "height": 1000
        },
        "id": "4EbdXfC10Lmj",
        "outputId": "dfd5701a-1b24-4e88-b443-51bded4a5ca3"
      },
      "outputs": [
        {
          "name": "stdout",
          "output_type": "stream",
          "text": [
            "2/2 [==============================] - 22s 6s/step\n",
            "              precision    recall  f1-score   support\n",
            "\n",
            "      normal       0.71      1.00      0.83       125\n",
            "      defect       0.00      0.00      0.00        50\n",
            "\n",
            "    accuracy                           0.71       175\n",
            "   macro avg       0.36      0.50      0.42       175\n",
            "weighted avg       0.51      0.71      0.60       175\n",
            "\n"
          ]
        },
        {
          "name": "stderr",
          "output_type": "stream",
          "text": [
            "/usr/local/lib/python3.10/dist-packages/sklearn/metrics/_classification.py:1344: UndefinedMetricWarning: Precision and F-score are ill-defined and being set to 0.0 in labels with no predicted samples. Use `zero_division` parameter to control this behavior.\n",
            "  _warn_prf(average, modifier, msg_start, len(result))\n",
            "/usr/local/lib/python3.10/dist-packages/sklearn/metrics/_classification.py:1344: UndefinedMetricWarning: Precision and F-score are ill-defined and being set to 0.0 in labels with no predicted samples. Use `zero_division` parameter to control this behavior.\n",
            "  _warn_prf(average, modifier, msg_start, len(result))\n",
            "/usr/local/lib/python3.10/dist-packages/sklearn/metrics/_classification.py:1344: UndefinedMetricWarning: Precision and F-score are ill-defined and being set to 0.0 in labels with no predicted samples. Use `zero_division` parameter to control this behavior.\n",
            "  _warn_prf(average, modifier, msg_start, len(result))\n"
          ]
        },
        {
          "data": {
            "text/plain": [
              "<Axes: >"
            ]
          },
          "execution_count": 22,
          "metadata": {},
          "output_type": "execute_result"
        },
        {
          "data": {
            "image/png": "[encoded data removed]",
            "text/plain": [
              "<Figure size 1000x1000 with 2 Axes>"
            ]
          },
          "metadata": {},
          "output_type": "display_data"
        }
      ],
      "source": [
        "test_labels = np.asarray(test_data_gen.labels, dtype=np.int32)\n",
        "categories= ['normal', 'defect' ]\n",
        "predictions = (modelincvgg19.predict(test_data_gen))\n",
        "predictions[:10]\n",
        "from sklearn import preprocessing\n",
        "le = preprocessing.LabelEncoder()\n",
        "test_labels_encoded = le.fit_transform(test_labels)\n",
        "from sklearn.metrics import classification_report\n",
        "test_labels = test_labels.ravel()\n",
        "predictions = predictions.argmax(axis=1)\n",
        "print(classification_report(test_labels, predictions, target_names=categories))\n",
        "cm = confusion_matrix(test_labels,predictions)\n",
        "cm = pd.DataFrame(cm , index = categories , columns = categories)\n",
        "plt.figure(figsize = (10,10))\n",
        "sns.heatmap(cm,cmap= \"Blues\", linecolor = 'black' , linewidth = 1 , annot = True, fmt='',\n",
        "            xticklabels = categories , yticklabels =categories)"
      ]
    },
    {
      "cell_type": "markdown",
      "metadata": {
        "id": "-9uZBNEVuXMt"
      },
      "source": [
        "## 3. Combine Xception and VGG19"
      ]
    },
    {
      "cell_type": "code",
      "execution_count": null,
      "metadata": {
        "id": "d8bxM-unulqs"
      },
      "outputs": [],
      "source": [
        "#load the existing model available in the gdrive (Inception,Exception)\n",
        "modelXC = tf.keras.models.load_model('/content/gdrive/MyDrive/Colab Notebooks/insulXC.h5')\n",
        "modelvgg19 = tf.keras.models.load_model('/content/gdrive/MyDrive/Colab Notebooks/insulvgg19.h5')"
      ]
    },
    {
      "cell_type": "code",
      "execution_count": null,
      "metadata": {
        "id": "r4t6iouJuiEa"
      },
      "outputs": [],
      "source": [
        "#Assign the input image size as 224,224,3\n",
        "input_shape=(IMG_HEIGHT, IMG_WIDTH, 3)\n",
        "# Set the Output size as number of classes (1, sigmoid for binary classisfication)\n",
        "# (2, softmax for multiclass)\n",
        "n_classes=1\n",
        "inputs = tf.keras.layers.Input(shape=input_shape)\n",
        "#combine the two models\n",
        "combined = tf.keras.layers.Concatenate()([modelXC(inputs), modelvgg19(inputs)])\n",
        "\n",
        "outputs = tf.keras.layers.Dense(n_classes)(combined)\n",
        "\n",
        "modelXCvgg19 = tf.keras.models.Model(inputs, outputs)\n"
      ]
    },
    {
      "cell_type": "code",
      "execution_count": null,
      "metadata": {
        "colab": {
          "base_uri": "https://localhost:8080/"
        },
        "id": "2Pwvi2YSwfks",
        "outputId": "82dafea0-e4e7-4985-bbe3-5d1ce12b2195"
      },
      "outputs": [
        {
          "output_type": "stream",
          "name": "stdout",
          "text": [
            "Epoch 1/10\n",
            "18/18 [==============================] - 993s 55s/step - loss: 3.5978 - accuracy: 0.7668\n",
            "Epoch 2/10\n",
            "18/18 [==============================] - 162s 9s/step - loss: 3.5978 - accuracy: 0.7668\n",
            "Epoch 3/10\n",
            "18/18 [==============================] - 155s 9s/step - loss: 3.5978 - accuracy: 0.7668\n",
            "Epoch 4/10\n",
            "18/18 [==============================] - 153s 8s/step - loss: 3.5978 - accuracy: 0.7668\n",
            "Epoch 5/10\n",
            "18/18 [==============================] - 150s 8s/step - loss: 3.5978 - accuracy: 0.7668\n",
            "Epoch 6/10\n",
            "18/18 [==============================] - 156s 9s/step - loss: 3.5978 - accuracy: 0.7668\n",
            "Epoch 7/10\n",
            "18/18 [==============================] - 158s 9s/step - loss: 3.5978 - accuracy: 0.7668\n",
            "Epoch 8/10\n",
            "18/18 [==============================] - 148s 8s/step - loss: 3.5978 - accuracy: 0.7668\n",
            "Epoch 9/10\n",
            "18/18 [==============================] - 167s 9s/step - loss: 3.5978 - accuracy: 0.7668\n",
            "Epoch 10/10\n",
            "18/18 [==============================] - 160s 9s/step - loss: 3.5978 - accuracy: 0.7668\n"
          ]
        }
      ],
      "source": [
        "modelXC.trainable = False\n",
        "modelvgg19.trainable = False\n",
        "modelXCvgg19.compile(optimizer='adam', loss='binary_crossentropy', metrics=['accuracy'])\n",
        "insuXCvgg19history=modelXCvgg19.fit(train_data_gen,epochs=10)"
      ]
    },
    {
      "cell_type": "code",
      "execution_count": null,
      "metadata": {
        "id": "YW6yWVCLug1D",
        "colab": {
          "base_uri": "https://localhost:8080/"
        },
        "outputId": "d368361c-f3e3-481b-888b-871dee46bf0c"
      },
      "outputs": [
        {
          "output_type": "stream",
          "name": "stderr",
          "text": [
            "/usr/local/lib/python3.10/dist-packages/keras/src/engine/training.py:3103: UserWarning: You are saving your model as an HDF5 file via `model.save()`. This file format is considered legacy. We recommend using instead the native Keras format, e.g. `model.save('my_model.keras')`.\n",
            "  saving_api.save_model(\n"
          ]
        },
        {
          "output_type": "stream",
          "name": "stdout",
          "text": [
            "2/2 - 55s - loss: 4.4071 - accuracy: 0.7143 - 55s/epoch - 28s/step\n"
          ]
        }
      ],
      "source": [
        "modelXCvgg19.save('gdrive/My Drive/Colab Notebooks/insulXCvgg19.h5')\n",
        "modelXCvgg19.evaluate(test_data_gen,steps=len(test_data_gen),verbose=2)\n",
        "f1=open('gdrive/My Drive/Colab Notebooks/insulXCvgg19modelOutput.txt', 'w')\n",
        "f1.write(\" Exception & VGG19\\n\")\n",
        "f1.write(str(insuXCvgg19history.history))\n",
        "f1.close()"
      ]
    },
    {
      "cell_type": "code",
      "source": [
        "test_labels = np.asarray(test_data_gen.labels, dtype=np.int32)\n",
        "categories= ['normal', 'defect' ]\n",
        "predictions = (modelXCvgg19.predict(test_data_gen))\n",
        "predictions[:10]\n",
        "from sklearn import preprocessing\n",
        "le = preprocessing.LabelEncoder()\n",
        "test_labels_encoded = le.fit_transform(test_labels)\n",
        "from sklearn.metrics import classification_report\n",
        "test_labels = test_labels.ravel()\n",
        "predictions = predictions.argmax(axis=1)\n",
        "print(classification_report(test_labels, predictions, target_names=categories))\n",
        "cm = confusion_matrix(test_labels,predictions)\n",
        "cm = pd.DataFrame(cm , index = categories , columns = categories)\n",
        "plt.figure(figsize = (10,10))\n",
        "sns.heatmap(cm,cmap= \"Blues\", linecolor = 'black' , linewidth = 1 , annot = True, fmt='',\n",
        "            xticklabels = categories , yticklabels =categories)"
      ],
      "metadata": {
        "colab": {
          "base_uri": "https://localhost:8080/",
          "height": 1000
        },
        "id": "x4uJMb1Q9RAh",
        "outputId": "24ae6d17-4f96-42b3-b2c2-70d4c065e0ff"
      },
      "execution_count": null,
      "outputs": [
        {
          "output_type": "stream",
          "name": "stdout",
          "text": [
            "2/2 [==============================] - 23s 5s/step\n",
            "              precision    recall  f1-score   support\n",
            "\n",
            "      normal       0.71      1.00      0.83       125\n",
            "      defect       0.00      0.00      0.00        50\n",
            "\n",
            "    accuracy                           0.71       175\n",
            "   macro avg       0.36      0.50      0.42       175\n",
            "weighted avg       0.51      0.71      0.60       175\n",
            "\n"
          ]
        },
        {
          "output_type": "stream",
          "name": "stderr",
          "text": [
            "/usr/local/lib/python3.10/dist-packages/sklearn/metrics/_classification.py:1344: UndefinedMetricWarning: Precision and F-score are ill-defined and being set to 0.0 in labels with no predicted samples. Use `zero_division` parameter to control this behavior.\n",
            "  _warn_prf(average, modifier, msg_start, len(result))\n",
            "/usr/local/lib/python3.10/dist-packages/sklearn/metrics/_classification.py:1344: UndefinedMetricWarning: Precision and F-score are ill-defined and being set to 0.0 in labels with no predicted samples. Use `zero_division` parameter to control this behavior.\n",
            "  _warn_prf(average, modifier, msg_start, len(result))\n",
            "/usr/local/lib/python3.10/dist-packages/sklearn/metrics/_classification.py:1344: UndefinedMetricWarning: Precision and F-score are ill-defined and being set to 0.0 in labels with no predicted samples. Use `zero_division` parameter to control this behavior.\n",
            "  _warn_prf(average, modifier, msg_start, len(result))\n"
          ]
        },
        {
          "output_type": "execute_result",
          "data": {
            "text/plain": [
              "<Axes: >"
            ]
          },
          "metadata": {},
          "execution_count": 16
        },
        {
          "output_type": "display_data",
          "data": {
            "text/plain": [
              "<Figure size 1000x1000 with 2 Axes>"
            ],
            "image/png": "[encoded data removed]"
          },
          "metadata": {}
        }
      ]
    },
    {
      "cell_type": "markdown",
      "source": [
        "# **4. Combine Xception and NASNet**"
      ],
      "metadata": {
        "id": "rB-JHFi49beX"
      }
    },
    {
      "cell_type": "code",
      "source": [
        "#load the existing model available in the gdrive (Inception,NASNEt)\n",
        "modelXC = tf.keras.models.load_model('/content/gdrive/MyDrive/Colab Notebooks/insulXC.h5')\n",
        "modelNAS = tf.keras.models.load_model('/content/gdrive/MyDrive/Colab Notebooks/insulNs10.h5')"
      ],
      "metadata": {
        "id": "y17GdDvc9mwv"
      },
      "execution_count": null,
      "outputs": []
    },
    {
      "cell_type": "code",
      "source": [
        "#Assign the input image size as 224,224,3\n",
        "input_shape=(IMG_HEIGHT, IMG_WIDTH, 3)\n",
        "# Set the Output size as number of classes (1, sigmoid for binary classisfication)\n",
        "# (2, softmax for multiclass)\n",
        "n_classes=1\n",
        "inputs = tf.keras.layers.Input(shape=input_shape)\n",
        "#combine the two models\n",
        "combined = tf.keras.layers.Concatenate()([modelXC(inputs), modelNAS(inputs)])\n",
        "\n",
        "outputs = tf.keras.layers.Dense(n_classes)(combined)\n",
        "\n",
        "modelXCNAS = tf.keras.models.Model(inputs, outputs)"
      ],
      "metadata": {
        "colab": {
          "base_uri": "https://localhost:8080/",
          "height": 321
        },
        "id": "1stWP0aRIEQD",
        "outputId": "ceb20983-77ff-49f0-e5d7-3c11b1a34ed6"
      },
      "execution_count": null,
      "outputs": [
        {
          "output_type": "error",
          "ename": "ValueError",
          "evalue": "The name \"model\" is used 2 times in the model. All layer names should be unique.",
          "traceback": [
            "\u001b[0;31m---------------------------------------------------------------------------\u001b[0m",
            "\u001b[0;31mValueError\u001b[0m                                Traceback (most recent call last)",
            "\u001b[0;32m<ipython-input-34-2581b6053f1c>\u001b[0m in \u001b[0;36m<cell line: 12>\u001b[0;34m()\u001b[0m\n\u001b[1;32m     10\u001b[0m \u001b[0moutputs\u001b[0m \u001b[0;34m=\u001b[0m \u001b[0mtf\u001b[0m\u001b[0;34m.\u001b[0m\u001b[0mkeras\u001b[0m\u001b[0;34m.\u001b[0m\u001b[0mlayers\u001b[0m\u001b[0;34m.\u001b[0m\u001b[0mDense\u001b[0m\u001b[0;34m(\u001b[0m\u001b[0mn_classes\u001b[0m\u001b[0;34m)\u001b[0m\u001b[0;34m(\u001b[0m\u001b[0mcombined\u001b[0m\u001b[0;34m)\u001b[0m\u001b[0;34m\u001b[0m\u001b[0;34m\u001b[0m\u001b[0m\n\u001b[1;32m     11\u001b[0m \u001b[0;34m\u001b[0m\u001b[0m\n\u001b[0;32m---> 12\u001b[0;31m \u001b[0mmodelXCNAS\u001b[0m \u001b[0;34m=\u001b[0m \u001b[0mtf\u001b[0m\u001b[0;34m.\u001b[0m\u001b[0mkeras\u001b[0m\u001b[0;34m.\u001b[0m\u001b[0mmodels\u001b[0m\u001b[0;34m.\u001b[0m\u001b[0mModel\u001b[0m\u001b[0;34m(\u001b[0m\u001b[0minputs\u001b[0m\u001b[0;34m,\u001b[0m \u001b[0moutputs\u001b[0m\u001b[0;34m)\u001b[0m\u001b[0;34m\u001b[0m\u001b[0;34m\u001b[0m\u001b[0m\n\u001b[0m",
            "\u001b[0;32m/usr/local/lib/python3.10/dist-packages/tensorflow/python/trackable/base.py\u001b[0m in \u001b[0;36m_method_wrapper\u001b[0;34m(self, *args, **kwargs)\u001b[0m\n\u001b[1;32m    202\u001b[0m     \u001b[0mself\u001b[0m\u001b[0;34m.\u001b[0m\u001b[0m_self_setattr_tracking\u001b[0m \u001b[0;34m=\u001b[0m \u001b[0;32mFalse\u001b[0m  \u001b[0;31m# pylint: disable=protected-access\u001b[0m\u001b[0;34m\u001b[0m\u001b[0;34m\u001b[0m\u001b[0m\n\u001b[1;32m    203\u001b[0m     \u001b[0;32mtry\u001b[0m\u001b[0;34m:\u001b[0m\u001b[0;34m\u001b[0m\u001b[0;34m\u001b[0m\u001b[0m\n\u001b[0;32m--> 204\u001b[0;31m       \u001b[0mresult\u001b[0m \u001b[0;34m=\u001b[0m \u001b[0mmethod\u001b[0m\u001b[0;34m(\u001b[0m\u001b[0mself\u001b[0m\u001b[0;34m,\u001b[0m \u001b[0;34m*\u001b[0m\u001b[0margs\u001b[0m\u001b[0;34m,\u001b[0m \u001b[0;34m**\u001b[0m\u001b[0mkwargs\u001b[0m\u001b[0;34m)\u001b[0m\u001b[0;34m\u001b[0m\u001b[0;34m\u001b[0m\u001b[0m\n\u001b[0m\u001b[1;32m    205\u001b[0m     \u001b[0;32mfinally\u001b[0m\u001b[0;34m:\u001b[0m\u001b[0;34m\u001b[0m\u001b[0;34m\u001b[0m\u001b[0m\n\u001b[1;32m    206\u001b[0m       \u001b[0mself\u001b[0m\u001b[0;34m.\u001b[0m\u001b[0m_self_setattr_tracking\u001b[0m \u001b[0;34m=\u001b[0m \u001b[0mprevious_value\u001b[0m  \u001b[0;31m# pylint: disable=protected-access\u001b[0m\u001b[0;34m\u001b[0m\u001b[0;34m\u001b[0m\u001b[0m\n",
            "\u001b[0;32m/usr/local/lib/python3.10/dist-packages/keras/src/engine/functional.py\u001b[0m in \u001b[0;36m__init__\u001b[0;34m(self, inputs, outputs, name, trainable, **kwargs)\u001b[0m\n\u001b[1;32m    164\u001b[0m                     \u001b[0minputs\u001b[0m\u001b[0;34m,\u001b[0m \u001b[0moutputs\u001b[0m\u001b[0;34m\u001b[0m\u001b[0;34m\u001b[0m\u001b[0m\n\u001b[1;32m    165\u001b[0m                 )\n\u001b[0;32m--> 166\u001b[0;31m         \u001b[0mself\u001b[0m\u001b[0;34m.\u001b[0m\u001b[0m_init_graph_network\u001b[0m\u001b[0;34m(\u001b[0m\u001b[0minputs\u001b[0m\u001b[0;34m,\u001b[0m \u001b[0moutputs\u001b[0m\u001b[0;34m)\u001b[0m\u001b[0;34m\u001b[0m\u001b[0;34m\u001b[0m\u001b[0m\n\u001b[0m\u001b[1;32m    167\u001b[0m \u001b[0;34m\u001b[0m\u001b[0m\n\u001b[1;32m    168\u001b[0m     \u001b[0;34m@\u001b[0m\u001b[0mtf\u001b[0m\u001b[0;34m.\u001b[0m\u001b[0m__internal__\u001b[0m\u001b[0;34m.\u001b[0m\u001b[0mtracking\u001b[0m\u001b[0;34m.\u001b[0m\u001b[0mno_automatic_dependency_tracking\u001b[0m\u001b[0;34m\u001b[0m\u001b[0;34m\u001b[0m\u001b[0m\n",
            "\u001b[0;32m/usr/local/lib/python3.10/dist-packages/tensorflow/python/trackable/base.py\u001b[0m in \u001b[0;36m_method_wrapper\u001b[0;34m(self, *args, **kwargs)\u001b[0m\n\u001b[1;32m    202\u001b[0m     \u001b[0mself\u001b[0m\u001b[0;34m.\u001b[0m\u001b[0m_self_setattr_tracking\u001b[0m \u001b[0;34m=\u001b[0m \u001b[0;32mFalse\u001b[0m  \u001b[0;31m# pylint: disable=protected-access\u001b[0m\u001b[0;34m\u001b[0m\u001b[0;34m\u001b[0m\u001b[0m\n\u001b[1;32m    203\u001b[0m     \u001b[0;32mtry\u001b[0m\u001b[0;34m:\u001b[0m\u001b[0;34m\u001b[0m\u001b[0;34m\u001b[0m\u001b[0m\n\u001b[0;32m--> 204\u001b[0;31m       \u001b[0mresult\u001b[0m \u001b[0;34m=\u001b[0m \u001b[0mmethod\u001b[0m\u001b[0;34m(\u001b[0m\u001b[0mself\u001b[0m\u001b[0;34m,\u001b[0m \u001b[0;34m*\u001b[0m\u001b[0margs\u001b[0m\u001b[0;34m,\u001b[0m \u001b[0;34m**\u001b[0m\u001b[0mkwargs\u001b[0m\u001b[0;34m)\u001b[0m\u001b[0;34m\u001b[0m\u001b[0;34m\u001b[0m\u001b[0m\n\u001b[0m\u001b[1;32m    205\u001b[0m     \u001b[0;32mfinally\u001b[0m\u001b[0;34m:\u001b[0m\u001b[0;34m\u001b[0m\u001b[0;34m\u001b[0m\u001b[0m\n\u001b[1;32m    206\u001b[0m       \u001b[0mself\u001b[0m\u001b[0;34m.\u001b[0m\u001b[0m_self_setattr_tracking\u001b[0m \u001b[0;34m=\u001b[0m \u001b[0mprevious_value\u001b[0m  \u001b[0;31m# pylint: disable=protected-access\u001b[0m\u001b[0;34m\u001b[0m\u001b[0;34m\u001b[0m\u001b[0m\n",
            "\u001b[0;32m/usr/local/lib/python3.10/dist-packages/keras/src/engine/functional.py\u001b[0m in \u001b[0;36m_init_graph_network\u001b[0;34m(self, inputs, outputs)\u001b[0m\n\u001b[1;32m    263\u001b[0m \u001b[0;34m\u001b[0m\u001b[0m\n\u001b[1;32m    264\u001b[0m         \u001b[0;31m# Keep track of the network's nodes and layers.\u001b[0m\u001b[0;34m\u001b[0m\u001b[0;34m\u001b[0m\u001b[0m\n\u001b[0;32m--> 265\u001b[0;31m         nodes, nodes_by_depth, layers, _ = _map_graph_network(\n\u001b[0m\u001b[1;32m    266\u001b[0m             \u001b[0mself\u001b[0m\u001b[0;34m.\u001b[0m\u001b[0minputs\u001b[0m\u001b[0;34m,\u001b[0m \u001b[0mself\u001b[0m\u001b[0;34m.\u001b[0m\u001b[0moutputs\u001b[0m\u001b[0;34m\u001b[0m\u001b[0;34m\u001b[0m\u001b[0m\n\u001b[1;32m    267\u001b[0m         )\n",
            "\u001b[0;32m/usr/local/lib/python3.10/dist-packages/keras/src/engine/functional.py\u001b[0m in \u001b[0;36m_map_graph_network\u001b[0;34m(inputs, outputs)\u001b[0m\n\u001b[1;32m   1158\u001b[0m     \u001b[0;32mfor\u001b[0m \u001b[0mname\u001b[0m \u001b[0;32min\u001b[0m \u001b[0mall_names\u001b[0m\u001b[0;34m:\u001b[0m\u001b[0;34m\u001b[0m\u001b[0;34m\u001b[0m\u001b[0m\n\u001b[1;32m   1159\u001b[0m         \u001b[0;32mif\u001b[0m \u001b[0mall_names\u001b[0m\u001b[0;34m.\u001b[0m\u001b[0mcount\u001b[0m\u001b[0;34m(\u001b[0m\u001b[0mname\u001b[0m\u001b[0;34m)\u001b[0m \u001b[0;34m!=\u001b[0m \u001b[0;36m1\u001b[0m\u001b[0;34m:\u001b[0m\u001b[0;34m\u001b[0m\u001b[0;34m\u001b[0m\u001b[0m\n\u001b[0;32m-> 1160\u001b[0;31m             raise ValueError(\n\u001b[0m\u001b[1;32m   1161\u001b[0m                 \u001b[0;34mf'The name \"{name}\" is used {all_names.count(name)} '\u001b[0m\u001b[0;34m\u001b[0m\u001b[0;34m\u001b[0m\u001b[0m\n\u001b[1;32m   1162\u001b[0m                 \u001b[0;34m\"times in the model. All layer names should be unique.\"\u001b[0m\u001b[0;34m\u001b[0m\u001b[0;34m\u001b[0m\u001b[0m\n",
            "\u001b[0;31mValueError\u001b[0m: The name \"model\" is used 2 times in the model. All layer names should be unique."
          ]
        }
      ]
    },
    {
      "cell_type": "code",
      "source": [
        "#Assign the input image size as 224,224,3\n",
        "input_shape=(IMG_HEIGHT, IMG_WIDTH, 3)\n",
        "# Set the Output size as number of classes (1, sigmoid for binary classisfication)\n",
        "# (2, softmax for multiclass)\n",
        "n_classes=1\n",
        "inputs = tf.keras.layers.Input(shape=input_shape)\n",
        "#combine the two models\n",
        "combined = tf.keras.layers.Concatenate()([modelXC(inputs), modelNAS(inputs)])\n",
        "\n",
        "outputs = tf.keras.layers.Dense(n_classes)(combined)\n",
        "\n",
        "modelXCNAS = tf.keras.models.Model(inputs, outputs)"
      ],
      "metadata": {
        "colab": {
          "base_uri": "https://localhost:8080/",
          "height": 321
        },
        "id": "eBzLH5Wh9rpp",
        "outputId": "2addc872-5510-4449-ab88-339093e9b9ba"
      },
      "execution_count": null,
      "outputs": [
        {
          "output_type": "error",
          "ename": "ValueError",
          "evalue": "The name \"model\" is used 2 times in the model. All layer names should be unique.",
          "traceback": [
            "\u001b[0;31m---------------------------------------------------------------------------\u001b[0m",
            "\u001b[0;31mValueError\u001b[0m                                Traceback (most recent call last)",
            "\u001b[0;32m<ipython-input-18-2581b6053f1c>\u001b[0m in \u001b[0;36m<cell line: 12>\u001b[0;34m()\u001b[0m\n\u001b[1;32m     10\u001b[0m \u001b[0moutputs\u001b[0m \u001b[0;34m=\u001b[0m \u001b[0mtf\u001b[0m\u001b[0;34m.\u001b[0m\u001b[0mkeras\u001b[0m\u001b[0;34m.\u001b[0m\u001b[0mlayers\u001b[0m\u001b[0;34m.\u001b[0m\u001b[0mDense\u001b[0m\u001b[0;34m(\u001b[0m\u001b[0mn_classes\u001b[0m\u001b[0;34m)\u001b[0m\u001b[0;34m(\u001b[0m\u001b[0mcombined\u001b[0m\u001b[0;34m)\u001b[0m\u001b[0;34m\u001b[0m\u001b[0;34m\u001b[0m\u001b[0m\n\u001b[1;32m     11\u001b[0m \u001b[0;34m\u001b[0m\u001b[0m\n\u001b[0;32m---> 12\u001b[0;31m \u001b[0mmodelXCNAS\u001b[0m \u001b[0;34m=\u001b[0m \u001b[0mtf\u001b[0m\u001b[0;34m.\u001b[0m\u001b[0mkeras\u001b[0m\u001b[0;34m.\u001b[0m\u001b[0mmodels\u001b[0m\u001b[0;34m.\u001b[0m\u001b[0mModel\u001b[0m\u001b[0;34m(\u001b[0m\u001b[0minputs\u001b[0m\u001b[0;34m,\u001b[0m \u001b[0moutputs\u001b[0m\u001b[0;34m)\u001b[0m\u001b[0;34m\u001b[0m\u001b[0;34m\u001b[0m\u001b[0m\n\u001b[0m",
            "\u001b[0;32m/usr/local/lib/python3.10/dist-packages/tensorflow/python/trackable/base.py\u001b[0m in \u001b[0;36m_method_wrapper\u001b[0;34m(self, *args, **kwargs)\u001b[0m\n\u001b[1;32m    202\u001b[0m     \u001b[0mself\u001b[0m\u001b[0;34m.\u001b[0m\u001b[0m_self_setattr_tracking\u001b[0m \u001b[0;34m=\u001b[0m \u001b[0;32mFalse\u001b[0m  \u001b[0;31m# pylint: disable=protected-access\u001b[0m\u001b[0;34m\u001b[0m\u001b[0;34m\u001b[0m\u001b[0m\n\u001b[1;32m    203\u001b[0m     \u001b[0;32mtry\u001b[0m\u001b[0;34m:\u001b[0m\u001b[0;34m\u001b[0m\u001b[0;34m\u001b[0m\u001b[0m\n\u001b[0;32m--> 204\u001b[0;31m       \u001b[0mresult\u001b[0m \u001b[0;34m=\u001b[0m \u001b[0mmethod\u001b[0m\u001b[0;34m(\u001b[0m\u001b[0mself\u001b[0m\u001b[0;34m,\u001b[0m \u001b[0;34m*\u001b[0m\u001b[0margs\u001b[0m\u001b[0;34m,\u001b[0m \u001b[0;34m**\u001b[0m\u001b[0mkwargs\u001b[0m\u001b[0;34m)\u001b[0m\u001b[0;34m\u001b[0m\u001b[0;34m\u001b[0m\u001b[0m\n\u001b[0m\u001b[1;32m    205\u001b[0m     \u001b[0;32mfinally\u001b[0m\u001b[0;34m:\u001b[0m\u001b[0;34m\u001b[0m\u001b[0;34m\u001b[0m\u001b[0m\n\u001b[1;32m    206\u001b[0m       \u001b[0mself\u001b[0m\u001b[0;34m.\u001b[0m\u001b[0m_self_setattr_tracking\u001b[0m \u001b[0;34m=\u001b[0m \u001b[0mprevious_value\u001b[0m  \u001b[0;31m# pylint: disable=protected-access\u001b[0m\u001b[0;34m\u001b[0m\u001b[0;34m\u001b[0m\u001b[0m\n",
            "\u001b[0;32m/usr/local/lib/python3.10/dist-packages/keras/src/engine/functional.py\u001b[0m in \u001b[0;36m__init__\u001b[0;34m(self, inputs, outputs, name, trainable, **kwargs)\u001b[0m\n\u001b[1;32m    164\u001b[0m                     \u001b[0minputs\u001b[0m\u001b[0;34m,\u001b[0m \u001b[0moutputs\u001b[0m\u001b[0;34m\u001b[0m\u001b[0;34m\u001b[0m\u001b[0m\n\u001b[1;32m    165\u001b[0m                 )\n\u001b[0;32m--> 166\u001b[0;31m         \u001b[0mself\u001b[0m\u001b[0;34m.\u001b[0m\u001b[0m_init_graph_network\u001b[0m\u001b[0;34m(\u001b[0m\u001b[0minputs\u001b[0m\u001b[0;34m,\u001b[0m \u001b[0moutputs\u001b[0m\u001b[0;34m)\u001b[0m\u001b[0;34m\u001b[0m\u001b[0;34m\u001b[0m\u001b[0m\n\u001b[0m\u001b[1;32m    167\u001b[0m \u001b[0;34m\u001b[0m\u001b[0m\n\u001b[1;32m    168\u001b[0m     \u001b[0;34m@\u001b[0m\u001b[0mtf\u001b[0m\u001b[0;34m.\u001b[0m\u001b[0m__internal__\u001b[0m\u001b[0;34m.\u001b[0m\u001b[0mtracking\u001b[0m\u001b[0;34m.\u001b[0m\u001b[0mno_automatic_dependency_tracking\u001b[0m\u001b[0;34m\u001b[0m\u001b[0;34m\u001b[0m\u001b[0m\n",
            "\u001b[0;32m/usr/local/lib/python3.10/dist-packages/tensorflow/python/trackable/base.py\u001b[0m in \u001b[0;36m_method_wrapper\u001b[0;34m(self, *args, **kwargs)\u001b[0m\n\u001b[1;32m    202\u001b[0m     \u001b[0mself\u001b[0m\u001b[0;34m.\u001b[0m\u001b[0m_self_setattr_tracking\u001b[0m \u001b[0;34m=\u001b[0m \u001b[0;32mFalse\u001b[0m  \u001b[0;31m# pylint: disable=protected-access\u001b[0m\u001b[0;34m\u001b[0m\u001b[0;34m\u001b[0m\u001b[0m\n\u001b[1;32m    203\u001b[0m     \u001b[0;32mtry\u001b[0m\u001b[0;34m:\u001b[0m\u001b[0;34m\u001b[0m\u001b[0;34m\u001b[0m\u001b[0m\n\u001b[0;32m--> 204\u001b[0;31m       \u001b[0mresult\u001b[0m \u001b[0;34m=\u001b[0m \u001b[0mmethod\u001b[0m\u001b[0;34m(\u001b[0m\u001b[0mself\u001b[0m\u001b[0;34m,\u001b[0m \u001b[0;34m*\u001b[0m\u001b[0margs\u001b[0m\u001b[0;34m,\u001b[0m \u001b[0;34m**\u001b[0m\u001b[0mkwargs\u001b[0m\u001b[0;34m)\u001b[0m\u001b[0;34m\u001b[0m\u001b[0;34m\u001b[0m\u001b[0m\n\u001b[0m\u001b[1;32m    205\u001b[0m     \u001b[0;32mfinally\u001b[0m\u001b[0;34m:\u001b[0m\u001b[0;34m\u001b[0m\u001b[0;34m\u001b[0m\u001b[0m\n\u001b[1;32m    206\u001b[0m       \u001b[0mself\u001b[0m\u001b[0;34m.\u001b[0m\u001b[0m_self_setattr_tracking\u001b[0m \u001b[0;34m=\u001b[0m \u001b[0mprevious_value\u001b[0m  \u001b[0;31m# pylint: disable=protected-access\u001b[0m\u001b[0;34m\u001b[0m\u001b[0;34m\u001b[0m\u001b[0m\n",
            "\u001b[0;32m/usr/local/lib/python3.10/dist-packages/keras/src/engine/functional.py\u001b[0m in \u001b[0;36m_init_graph_network\u001b[0;34m(self, inputs, outputs)\u001b[0m\n\u001b[1;32m    263\u001b[0m \u001b[0;34m\u001b[0m\u001b[0m\n\u001b[1;32m    264\u001b[0m         \u001b[0;31m# Keep track of the network's nodes and layers.\u001b[0m\u001b[0;34m\u001b[0m\u001b[0;34m\u001b[0m\u001b[0m\n\u001b[0;32m--> 265\u001b[0;31m         nodes, nodes_by_depth, layers, _ = _map_graph_network(\n\u001b[0m\u001b[1;32m    266\u001b[0m             \u001b[0mself\u001b[0m\u001b[0;34m.\u001b[0m\u001b[0minputs\u001b[0m\u001b[0;34m,\u001b[0m \u001b[0mself\u001b[0m\u001b[0;34m.\u001b[0m\u001b[0moutputs\u001b[0m\u001b[0;34m\u001b[0m\u001b[0;34m\u001b[0m\u001b[0m\n\u001b[1;32m    267\u001b[0m         )\n",
            "\u001b[0;32m/usr/local/lib/python3.10/dist-packages/keras/src/engine/functional.py\u001b[0m in \u001b[0;36m_map_graph_network\u001b[0;34m(inputs, outputs)\u001b[0m\n\u001b[1;32m   1158\u001b[0m     \u001b[0;32mfor\u001b[0m \u001b[0mname\u001b[0m \u001b[0;32min\u001b[0m \u001b[0mall_names\u001b[0m\u001b[0;34m:\u001b[0m\u001b[0;34m\u001b[0m\u001b[0;34m\u001b[0m\u001b[0m\n\u001b[1;32m   1159\u001b[0m         \u001b[0;32mif\u001b[0m \u001b[0mall_names\u001b[0m\u001b[0;34m.\u001b[0m\u001b[0mcount\u001b[0m\u001b[0;34m(\u001b[0m\u001b[0mname\u001b[0m\u001b[0;34m)\u001b[0m \u001b[0;34m!=\u001b[0m \u001b[0;36m1\u001b[0m\u001b[0;34m:\u001b[0m\u001b[0;34m\u001b[0m\u001b[0;34m\u001b[0m\u001b[0m\n\u001b[0;32m-> 1160\u001b[0;31m             raise ValueError(\n\u001b[0m\u001b[1;32m   1161\u001b[0m                 \u001b[0;34mf'The name \"{name}\" is used {all_names.count(name)} '\u001b[0m\u001b[0;34m\u001b[0m\u001b[0;34m\u001b[0m\u001b[0m\n\u001b[1;32m   1162\u001b[0m                 \u001b[0;34m\"times in the model. All layer names should be unique.\"\u001b[0m\u001b[0;34m\u001b[0m\u001b[0;34m\u001b[0m\u001b[0m\n",
            "\u001b[0;31mValueError\u001b[0m: The name \"model\" is used 2 times in the model. All layer names should be unique."
          ]
        }
      ]
    },
    {
      "cell_type": "code",
      "source": [
        "modelXC.trainable = False\n",
        "modelNAS.trainable = False\n",
        "modelXCNAS.compile(optimizer='adam', loss='binary_crossentropy', metrics=['accuracy'])\n",
        "insuXCNAShistory=modelXCNAS.fit(train_data_gen,epochs=10)\n",
        "modelXCNAS.save('gdrive/My Drive/Colab Notebooks/insulXCNAS.h5')\n",
        "modelXCNAS.evaluate(test_data_gen,steps=len(test_data_gen),verbose=2)\n",
        "f1=open('gdrive/My Drive/Colab Notebooks/insulXCNASmodelOutput.txt', 'w')\n",
        "f1.write(\" Xception & NAS\\n\")\n",
        "f1.write(str(insuXCNAShistory.history))\n",
        "f1.close()"
      ],
      "metadata": {
        "id": "_Ysbg3Hv9tuv"
      },
      "execution_count": null,
      "outputs": []
    },
    {
      "cell_type": "code",
      "source": [
        "test_labels = np.asarray(test_data_gen.labels, dtype=np.int32)\n",
        "categories= ['normal', 'defect' ]\n",
        "predictions = (modelXCNAS.predict(test_data_gen))\n",
        "predictions[:10]\n",
        "from sklearn import preprocessing\n",
        "le = preprocessing.LabelEncoder()\n",
        "test_labels_encoded = le.fit_transform(test_labels)\n",
        "from sklearn.metrics import classification_report\n",
        "test_labels = test_labels.ravel()\n",
        "predictions = predictions.argmax(axis=1)\n",
        "print(classification_report(test_labels, predictions, target_names=categories))\n",
        "cm = confusion_matrix(test_labels,predictions)\n",
        "cm = pd.DataFrame(cm , index = categories , columns = categories)\n",
        "plt.figure(figsize = (10,10))\n",
        "sns.heatmap(cm,cmap= \"Blues\", linecolor = 'black' , linewidth = 1 , annot = True, fmt='',\n",
        "            xticklabels = categories , yticklabels =categories)"
      ],
      "metadata": {
        "id": "UrOSWKsF9zKB"
      },
      "execution_count": null,
      "outputs": []
    },
    {
      "cell_type": "markdown",
      "source": [],
      "metadata": {
        "id": "_eXRrQ5C-a8d"
      }
    },
    {
      "cell_type": "markdown",
      "source": [
        "# **5. Combine Xception and EfficientNet**"
      ],
      "metadata": {
        "id": "N5s8-6Rc-gZE"
      }
    },
    {
      "cell_type": "code",
      "source": [
        "#load the existing model available in the gdrive (Inception,NASNEt)\n",
        "modelXC = tf.keras.models.load_model('/content/gdrive/MyDrive/Colab Notebooks/insulXC.h5')\n",
        "modelEN = tf.keras.models.load_model('/content/gdrive/MyDrive/Colab Notebooks/insulEN.h5')"
      ],
      "metadata": {
        "colab": {
          "base_uri": "https://localhost:8080/",
          "height": 321
        },
        "id": "wC2UyggZ-sM1",
        "outputId": "3e93b59f-1852-4dfd-ed9d-e8f1541bd537"
      },
      "execution_count": null,
      "outputs": [
        {
          "output_type": "error",
          "ename": "ValueError",
          "evalue": "No model config found in the file at <tensorflow.python.platform.gfile.GFile object at 0x7f35530bd0c0>.",
          "traceback": [
            "\u001b[0;31m---------------------------------------------------------------------------\u001b[0m",
            "\u001b[0;31mValueError\u001b[0m                                Traceback (most recent call last)",
            "\u001b[0;32m<ipython-input-35-6cdbc3bef451>\u001b[0m in \u001b[0;36m<cell line: 3>\u001b[0;34m()\u001b[0m\n\u001b[1;32m      1\u001b[0m \u001b[0;31m#load the existing model available in the gdrive (Inception,NASNEt)\u001b[0m\u001b[0;34m\u001b[0m\u001b[0;34m\u001b[0m\u001b[0m\n\u001b[1;32m      2\u001b[0m \u001b[0mmodelXC\u001b[0m \u001b[0;34m=\u001b[0m \u001b[0mtf\u001b[0m\u001b[0;34m.\u001b[0m\u001b[0mkeras\u001b[0m\u001b[0;34m.\u001b[0m\u001b[0mmodels\u001b[0m\u001b[0;34m.\u001b[0m\u001b[0mload_model\u001b[0m\u001b[0;34m(\u001b[0m\u001b[0;34m'/content/gdrive/MyDrive/Colab Notebooks/insulXC.h5'\u001b[0m\u001b[0;34m)\u001b[0m\u001b[0;34m\u001b[0m\u001b[0;34m\u001b[0m\u001b[0m\n\u001b[0;32m----> 3\u001b[0;31m \u001b[0mmodelEN\u001b[0m \u001b[0;34m=\u001b[0m \u001b[0mtf\u001b[0m\u001b[0;34m.\u001b[0m\u001b[0mkeras\u001b[0m\u001b[0;34m.\u001b[0m\u001b[0mmodels\u001b[0m\u001b[0;34m.\u001b[0m\u001b[0mload_model\u001b[0m\u001b[0;34m(\u001b[0m\u001b[0;34m'/content/gdrive/MyDrive/Colab Notebooks/insulEN.h5'\u001b[0m\u001b[0;34m)\u001b[0m\u001b[0;34m\u001b[0m\u001b[0;34m\u001b[0m\u001b[0m\n\u001b[0m",
            "\u001b[0;32m/usr/local/lib/python3.10/dist-packages/keras/src/saving/saving_api.py\u001b[0m in \u001b[0;36mload_model\u001b[0;34m(filepath, custom_objects, compile, safe_mode, **kwargs)\u001b[0m\n\u001b[1;32m    260\u001b[0m \u001b[0;34m\u001b[0m\u001b[0m\n\u001b[1;32m    261\u001b[0m     \u001b[0;31m# Legacy case.\u001b[0m\u001b[0;34m\u001b[0m\u001b[0;34m\u001b[0m\u001b[0m\n\u001b[0;32m--> 262\u001b[0;31m     return legacy_sm_saving_lib.load_model(\n\u001b[0m\u001b[1;32m    263\u001b[0m         \u001b[0mfilepath\u001b[0m\u001b[0;34m,\u001b[0m \u001b[0mcustom_objects\u001b[0m\u001b[0;34m=\u001b[0m\u001b[0mcustom_objects\u001b[0m\u001b[0;34m,\u001b[0m \u001b[0mcompile\u001b[0m\u001b[0;34m=\u001b[0m\u001b[0mcompile\u001b[0m\u001b[0;34m,\u001b[0m \u001b[0;34m**\u001b[0m\u001b[0mkwargs\u001b[0m\u001b[0;34m\u001b[0m\u001b[0;34m\u001b[0m\u001b[0m\n\u001b[1;32m    264\u001b[0m     )\n",
            "\u001b[0;32m/usr/local/lib/python3.10/dist-packages/keras/src/utils/traceback_utils.py\u001b[0m in \u001b[0;36merror_handler\u001b[0;34m(*args, **kwargs)\u001b[0m\n\u001b[1;32m     68\u001b[0m             \u001b[0;31m# To get the full stack trace, call:\u001b[0m\u001b[0;34m\u001b[0m\u001b[0;34m\u001b[0m\u001b[0m\n\u001b[1;32m     69\u001b[0m             \u001b[0;31m# `tf.debugging.disable_traceback_filtering()`\u001b[0m\u001b[0;34m\u001b[0m\u001b[0;34m\u001b[0m\u001b[0m\n\u001b[0;32m---> 70\u001b[0;31m             \u001b[0;32mraise\u001b[0m \u001b[0me\u001b[0m\u001b[0;34m.\u001b[0m\u001b[0mwith_traceback\u001b[0m\u001b[0;34m(\u001b[0m\u001b[0mfiltered_tb\u001b[0m\u001b[0;34m)\u001b[0m \u001b[0;32mfrom\u001b[0m \u001b[0;32mNone\u001b[0m\u001b[0;34m\u001b[0m\u001b[0;34m\u001b[0m\u001b[0m\n\u001b[0m\u001b[1;32m     71\u001b[0m         \u001b[0;32mfinally\u001b[0m\u001b[0;34m:\u001b[0m\u001b[0;34m\u001b[0m\u001b[0;34m\u001b[0m\u001b[0m\n\u001b[1;32m     72\u001b[0m             \u001b[0;32mdel\u001b[0m \u001b[0mfiltered_tb\u001b[0m\u001b[0;34m\u001b[0m\u001b[0;34m\u001b[0m\u001b[0m\n",
            "\u001b[0;32m/usr/local/lib/python3.10/dist-packages/keras/src/saving/legacy/hdf5_format.py\u001b[0m in \u001b[0;36mload_model_from_hdf5\u001b[0;34m(filepath, custom_objects, compile)\u001b[0m\n\u001b[1;32m    195\u001b[0m         \u001b[0mmodel_config\u001b[0m \u001b[0;34m=\u001b[0m \u001b[0mf\u001b[0m\u001b[0;34m.\u001b[0m\u001b[0mattrs\u001b[0m\u001b[0;34m.\u001b[0m\u001b[0mget\u001b[0m\u001b[0;34m(\u001b[0m\u001b[0;34m\"model_config\"\u001b[0m\u001b[0;34m)\u001b[0m\u001b[0;34m\u001b[0m\u001b[0;34m\u001b[0m\u001b[0m\n\u001b[1;32m    196\u001b[0m         \u001b[0;32mif\u001b[0m \u001b[0mmodel_config\u001b[0m \u001b[0;32mis\u001b[0m \u001b[0;32mNone\u001b[0m\u001b[0;34m:\u001b[0m\u001b[0;34m\u001b[0m\u001b[0;34m\u001b[0m\u001b[0m\n\u001b[0;32m--> 197\u001b[0;31m             raise ValueError(\n\u001b[0m\u001b[1;32m    198\u001b[0m                 \u001b[0;34mf\"No model config found in the file at {filepath}.\"\u001b[0m\u001b[0;34m\u001b[0m\u001b[0;34m\u001b[0m\u001b[0m\n\u001b[1;32m    199\u001b[0m             )\n",
            "\u001b[0;31mValueError\u001b[0m: No model config found in the file at <tensorflow.python.platform.gfile.GFile object at 0x7f35530bd0c0>."
          ]
        }
      ]
    },
    {
      "cell_type": "code",
      "source": [
        "#Assign the input image size as 224,224,3\n",
        "input_shape=(IMG_HEIGHT, IMG_WIDTH, 3)\n",
        "# Set the Output size as number of classes (1, sigmoid for binary classisfication)\n",
        "# (2, softmax for multiclass)\n",
        "n_classes=1\n",
        "inputs = tf.keras.layers.Input(shape=input_shape)\n",
        "#combine the two models\n",
        "combined = tf.keras.layers.Concatenate()([modelXC(inputs), modelEN(inputs)])\n",
        "\n",
        "outputs = tf.keras.layers.Dense(n_classes)(combined)\n",
        "\n",
        "modelXCEN = tf.keras.models.Model(inputs, outputs)"
      ],
      "metadata": {
        "id": "6V6Mibd--tto"
      },
      "execution_count": null,
      "outputs": []
    },
    {
      "cell_type": "code",
      "source": [
        "modelXC.trainable = False\n",
        "modelEN.trainable = False\n",
        "modelXCEN.compile(optimizer='adam', loss='binary_crossentropy', metrics=['accuracy'])\n",
        "insuXCENhistory=modelXCEN.fit(train_data_gen,epochs=10)\n",
        "modelXCEN.save('gdrive/My Drive/Colab Notebooks/insulXCNAS.h5')\n",
        "modelXCEN.evaluate(test_data_gen,steps=len(test_data_gen),verbose=2)\n",
        "f1=open('gdrive/My Drive/Colab Notebooks/insulXCENmodelOutput.txt', 'w')\n",
        "f1.write(\" Xception & EfficientNet\\n\")\n",
        "f1.write(str(insuXCENhistory.history))\n",
        "f1.close()"
      ],
      "metadata": {
        "id": "6e1pLjeu-vmc"
      },
      "execution_count": null,
      "outputs": []
    },
    {
      "cell_type": "markdown",
      "source": [],
      "metadata": {
        "id": "rnMcm67D-nER"
      }
    },
    {
      "cell_type": "code",
      "source": [
        "test_labels = np.asarray(test_data_gen.labels, dtype=np.int32)\n",
        "categories= ['normal', 'defect' ]\n",
        "predictions = (modelXCEN.predict(test_data_gen))\n",
        "predictions[:10]\n",
        "from sklearn import preprocessing\n",
        "le = preprocessing.LabelEncoder()\n",
        "test_labels_encoded = le.fit_transform(test_labels)\n",
        "from sklearn.metrics import classification_report\n",
        "test_labels = test_labels.ravel()\n",
        "predictions = predictions.argmax(axis=1)\n",
        "print(classification_report(test_labels, predictions, target_names=categories))\n",
        "cm = confusion_matrix(test_labels,predictions)\n",
        "cm = pd.DataFrame(cm , index = categories , columns = categories)\n",
        "plt.figure(figsize = (10,10))\n",
        "sns.heatmap(cm,cmap= \"Blues\", linecolor = 'black' , linewidth = 1 , annot = True, fmt='',\n",
        "            xticklabels = categories , yticklabels =categories)"
      ],
      "metadata": {
        "id": "23V3-yGa-yC4"
      },
      "execution_count": null,
      "outputs": []
    },
    {
      "cell_type": "markdown",
      "metadata": {
        "id": "ngfC5IwZHrux"
      },
      "source": [
        "# **Combine AlexNet & ResNet**"
      ]
    },
    {
      "cell_type": "code",
      "execution_count": null,
      "metadata": {
        "id": "Tn0o4wfyTQFj"
      },
      "outputs": [],
      "source": [
        "#Assign the input image size as 224,224,3\n",
        "input_shape=(IMG_HEIGHT, IMG_WIDTH, 3)\n",
        "# Set the Output size as number of classes (1, sigmoid for binary classisfication)\n",
        "# (2, softmax for multiclass)\n",
        "n_classes=1\n",
        "inputs = tf.keras.layers.Input(shape=input_shape)\n",
        "#combine the two models\n",
        "combined = tf.keras.layers.Concatenate()([modelalex(inputs), modelres(inputs)])\n",
        "\n",
        "outputs = tf.keras.layers.Dense(n_classes)(combined)\n",
        "\n",
        "modelalexres = tf.keras.models.Model(inputs, outputs)"
      ]
    },
    {
      "cell_type": "code",
      "execution_count": null,
      "metadata": {
        "colab": {
          "base_uri": "https://localhost:8080/"
        },
        "id": "i4tFZra0Ug_I",
        "outputId": "f9b6cbb4-6316-4553-8bd5-0b3fc6bc3b88"
      },
      "outputs": [
        {
          "name": "stdout",
          "output_type": "stream",
          "text": [
            "Epoch 1/10\n",
            "19/19 [==============================] - 301s 15s/step - loss: 3.5978 - accuracy: 0.7668\n",
            "Epoch 2/10\n",
            "19/19 [==============================] - 154s 8s/step - loss: 3.5978 - accuracy: 0.7668\n",
            "Epoch 3/10\n",
            "19/19 [==============================] - 148s 8s/step - loss: 3.5978 - accuracy: 0.7668\n",
            "Epoch 4/10\n",
            "19/19 [==============================] - 147s 8s/step - loss: 3.5978 - accuracy: 0.7668\n",
            "Epoch 5/10\n",
            "19/19 [==============================] - 146s 8s/step - loss: 3.5978 - accuracy: 0.7668\n",
            "Epoch 6/10\n",
            "19/19 [==============================] - 147s 8s/step - loss: 3.5978 - accuracy: 0.7668\n",
            "Epoch 7/10\n",
            "19/19 [==============================] - 152s 8s/step - loss: 3.5978 - accuracy: 0.7668\n",
            "Epoch 8/10\n",
            "19/19 [==============================] - 149s 8s/step - loss: 3.5978 - accuracy: 0.7668\n",
            "Epoch 9/10\n",
            "19/19 [==============================] - 147s 8s/step - loss: 3.5978 - accuracy: 0.7668\n",
            "Epoch 10/10\n",
            "19/19 [==============================] - 153s 8s/step - loss: 3.5978 - accuracy: 0.7668\n"
          ]
        }
      ],
      "source": [
        "modelalex.trainable = False\n",
        "modelres.trainable = False\n",
        "modelalexres.compile(optimizer='adam', loss='binary_crossentropy', metrics=['accuracy'])\n",
        "alexreshistory=modelalexres.fit(train_data_gen,epochs=10)"
      ]
    },
    {
      "cell_type": "code",
      "execution_count": null,
      "metadata": {
        "colab": {
          "base_uri": "https://localhost:8080/"
        },
        "id": "Oq-tSNPcLaRj",
        "outputId": "e7d3c995-fa32-4c29-de6e-5c4a42887f6f"
      },
      "outputs": [
        {
          "name": "stderr",
          "output_type": "stream",
          "text": [
            "/usr/local/lib/python3.10/dist-packages/keras/src/engine/training.py:3103: UserWarning: You are saving your model as an HDF5 file via `model.save()`. This file format is considered legacy. We recommend using instead the native Keras format, e.g. `model.save('my_model.keras')`.\n",
            "  saving_api.save_model(\n"
          ]
        },
        {
          "name": "stdout",
          "output_type": "stream",
          "text": [
            "2/2 - 49s - loss: 4.4071 - accuracy: 0.7143 - 49s/epoch - 24s/step\n"
          ]
        }
      ],
      "source": [
        "modelalexres.save('/content/gdrive/MyDrive/Colab Notebooks/insulalexresmodel.h5')\n",
        "modelalexres.evaluate(test_data_gen,steps=len(test_data_gen),verbose=2)\n",
        "f1=open('gdrive/My Drive/Colab Notebooks/insulalexresmodelOutput.txt', 'w')\n",
        "f1.write(\"AlexRes\\n\")\n",
        "f1.write(str(alexreshistory.history))\n",
        "f1.close()"
      ]
    },
    {
      "cell_type": "code",
      "execution_count": null,
      "metadata": {
        "id": "ZyXJl0oJDyX-"
      },
      "outputs": [],
      "source": [
        "modelalexres.save('/content/gdrive/MyDrive/Colab Notebooks/alexreshistory.history')"
      ]
    },
    {
      "cell_type": "code",
      "execution_count": null,
      "metadata": {
        "id": "b2Fbop8WIZ-_"
      },
      "outputs": [],
      "source": [
        "import pandas as pd\n",
        "\n",
        "# convert the history.history dict to a pandas DataFrame:\n",
        "hist_alexres = pd.DataFrame(alexreshistory.history)\n",
        "\n",
        "# save to json:\n",
        "\n",
        "import json\n",
        "with open('hist_json_alexres.json', 'w') as f:\n",
        "    json.dump(alexreshistory.history, f)\n",
        "\n"
      ]
    },
    {
      "cell_type": "markdown",
      "metadata": {
        "id": "XLQaUHkBMiwV"
      },
      "source": [
        "# **ResNet** & **AlexNet**"
      ]
    },
    {
      "cell_type": "code",
      "execution_count": null,
      "metadata": {
        "id": "xHy261GvMgkY"
      },
      "outputs": [],
      "source": [
        "#Assign the input image size as 224,224,3\n",
        "input_shape=(IMG_HEIGHT, IMG_WIDTH, 3)\n",
        "# Set the Output size as number of classes (1, sigmoid for binary classisfication)\n",
        "# (2, softmax for multiclass)\n",
        "n_classes=1\n",
        "inputs = tf.keras.layers.Input(shape=input_shape)\n",
        "#combine the two models\n",
        "combined = tf.keras.layers.Concatenate()([modelres(inputs), modelalex(inputs)])\n",
        "\n",
        "outputs = tf.keras.layers.Dense(n_classes)(combined)\n",
        "\n",
        "modelresalex = tf.keras.models.Model(inputs, outputs)"
      ]
    },
    {
      "cell_type": "code",
      "execution_count": null,
      "metadata": {
        "colab": {
          "base_uri": "https://localhost:8080/"
        },
        "id": "-nPijTH9MtiI",
        "outputId": "fea34b81-c271-4b22-9713-28eb7acc1efb"
      },
      "outputs": [
        {
          "name": "stdout",
          "output_type": "stream",
          "text": [
            "Epoch 1/10\n",
            "19/19 [==============================] - 174s 9s/step - loss: 0.4237 - accuracy: 0.7668\n",
            "Epoch 2/10\n",
            "19/19 [==============================] - 148s 8s/step - loss: 0.3742 - accuracy: 0.7668\n",
            "Epoch 3/10\n",
            "19/19 [==============================] - 147s 8s/step - loss: 0.3443 - accuracy: 0.7668\n",
            "Epoch 4/10\n",
            "19/19 [==============================] - 146s 8s/step - loss: 0.3252 - accuracy: 0.7668\n",
            "Epoch 5/10\n",
            "19/19 [==============================] - 144s 8s/step - loss: 0.3154 - accuracy: 0.7668\n",
            "Epoch 6/10\n",
            "19/19 [==============================] - 147s 8s/step - loss: 0.3079 - accuracy: 0.7659\n",
            "Epoch 7/10\n",
            "19/19 [==============================] - 144s 8s/step - loss: 0.2977 - accuracy: 0.7655\n",
            "Epoch 8/10\n",
            "19/19 [==============================] - 147s 8s/step - loss: 0.2935 - accuracy: 0.7680\n",
            "Epoch 9/10\n",
            "19/19 [==============================] - 146s 8s/step - loss: 0.2913 - accuracy: 0.7727\n",
            "Epoch 10/10\n",
            "19/19 [==============================] - 146s 8s/step - loss: 0.2877 - accuracy: 0.7735\n"
          ]
        }
      ],
      "source": [
        "modelalex.trainable = False\n",
        "modelres.trainable = False\n",
        "modelresalex.compile(optimizer='adam', loss='binary_crossentropy', metrics=['accuracy'])\n",
        "resalexhistory=modelresalex.fit(train_data_gen,epochs=10)"
      ]
    },
    {
      "cell_type": "markdown",
      "metadata": {
        "id": "U3STq42fVBei"
      },
      "source": [
        "# **AlexNet & MobileNet**"
      ]
    },
    {
      "cell_type": "code",
      "execution_count": null,
      "metadata": {
        "colab": {
          "base_uri": "https://localhost:8080/",
          "height": 73
        },
        "id": "-RJ8dXSoU_yy",
        "outputId": "8901dd3d-2378-4e99-bfbd-18f50629ceb8"
      },
      "outputs": [
        {
          "data": {
            "text/html": [
              "\n",
              "     <input type=\"file\" id=\"files-b3e58847-6523-4581-8591-ba242864e707\" name=\"files[]\" multiple disabled\n",
              "        style=\"border:none\" />\n",
              "     <output id=\"result-b3e58847-6523-4581-8591-ba242864e707\">\n",
              "      Upload widget is only available when the cell has been executed in the\n",
              "      current browser session. Please rerun this cell to enable.\n",
              "      </output>\n",
              "      <script>// Copyright 2017 Google LLC\n",
              "//\n",
              "// Licensed under the Apache License, Version 2.0 (the \"License\");\n",
              "// you may not use this file except in compliance with the License.\n",
              "// You may obtain a copy of the License at\n",
              "//\n",
              "//      http://www.apache.org/licenses/LICENSE-2.0\n",
              "//\n",
              "// Unless required by applicable law or agreed to in writing, software\n",
              "// distributed under the License is distributed on an \"AS IS\" BASIS,\n",
              "// WITHOUT WARRANTIES OR CONDITIONS OF ANY KIND, either express or implied.\n",
              "// See the License for the specific language governing permissions and\n",
              "// limitations under the License.\n",
              "\n",
              "/**\n",
              " * @fileoverview Helpers for google.colab Python module.\n",
              " */\n",
              "(function(scope) {\n",
              "function span(text, styleAttributes = {}) {\n",
              "  const element = document.createElement('span');\n",
              "  element.textContent = text;\n",
              "  for (const key of Object.keys(styleAttributes)) {\n",
              "    element.style[key] = styleAttributes[key];\n",
              "  }\n",
              "  return element;\n",
              "}\n",
              "\n",
              "// Max number of bytes which will be uploaded at a time.\n",
              "const MAX_PAYLOAD_SIZE = 100 * 1024;\n",
              "\n",
              "function _uploadFiles(inputId, outputId) {\n",
              "  const steps = uploadFilesStep(inputId, outputId);\n",
              "  const outputElement = document.getElementById(outputId);\n",
              "  // Cache steps on the outputElement to make it available for the next call\n",
              "  // to uploadFilesContinue from Python.\n",
              "  outputElement.steps = steps;\n",
              "\n",
              "  return _uploadFilesContinue(outputId);\n",
              "}\n",
              "\n",
              "// This is roughly an async generator (not supported in the browser yet),\n",
              "// where there are multiple asynchronous steps and the Python side is going\n",
              "// to poll for completion of each step.\n",
              "// This uses a Promise to block the python side on completion of each step,\n",
              "// then passes the result of the previous step as the input to the next step.\n",
              "function _uploadFilesContinue(outputId) {\n",
              "  const outputElement = document.getElementById(outputId);\n",
              "  const steps = outputElement.steps;\n",
              "\n",
              "  const next = steps.next(outputElement.lastPromiseValue);\n",
              "  return Promise.resolve(next.value.promise).then((value) => {\n",
              "    // Cache the last promise value to make it available to the next\n",
              "    // step of the generator.\n",
              "    outputElement.lastPromiseValue = value;\n",
              "    return next.value.response;\n",
              "  });\n",
              "}\n",
              "\n",
              "/**\n",
              " * Generator function which is called between each async step of the upload\n",
              " * process.\n",
              " * @param {string} inputId Element ID of the input file picker element.\n",
              " * @param {string} outputId Element ID of the output display.\n",
              " * @return {!Iterable<!Object>} Iterable of next steps.\n",
              " */\n",
              "function* uploadFilesStep(inputId, outputId) {\n",
              "  const inputElement = document.getElementById(inputId);\n",
              "  inputElement.disabled = false;\n",
              "\n",
              "  const outputElement = document.getElementById(outputId);\n",
              "  outputElement.innerHTML = '';\n",
              "\n",
              "  const pickedPromise = new Promise((resolve) => {\n",
              "    inputElement.addEventListener('change', (e) => {\n",
              "      resolve(e.target.files);\n",
              "    });\n",
              "  });\n",
              "\n",
              "  const cancel = document.createElement('button');\n",
              "  inputElement.parentElement.appendChild(cancel);\n",
              "  cancel.textContent = 'Cancel upload';\n",
              "  const cancelPromise = new Promise((resolve) => {\n",
              "    cancel.onclick = () => {\n",
              "      resolve(null);\n",
              "    };\n",
              "  });\n",
              "\n",
              "  // Wait for the user to pick the files.\n",
              "  const files = yield {\n",
              "    promise: Promise.race([pickedPromise, cancelPromise]),\n",
              "    response: {\n",
              "      action: 'starting',\n",
              "    }\n",
              "  };\n",
              "\n",
              "  cancel.remove();\n",
              "\n",
              "  // Disable the input element since further picks are not allowed.\n",
              "  inputElement.disabled = true;\n",
              "\n",
              "  if (!files) {\n",
              "    return {\n",
              "      response: {\n",
              "        action: 'complete',\n",
              "      }\n",
              "    };\n",
              "  }\n",
              "\n",
              "  for (const file of files) {\n",
              "    const li = document.createElement('li');\n",
              "    li.append(span(file.name, {fontWeight: 'bold'}));\n",
              "    li.append(span(\n",
              "        `(${file.type || 'n/a'}) - ${file.size} bytes, ` +\n",
              "        `last modified: ${\n",
              "            file.lastModifiedDate ? file.lastModifiedDate.toLocaleDateString() :\n",
              "                                    'n/a'} - `));\n",
              "    const percent = span('0% done');\n",
              "    li.appendChild(percent);\n",
              "\n",
              "    outputElement.appendChild(li);\n",
              "\n",
              "    const fileDataPromise = new Promise((resolve) => {\n",
              "      const reader = new FileReader();\n",
              "      reader.onload = (e) => {\n",
              "        resolve(e.target.result);\n",
              "      };\n",
              "      reader.readAsArrayBuffer(file);\n",
              "    });\n",
              "    // Wait for the data to be ready.\n",
              "    let fileData = yield {\n",
              "      promise: fileDataPromise,\n",
              "      response: {\n",
              "        action: 'continue',\n",
              "      }\n",
              "    };\n",
              "\n",
              "    // Use a chunked sending to avoid message size limits. See b/62115660.\n",
              "    let position = 0;\n",
              "    do {\n",
              "      const length = Math.min(fileData.byteLength - position, MAX_PAYLOAD_SIZE);\n",
              "      const chunk = new Uint8Array(fileData, position, length);\n",
              "      position += length;\n",
              "\n",
              "      const base64 = btoa(String.fromCharCode.apply(null, chunk));\n",
              "      yield {\n",
              "        response: {\n",
              "          action: 'append',\n",
              "          file: file.name,\n",
              "          data: base64,\n",
              "        },\n",
              "      };\n",
              "\n",
              "      let percentDone = fileData.byteLength === 0 ?\n",
              "          100 :\n",
              "          Math.round((position / fileData.byteLength) * 100);\n",
              "      percent.textContent = `${percentDone}% done`;\n",
              "\n",
              "    } while (position < fileData.byteLength);\n",
              "  }\n",
              "\n",
              "  // All done.\n",
              "  yield {\n",
              "    response: {\n",
              "      action: 'complete',\n",
              "    }\n",
              "  };\n",
              "}\n",
              "\n",
              "scope.google = scope.google || {};\n",
              "scope.google.colab = scope.google.colab || {};\n",
              "scope.google.colab._files = {\n",
              "  _uploadFiles,\n",
              "  _uploadFilesContinue,\n",
              "};\n",
              "})(self);\n",
              "</script> "
            ],
            "text/plain": [
              "<IPython.core.display.HTML object>"
            ]
          },
          "metadata": {},
          "output_type": "display_data"
        },
        {
          "name": "stdout",
          "output_type": "stream",
          "text": [
            "Saving insulMN.h5 to insulMN.h5\n"
          ]
        }
      ],
      "source": [
        "from google.colab import files\n",
        "insullenet=files.upload()"
      ]
    },
    {
      "cell_type": "code",
      "execution_count": null,
      "metadata": {
        "colab": {
          "base_uri": "https://localhost:8080/",
          "height": 73
        },
        "id": "FTDpCe6oLEac",
        "outputId": "902ada66-cea7-4d3e-fa81-a267cdbaabd1"
      },
      "outputs": [
        {
          "data": {
            "text/html": [
              "\n",
              "     <input type=\"file\" id=\"files-e868fdd3-1a71-4779-8337-368d0d83e365\" name=\"files[]\" multiple disabled\n",
              "        style=\"border:none\" />\n",
              "     <output id=\"result-e868fdd3-1a71-4779-8337-368d0d83e365\">\n",
              "      Upload widget is only available when the cell has been executed in the\n",
              "      current browser session. Please rerun this cell to enable.\n",
              "      </output>\n",
              "      <script>// Copyright 2017 Google LLC\n",
              "//\n",
              "// Licensed under the Apache License, Version 2.0 (the \"License\");\n",
              "// you may not use this file except in compliance with the License.\n",
              "// You may obtain a copy of the License at\n",
              "//\n",
              "//      http://www.apache.org/licenses/LICENSE-2.0\n",
              "//\n",
              "// Unless required by applicable law or agreed to in writing, software\n",
              "// distributed under the License is distributed on an \"AS IS\" BASIS,\n",
              "// WITHOUT WARRANTIES OR CONDITIONS OF ANY KIND, either express or implied.\n",
              "// See the License for the specific language governing permissions and\n",
              "// limitations under the License.\n",
              "\n",
              "/**\n",
              " * @fileoverview Helpers for google.colab Python module.\n",
              " */\n",
              "(function(scope) {\n",
              "function span(text, styleAttributes = {}) {\n",
              "  const element = document.createElement('span');\n",
              "  element.textContent = text;\n",
              "  for (const key of Object.keys(styleAttributes)) {\n",
              "    element.style[key] = styleAttributes[key];\n",
              "  }\n",
              "  return element;\n",
              "}\n",
              "\n",
              "// Max number of bytes which will be uploaded at a time.\n",
              "const MAX_PAYLOAD_SIZE = 100 * 1024;\n",
              "\n",
              "function _uploadFiles(inputId, outputId) {\n",
              "  const steps = uploadFilesStep(inputId, outputId);\n",
              "  const outputElement = document.getElementById(outputId);\n",
              "  // Cache steps on the outputElement to make it available for the next call\n",
              "  // to uploadFilesContinue from Python.\n",
              "  outputElement.steps = steps;\n",
              "\n",
              "  return _uploadFilesContinue(outputId);\n",
              "}\n",
              "\n",
              "// This is roughly an async generator (not supported in the browser yet),\n",
              "// where there are multiple asynchronous steps and the Python side is going\n",
              "// to poll for completion of each step.\n",
              "// This uses a Promise to block the python side on completion of each step,\n",
              "// then passes the result of the previous step as the input to the next step.\n",
              "function _uploadFilesContinue(outputId) {\n",
              "  const outputElement = document.getElementById(outputId);\n",
              "  const steps = outputElement.steps;\n",
              "\n",
              "  const next = steps.next(outputElement.lastPromiseValue);\n",
              "  return Promise.resolve(next.value.promise).then((value) => {\n",
              "    // Cache the last promise value to make it available to the next\n",
              "    // step of the generator.\n",
              "    outputElement.lastPromiseValue = value;\n",
              "    return next.value.response;\n",
              "  });\n",
              "}\n",
              "\n",
              "/**\n",
              " * Generator function which is called between each async step of the upload\n",
              " * process.\n",
              " * @param {string} inputId Element ID of the input file picker element.\n",
              " * @param {string} outputId Element ID of the output display.\n",
              " * @return {!Iterable<!Object>} Iterable of next steps.\n",
              " */\n",
              "function* uploadFilesStep(inputId, outputId) {\n",
              "  const inputElement = document.getElementById(inputId);\n",
              "  inputElement.disabled = false;\n",
              "\n",
              "  const outputElement = document.getElementById(outputId);\n",
              "  outputElement.innerHTML = '';\n",
              "\n",
              "  const pickedPromise = new Promise((resolve) => {\n",
              "    inputElement.addEventListener('change', (e) => {\n",
              "      resolve(e.target.files);\n",
              "    });\n",
              "  });\n",
              "\n",
              "  const cancel = document.createElement('button');\n",
              "  inputElement.parentElement.appendChild(cancel);\n",
              "  cancel.textContent = 'Cancel upload';\n",
              "  const cancelPromise = new Promise((resolve) => {\n",
              "    cancel.onclick = () => {\n",
              "      resolve(null);\n",
              "    };\n",
              "  });\n",
              "\n",
              "  // Wait for the user to pick the files.\n",
              "  const files = yield {\n",
              "    promise: Promise.race([pickedPromise, cancelPromise]),\n",
              "    response: {\n",
              "      action: 'starting',\n",
              "    }\n",
              "  };\n",
              "\n",
              "  cancel.remove();\n",
              "\n",
              "  // Disable the input element since further picks are not allowed.\n",
              "  inputElement.disabled = true;\n",
              "\n",
              "  if (!files) {\n",
              "    return {\n",
              "      response: {\n",
              "        action: 'complete',\n",
              "      }\n",
              "    };\n",
              "  }\n",
              "\n",
              "  for (const file of files) {\n",
              "    const li = document.createElement('li');\n",
              "    li.append(span(file.name, {fontWeight: 'bold'}));\n",
              "    li.append(span(\n",
              "        `(${file.type || 'n/a'}) - ${file.size} bytes, ` +\n",
              "        `last modified: ${\n",
              "            file.lastModifiedDate ? file.lastModifiedDate.toLocaleDateString() :\n",
              "                                    'n/a'} - `));\n",
              "    const percent = span('0% done');\n",
              "    li.appendChild(percent);\n",
              "\n",
              "    outputElement.appendChild(li);\n",
              "\n",
              "    const fileDataPromise = new Promise((resolve) => {\n",
              "      const reader = new FileReader();\n",
              "      reader.onload = (e) => {\n",
              "        resolve(e.target.result);\n",
              "      };\n",
              "      reader.readAsArrayBuffer(file);\n",
              "    });\n",
              "    // Wait for the data to be ready.\n",
              "    let fileData = yield {\n",
              "      promise: fileDataPromise,\n",
              "      response: {\n",
              "        action: 'continue',\n",
              "      }\n",
              "    };\n",
              "\n",
              "    // Use a chunked sending to avoid message size limits. See b/62115660.\n",
              "    let position = 0;\n",
              "    do {\n",
              "      const length = Math.min(fileData.byteLength - position, MAX_PAYLOAD_SIZE);\n",
              "      const chunk = new Uint8Array(fileData, position, length);\n",
              "      position += length;\n",
              "\n",
              "      const base64 = btoa(String.fromCharCode.apply(null, chunk));\n",
              "      yield {\n",
              "        response: {\n",
              "          action: 'append',\n",
              "          file: file.name,\n",
              "          data: base64,\n",
              "        },\n",
              "      };\n",
              "\n",
              "      let percentDone = fileData.byteLength === 0 ?\n",
              "          100 :\n",
              "          Math.round((position / fileData.byteLength) * 100);\n",
              "      percent.textContent = `${percentDone}% done`;\n",
              "\n",
              "    } while (position < fileData.byteLength);\n",
              "  }\n",
              "\n",
              "  // All done.\n",
              "  yield {\n",
              "    response: {\n",
              "      action: 'complete',\n",
              "    }\n",
              "  };\n",
              "}\n",
              "\n",
              "scope.google = scope.google || {};\n",
              "scope.google.colab = scope.google.colab || {};\n",
              "scope.google.colab._files = {\n",
              "  _uploadFiles,\n",
              "  _uploadFilesContinue,\n",
              "};\n",
              "})(self);\n",
              "</script> "
            ],
            "text/plain": [
              "<IPython.core.display.HTML object>"
            ]
          },
          "metadata": {},
          "output_type": "display_data"
        },
        {
          "name": "stdout",
          "output_type": "stream",
          "text": [
            "Saving insulAlex.h5 to insulAlex.h5\n"
          ]
        }
      ],
      "source": [
        "from google.colab import files\n",
        "insulalex=files.upload()"
      ]
    },
    {
      "cell_type": "code",
      "execution_count": null,
      "metadata": {
        "id": "H_NtU_8bXMw2"
      },
      "outputs": [],
      "source": [
        "modelmn = tf.keras.models.load_model('insulMN.h5')\n",
        "modelalex = tf.keras.models.load_model('insulAlex.h5')"
      ]
    },
    {
      "cell_type": "code",
      "execution_count": null,
      "metadata": {
        "id": "bjYocObcVkQD"
      },
      "outputs": [],
      "source": [
        "#Assign the input image size as 224,224,3\n",
        "input_shape=(IMG_HEIGHT, IMG_WIDTH, 3)\n",
        "# Set the Output size as number of classes (1, sigmoid for binary classisfication)\n",
        "# (2, softmax for multiclass)\n",
        "n_classes=1\n",
        "inputs = tf.keras.layers.Input(shape=input_shape)\n",
        "#combine the two models\n",
        "combined = tf.keras.layers.Concatenate()([modelmn(inputs), modelalex(inputs)])\n",
        "\n",
        "outputs = tf.keras.layers.Dense(n_classes)(combined)\n",
        "\n",
        "modelmnalex = tf.keras.models.Model(inputs, outputs)"
      ]
    },
    {
      "cell_type": "code",
      "execution_count": null,
      "metadata": {
        "colab": {
          "base_uri": "https://localhost:8080/",
          "height": 236
        },
        "id": "qmx4FDm0WvcH",
        "outputId": "5e4cb114-23d4-48a2-a3b1-38a790880ff9"
      },
      "outputs": [
        {
          "ename": "NameError",
          "evalue": "name 'modelalex' is not defined",
          "output_type": "error",
          "traceback": [
            "\u001b[0;31m---------------------------------------------------------------------------\u001b[0m",
            "\u001b[0;31mNameError\u001b[0m                                 Traceback (most recent call last)",
            "\u001b[0;32m<ipython-input-1-38fbbe5db30f>\u001b[0m in \u001b[0;36m<cell line: 1>\u001b[0;34m()\u001b[0m\n\u001b[0;32m----> 1\u001b[0;31m \u001b[0mmodelalex\u001b[0m\u001b[0;34m.\u001b[0m\u001b[0mtrainable\u001b[0m \u001b[0;34m=\u001b[0m \u001b[0;32mFalse\u001b[0m\u001b[0;34m\u001b[0m\u001b[0;34m\u001b[0m\u001b[0m\n\u001b[0m\u001b[1;32m      2\u001b[0m \u001b[0mmodelmn\u001b[0m\u001b[0;34m.\u001b[0m\u001b[0mtrainable\u001b[0m \u001b[0;34m=\u001b[0m \u001b[0;32mFalse\u001b[0m\u001b[0;34m\u001b[0m\u001b[0;34m\u001b[0m\u001b[0m\n\u001b[1;32m      3\u001b[0m \u001b[0mmodelmnalex\u001b[0m\u001b[0;34m.\u001b[0m\u001b[0mcompile\u001b[0m\u001b[0;34m(\u001b[0m\u001b[0moptimizer\u001b[0m\u001b[0;34m=\u001b[0m\u001b[0;34m'adam'\u001b[0m\u001b[0;34m,\u001b[0m \u001b[0mloss\u001b[0m\u001b[0;34m=\u001b[0m\u001b[0;34m'binary_crossentropy'\u001b[0m\u001b[0;34m,\u001b[0m \u001b[0mmetrics\u001b[0m\u001b[0;34m=\u001b[0m\u001b[0;34m[\u001b[0m\u001b[0;34m'accuracy'\u001b[0m\u001b[0;34m]\u001b[0m\u001b[0;34m)\u001b[0m\u001b[0;34m\u001b[0m\u001b[0;34m\u001b[0m\u001b[0m\n\u001b[1;32m      4\u001b[0m \u001b[0mmnalexhistory\u001b[0m\u001b[0;34m=\u001b[0m\u001b[0mmodelmnalex\u001b[0m\u001b[0;34m.\u001b[0m\u001b[0mfit\u001b[0m\u001b[0;34m(\u001b[0m\u001b[0mtrain_data_gen\u001b[0m\u001b[0;34m,\u001b[0m\u001b[0mepochs\u001b[0m\u001b[0;34m=\u001b[0m\u001b[0;36m10\u001b[0m\u001b[0;34m)\u001b[0m\u001b[0;34m\u001b[0m\u001b[0;34m\u001b[0m\u001b[0m\n",
            "\u001b[0;31mNameError\u001b[0m: name 'modelalex' is not defined"
          ]
        }
      ],
      "source": [
        "modelalex.trainable = False\n",
        "modelmn.trainable = False\n",
        "modelmnalex.compile(optimizer='adam', loss='binary_crossentropy', metrics=['accuracy'])\n",
        "mnalexhistory=modelmnalex.fit(train_data_gen,epochs=10)"
      ]
    },
    {
      "cell_type": "code",
      "execution_count": null,
      "metadata": {
        "id": "sjkwuyxhM-El"
      },
      "outputs": [],
      "source": [
        "modelmnalex.save('/content/gdrive/MyDrive/Colab Notebooks/insulmnalexmodel.h5')\n",
        "modelmnalex.evaluate(test_data_gen,steps=len(test_data_gen),verbose=2)\n",
        "f1=open('gdrive/My Drive/Colab Notebooks/insulmnalexmodelOutput.txt', 'w')\n",
        "f1.write(\"MNAlex\\n\")\n",
        "f1.write(str(mnalexhistory.history))\n",
        "f1.close()"
      ]
    },
    {
      "cell_type": "code",
      "execution_count": null,
      "metadata": {
        "id": "KWDt-K5xW14K"
      },
      "outputs": [],
      "source": [
        "import pandas as pd\n",
        "\n",
        "# convert the history.history dict to a pandas DataFrame:\n",
        "hist_alexmn = pd.DataFrame(mnalexhistory.history)\n",
        "\n",
        "# save to json:\n",
        "\n",
        "import json\n",
        "with open('hist_json_alexmn.json', 'w') as f:\n",
        "    json.dump(mnalexhistory.history, f)"
      ]
    },
    {
      "cell_type": "markdown",
      "metadata": {
        "id": "SafzNLBVZH1P"
      },
      "source": [
        "# **ResNet** & **LeNet**"
      ]
    },
    {
      "cell_type": "code",
      "execution_count": null,
      "metadata": {
        "id": "iy_ezfR6ZiQN"
      },
      "outputs": [],
      "source": [
        "#Assign the input image size as 224,224,3\n",
        "input_shape=(IMG_HEIGHT, IMG_WIDTH, 3)\n",
        "# Set the Output size as number of classes (1, sigmoid for binary classisfication)\n",
        "# (2, softmax for multiclass)\n",
        "n_classes=1\n",
        "inputs = tf.keras.layers.Input(shape=input_shape)\n",
        "#combine the two models\n",
        "combined = tf.keras.layers.Concatenate()([modellenet(inputs), modelres(inputs)])\n",
        "\n",
        "outputs = tf.keras.layers.Dense(n_classes)(combined)\n",
        "\n",
        "modellenetres = tf.keras.models.Model(inputs, outputs)\n",
        "modelres.trainable = False\n",
        "modellenet.trainable = False\n",
        "modellenetres.compile(optimizer='adam', loss='binary_crossentropy', metrics=['accuracy'])\n",
        "lenetreshistory=modellenetres.fit(train_data_gen,epochs=10)\n",
        "\n",
        "modellenetres.save('/content/gdrive/MyDrive/Colab Notebooks/insullenetresmodel.h5')\n",
        "modellenetres.evaluate(test_data_gen,steps=len(test_data_gen),verbose=2)\n",
        "f1=open('gdrive/My Drive/Colab Notebooks/insullenetresmodelOutput.txt', 'w')\n",
        "f1.write(\"lenetRes\\n\")\n",
        "f1.write(str(lenetreshistory.history))\n",
        "f1.close()\n",
        "\n",
        "import pandas as pd\n",
        "\n",
        "# convert the history.history dict to a pandas DataFrame:\n",
        "hist_lenetres = pd.DataFrame(lenetreshistory.history)\n",
        "\n",
        "# save to json:\n",
        "\n",
        "import json\n",
        "with open('hist_json_lenetres.json', 'w') as f:\n",
        "    json.dump(lenetreshistory.history, f)"
      ]
    },
    {
      "cell_type": "code",
      "execution_count": null,
      "metadata": {
        "colab": {
          "base_uri": "https://localhost:8080/"
        },
        "id": "PMgmpZ7NDx14",
        "outputId": "cf4101c9-e2db-4f1e-9ceb-b3fb6daeb1aa"
      },
      "outputs": [
        {
          "name": "stdout",
          "output_type": "stream",
          "text": [
            "2/2 - 49s - loss: 0.3664 - accuracy: 0.8629 - 49s/epoch - 24s/step\n"
          ]
        },
        {
          "data": {
            "text/plain": [
              "[0.36644911766052246, 0.8628571629524231]"
            ]
          },
          "execution_count": 14,
          "metadata": {},
          "output_type": "execute_result"
        }
      ],
      "source": [
        "modeldnres = tf.keras.models.load_model('/content/gdrive/MyDrive/Colab Notebooks/insuldnresmodel.h5')\n",
        "modeldnres.evaluate(test_data_gen,steps=len(test_data_gen),verbose=2)\n"
      ]
    },
    {
      "cell_type": "code",
      "execution_count": null,
      "metadata": {
        "colab": {
          "background_save": true,
          "base_uri": "https://localhost:8080/"
        },
        "id": "GYnrE9tQkXqZ",
        "outputId": "6739c719-0415-4eaa-edc7-d60af39cc9f2"
      },
      "outputs": [
        {
          "name": "stdout",
          "output_type": "stream",
          "text": [
            "Epoch 1/10\n",
            "19/19 [==============================] - 1198s 61s/step - loss: 0.0745 - accuracy: 0.9792\n",
            "Epoch 2/10\n",
            "19/19 [==============================] - 1175s 61s/step - loss: 0.0675 - accuracy: 0.9809\n",
            "Epoch 3/10\n",
            "19/19 [==============================] - 1180s 61s/step - loss: 0.0649 - accuracy: 0.9813\n",
            "Epoch 4/10\n",
            "19/19 [==============================] - 1184s 61s/step - loss: 0.0635 - accuracy: 0.9826\n",
            "Epoch 5/10\n",
            "19/19 [==============================] - 1188s 61s/step - loss: 0.0625 - accuracy: 0.9826\n",
            "Epoch 6/10\n",
            "19/19 [==============================] - 1183s 61s/step - loss: 0.0616 - accuracy: 0.9822\n",
            "Epoch 7/10\n",
            "19/19 [==============================] - 1183s 61s/step - loss: 0.0610 - accuracy: 0.9818\n",
            "Epoch 8/10\n",
            " 2/19 [==>...........................] - ETA: 16:25 - loss: 0.0848 - accuracy: 0.9727"
          ]
        },
        {
          "ename": "UnknownError",
          "evalue": "ignored",
          "output_type": "error",
          "traceback": [
            "\u001b[0;31m---------------------------------------------------------------------------\u001b[0m",
            "\u001b[0;31mUnknownError\u001b[0m                              Traceback (most recent call last)",
            "\u001b[0;32m<ipython-input-21-4399f3b268af>\u001b[0m in \u001b[0;36m<cell line: 4>\u001b[0;34m()\u001b[0m\n\u001b[1;32m      2\u001b[0m \u001b[0mmodelres\u001b[0m\u001b[0;34m.\u001b[0m\u001b[0mtrainable\u001b[0m \u001b[0;34m=\u001b[0m \u001b[0;32mFalse\u001b[0m\u001b[0;34m\u001b[0m\u001b[0;34m\u001b[0m\u001b[0m\n\u001b[1;32m      3\u001b[0m \u001b[0mmodeldnres\u001b[0m\u001b[0;34m.\u001b[0m\u001b[0mcompile\u001b[0m\u001b[0;34m(\u001b[0m\u001b[0moptimizer\u001b[0m\u001b[0;34m=\u001b[0m\u001b[0;34m'adam'\u001b[0m\u001b[0;34m,\u001b[0m \u001b[0mloss\u001b[0m\u001b[0;34m=\u001b[0m\u001b[0;34m'binary_crossentropy'\u001b[0m\u001b[0;34m,\u001b[0m \u001b[0mmetrics\u001b[0m\u001b[0;34m=\u001b[0m\u001b[0;34m[\u001b[0m\u001b[0;34m'accuracy'\u001b[0m\u001b[0;34m]\u001b[0m\u001b[0;34m)\u001b[0m\u001b[0;34m\u001b[0m\u001b[0;34m\u001b[0m\u001b[0m\n\u001b[0;32m----> 4\u001b[0;31m \u001b[0mmodeldnres\u001b[0m\u001b[0;34m.\u001b[0m\u001b[0mfit\u001b[0m\u001b[0;34m(\u001b[0m\u001b[0mtrain_data_gen\u001b[0m\u001b[0;34m,\u001b[0m\u001b[0mepochs\u001b[0m\u001b[0;34m=\u001b[0m\u001b[0;36m10\u001b[0m\u001b[0;34m)\u001b[0m\u001b[0;34m\u001b[0m\u001b[0;34m\u001b[0m\u001b[0m\n\u001b[0m",
            "\u001b[0;32m/usr/local/lib/python3.10/dist-packages/keras/utils/traceback_utils.py\u001b[0m in \u001b[0;36merror_handler\u001b[0;34m(*args, **kwargs)\u001b[0m\n\u001b[1;32m     68\u001b[0m             \u001b[0;31m# To get the full stack trace, call:\u001b[0m\u001b[0;34m\u001b[0m\u001b[0;34m\u001b[0m\u001b[0m\n\u001b[1;32m     69\u001b[0m             \u001b[0;31m# `tf.debugging.disable_traceback_filtering()`\u001b[0m\u001b[0;34m\u001b[0m\u001b[0;34m\u001b[0m\u001b[0m\n\u001b[0;32m---> 70\u001b[0;31m             \u001b[0;32mraise\u001b[0m \u001b[0me\u001b[0m\u001b[0;34m.\u001b[0m\u001b[0mwith_traceback\u001b[0m\u001b[0;34m(\u001b[0m\u001b[0mfiltered_tb\u001b[0m\u001b[0;34m)\u001b[0m \u001b[0;32mfrom\u001b[0m \u001b[0;32mNone\u001b[0m\u001b[0;34m\u001b[0m\u001b[0;34m\u001b[0m\u001b[0m\n\u001b[0m\u001b[1;32m     71\u001b[0m         \u001b[0;32mfinally\u001b[0m\u001b[0;34m:\u001b[0m\u001b[0;34m\u001b[0m\u001b[0;34m\u001b[0m\u001b[0m\n\u001b[1;32m     72\u001b[0m             \u001b[0;32mdel\u001b[0m \u001b[0mfiltered_tb\u001b[0m\u001b[0;34m\u001b[0m\u001b[0;34m\u001b[0m\u001b[0m\n",
            "\u001b[0;32m/usr/local/lib/python3.10/dist-packages/tensorflow/python/eager/execute.py\u001b[0m in \u001b[0;36mquick_execute\u001b[0;34m(op_name, num_outputs, inputs, attrs, ctx, name)\u001b[0m\n\u001b[1;32m     50\u001b[0m   \u001b[0;32mtry\u001b[0m\u001b[0;34m:\u001b[0m\u001b[0;34m\u001b[0m\u001b[0;34m\u001b[0m\u001b[0m\n\u001b[1;32m     51\u001b[0m     \u001b[0mctx\u001b[0m\u001b[0;34m.\u001b[0m\u001b[0mensure_initialized\u001b[0m\u001b[0;34m(\u001b[0m\u001b[0;34m)\u001b[0m\u001b[0;34m\u001b[0m\u001b[0;34m\u001b[0m\u001b[0m\n\u001b[0;32m---> 52\u001b[0;31m     tensors = pywrap_tfe.TFE_Py_Execute(ctx._handle, device_name, op_name,\n\u001b[0m\u001b[1;32m     53\u001b[0m                                         inputs, attrs, num_outputs)\n\u001b[1;32m     54\u001b[0m   \u001b[0;32mexcept\u001b[0m \u001b[0mcore\u001b[0m\u001b[0;34m.\u001b[0m\u001b[0m_NotOkStatusException\u001b[0m \u001b[0;32mas\u001b[0m \u001b[0me\u001b[0m\u001b[0;34m:\u001b[0m\u001b[0;34m\u001b[0m\u001b[0;34m\u001b[0m\u001b[0m\n",
            "\u001b[0;31mUnknownError\u001b[0m: Graph execution error:\n\nFileNotFoundError: [Errno 2] No such file or directory: 'gdrive/MyDrive/Insulatordetection/Train/Defective/170870 (2)h.JPG'\nTraceback (most recent call last):\n\n  File \"/usr/local/lib/python3.10/dist-packages/tensorflow/python/ops/script_ops.py\", line 267, in __call__\n    ret = func(*args)\n\n  File \"/usr/local/lib/python3.10/dist-packages/tensorflow/python/autograph/impl/api.py\", line 642, in wrapper\n    return func(*args, **kwargs)\n\n  File \"/usr/local/lib/python3.10/dist-packages/tensorflow/python/data/ops/from_generator_op.py\", line 198, in generator_py_func\n    values = next(generator_state.get_iterator(iterator_id))\n\n  File \"/usr/local/lib/python3.10/dist-packages/keras/engine/data_adapter.py\", line 902, in wrapped_generator\n    for data in generator_fn():\n\n  File \"/usr/local/lib/python3.10/dist-packages/keras/engine/data_adapter.py\", line 1049, in generator_fn\n    yield x[i]\n\n  File \"/usr/local/lib/python3.10/dist-packages/keras/preprocessing/image.py\", line 116, in __getitem__\n    return self._get_batches_of_transformed_samples(index_array)\n\n  File \"/usr/local/lib/python3.10/dist-packages/keras/preprocessing/image.py\", line 370, in _get_batches_of_transformed_samples\n    img = image_utils.load_img(\n\n  File \"/usr/local/lib/python3.10/dist-packages/keras/utils/image_utils.py\", line 422, in load_img\n    with open(path, \"rb\") as f:\n\nFileNotFoundError: [Errno 2] No such file or directory: 'gdrive/MyDrive/Insulatordetection/Train/Defective/170870 (2)h.JPG'\n\n\n\t [[{{node PyFunc}}]]\n\t [[IteratorGetNext]] [Op:__inference_train_function_48297]"
          ]
        }
      ],
      "source": [
        "modeldn.trainable = False\n",
        "modelres.trainable = False\n",
        "modeldnres.compile(optimizer='adam', loss='binary_crossentropy', metrics=['accuracy'])\n",
        "modeldnres.fit(train_data_gen,epochs=10)"
      ]
    },
    {
      "cell_type": "markdown",
      "metadata": {
        "id": "fx4sYxiZ9z_w"
      },
      "source": [
        "# Hybrid Models- VGG16 & NAS Net"
      ]
    },
    {
      "cell_type": "code",
      "execution_count": null,
      "metadata": {
        "id": "J44xqGW6VVof"
      },
      "outputs": [],
      "source": [
        "import keras\n",
        "from tensorflow.keras.models import Model\n",
        "\n",
        "vgg16 = keras.applications.vgg16.VGG16(include_top=False, weights='imagenet',input_shape=(224,224,3), pooling=None)\n",
        "\n",
        "\n",
        "tf.compat.v1.keras.applications.NASNetLarge, tf.compat.v1.keras.applications.nasnet.NASNetLarge\n",
        "NsNet=tf.keras.applications.nasnet.NASNetLarge(\n",
        "    input_shape=(224,224,3),\n",
        "    include_top=False,\n",
        "    weights='imagenet',\n",
        "    pooling=None\n",
        ")\n",
        "# Freeze the layers so that they are not trained during model fitting. We want to keep the imagenet weights\n",
        "for layer in vgg16.layers:\n",
        "    layer.trainable=False\n",
        "for layer in NsNet.layers:\n",
        "    layer.trainable=False\n",
        "\n",
        "vggout=vgg16.layers[-1].output\n",
        "NsNetout=NsNet.layers[-1].output\n",
        "\n",
        "from keras.layers import concatenate\n",
        "from keras.layers import Concatenate\n",
        "insulvggnas=concatenate([vggout,NsNetout])\n",
        "\n",
        "#x=insulvggnas.layers[-2].output\n",
        "output_layer=Dense(2, activation='softmax')(insulvggnas)\n",
        "\n",
        "\n",
        "# Change the final dense layer to 1 node (sigmoid activation) for binary classification\n",
        "# could do 2 nodes and determine the probabilities of each class using SoftMax, but we used Sigmoid for our simple ConvNet\n",
        "#x = vgg16.layers[-2].output\n",
        "#output_layer = Dense(2, activation='softmax', name='predictions')(x)\n",
        "\n",
        "# Combine the output layer to the original model\n",
        "insulvggnasmodel = Model(inputs=[vgg16.input,NsNet.input], outputs=[vggout,NsNetout])\n",
        "\n",
        "\n",
        "# Compile the modified vgg model with the following hyperparameters (same as simple ConvNet)\n",
        "# In future try different learning rates for the adam 'adaptive moment estimation'\n",
        "insulvggnasmodel.compile(optimizer='adam', loss='categorical_crossentropy', metrics=['accuracy'])"
      ]
    },
    {
      "cell_type": "code",
      "execution_count": null,
      "metadata": {
        "id": "06oZlRMDPQRo"
      },
      "outputs": [],
      "source": [
        "insulvggNsNethistory = insulvggnasmodel.fit_generator(\n",
        "    train_data_gen,\n",
        "    steps_per_epoch=total_train // batch_size,\n",
        "    epochs=epochs\n",
        ")"
      ]
    },
    {
      "cell_type": "code",
      "execution_count": null,
      "metadata": {
        "id": "M1awd6o5S3Ay"
      },
      "outputs": [],
      "source": [
        "from tensorflow.keras.models import Model\n",
        "tf.compat.v1.keras.applications.densenet.DenseNet121\n",
        "tf.compat.v1.keras.applications.InceptionV3, tf.compat.v1.keras.applications.inception_v3.InceptionV3\n",
        "#inv3 = tf.keras.applications.inception_v3.InceptionV3(\n",
        "model1 =tf.keras.applications.densenet.DenseNet121(weights='imagenet', include_top=False, pooling='avg', input_shape=(224,224,3))\n",
        "out1 = model1.output\n",
        "\n",
        "model2 = tf.keras.applications.inception_v3.InceptionV3(weights='imagenet', include_top=False, pooling='avg', input_shape=(224,224,3))\n",
        "out2 = model2.output\n",
        "\n",
        "x = concatenate([out1, out2])  # merge the outputs of the two models\n",
        "out = Dense(1, activation='sigmoid')(x)  # final layer of the network\n",
        "\n",
        "model = Model(inputs=[model1.input, model2.input], outputs=[out])\n",
        "\n",
        "model.compile(optimizer=Adam(), loss='binary_crossentropy',metrics=['accuracy'])\n",
        "history = model.fit_generator(generator=train_data_gen,\n",
        "                          epochs=2,\n",
        "                          verbose=1\n",
        "                         )"
      ]
    },
    {
      "cell_type": "code",
      "execution_count": null,
      "metadata": {
        "id": "5ct_l4sm9ouB"
      },
      "outputs": [],
      "source": [
        "from tensorflow.keras.models import Model\n",
        "tf.compat.v1.keras.applications.NASNetLarge, tf.compat.v1.keras.applications.nasnet.NASNetLarge\n",
        "NsNet=tf.keras.applications.nasnet.NASNetLarge(\n",
        "    input_shape=None,\n",
        "    include_top=True,\n",
        "    weights='imagenet',\n",
        "    input_tensor=None,\n",
        "    pooling=None,\n",
        "    classes=1000,\n",
        ")\n",
        "\n",
        "# Freeze the layers so that they are not trained during model fitting. We want to keep the imagenet weights\n",
        "for layer in NsNet.layers:\n",
        "    layer.trainable=False\n",
        "\n",
        "# Change the final dense layer to 1 node (sigmoid activation) for binary classification\n",
        "# could do 2 nodes and determine the probabilities of each class using SoftMax, but we used Sigmoid for our simple ConvNet\n",
        "x = NsNet.layers[-2].output\n",
        "output_layer = Dense(1, activation='sigmoid', name='predictions')(x)\n",
        "\n",
        "# Combine the output layer to the original model\n",
        "insulNsNet= Model(inputs=NsNet.input, outputs=output_layer)\n",
        "\n",
        "# Sanity check: Print out the model summary. The final layer should have 1 neuron only (again, using sigmoid activation)\n",
        "#NsNet_categorical.summary()\n",
        "\n",
        "# Compile the modified vgg model with the following hyperparameters (same as simple ConvNet)\n",
        "# In future try different learning rates for the adam 'adaptive moment estimation'\n",
        "insulNsNet.compile(optimizer='adam', loss='binary_crossentropy', metrics=['accuracy'])\n",
        "insulNsNethistory = insulNsNet.fit_generator(\n",
        "    train_data_gen,\n",
        "    steps_per_epoch=total_train // batch_size,\n",
        "    epochs=epochs\n",
        ")\n"
      ]
    },
    {
      "cell_type": "markdown",
      "metadata": {
        "id": "PJaReimecgdE"
      },
      "source": [
        "# Comparison"
      ]
    },
    {
      "cell_type": "code",
      "execution_count": null,
      "metadata": {
        "id": "Fjz1ASP8cfKX"
      },
      "outputs": [],
      "source": [
        "LeNet={'loss': [2.357649803161621, 2.1520018577575684, 1.761558175086975, 1.4079748392105103, 1.07777738571167, 0.7705360651016235, 0.5861400365829468, 0.5421687364578247, 0.5472308397293091, 0.5441268086433411], 'accuracy': [0.7488788962364197, 0.7641255855560303, 0.768609881401062, 0.768161416053772, 0.7659192681312561, 0.7695067524909973, 0.768609881401062, 0.768161416053772, 0.7641255855560303, 0.7663677334785461]}\n",
        "AlexNet={'loss': [0.6599500179290771, 0.521018385887146, 0.3860208988189697, 0.3808761239051819, 0.30705955624580383, 0.27484095096588135, 0.26088446378707886, 0.2513766288757324, 0.22747142612934113, 0.21019969880580902], 'accuracy': [0.7452914714813232, 0.768161416053772, 0.7659192681312561, 0.7807174921035767, 0.8582959771156311, 0.8762331604957581, 0.8784753084182739, 0.8806423544883728, 0.9004484415054321, 0.907623291015625]}\n",
        "DenseNet={'loss': [0.6204864978790283, 0.3312571942806244, 0.2277112752199173, 0.17957808077335358, 0.15285855531692505, 0.13220150768756866, 0.11711861193180084, 0.10730637609958649, 0.09551747888326645, 0.09071829915046692], 'accuracy': [0.6717488765716553, 0.8645740151405334, 0.9224215149879456, 0.9399102926254272, 0.9502242207527161, 0.9605380892753601, 0.9690582752227783, 0.9757847785949707, 0.9784753322601318, 0.9811659455299377]}\n",
        "MobileNet={'loss': [0.8349427580833435, 0.15737304091453552, 0.09224594384431839, 0.07602222263813019, 0.05740322172641754, 0.04622592404484749, 0.03714926168322563, 0.03227797523140907, 0.026463044807314873, 0.023949244990944862], 'accuracy': [0.7654708623886108, 0.9354259967803955, 0.9636771082878113, 0.9713004231452942, 0.9793722033500671, 0.9807174801826477, 0.9847533702850342, 0.98699551820755, 0.9887892603874207, 0.9932735562324524]}\n",
        "NASNet={'loss': [0.25792622566223145, 0.11049675941467285, 0.07732132822275162, 0.06262647360563278, 0.053581852465867996, 0.04516118764877319, 0.03964455425739288, 0.03565702959895134, 0.032437462359666824, 0.030426446348428726], 'accuracy': [0.8798206448554993, 0.9547085165977478, 0.9721972942352295, 0.9807174801826477, 0.98699551820755, 0.9905829429626465, 0.9937219619750977, 0.9937219619750977, 0.994618833065033, 0.9941704273223877]}\n",
        "ResNet={'loss': [0.6616663932800293, 0.5466290712356567, 0.511279284954071, 0.495803564786911, 0.4770311415195465, 0.4641006588935852, 0.4514144957065582, 0.43811342120170593, 0.4290117025375366, 0.41747498512268066], 'accuracy': [0.6192824840545654, 0.7668161392211914, 0.7659192681312561, 0.7636771202087402, 0.7659192681312561, 0.7663677334785461, 0.7654708623886108, 0.768161416053772, 0.7663677334785461, 0.7668161392211914]}\n",
        "VGG16={'loss': [0.5912691354751587, 0.33000448346138, 0.23463036119937897, 0.1880883425474167, 0.16024301946163177, 0.14273326098918915, 0.12915459275245667, 0.11882024258375168, 0.11070197075605392, 0.1041283905506134], 'accuracy': [0.7443946003913879, 0.8551569581031799, 0.949775755405426, 0.9556053876876831, 0.9600896835327148, 0.9654708504676819, 0.9695067405700684, 0.9686098694801331, 0.9721972942352295, 0.9709201455116272]}\n",
        "VGG19={'loss': [0.49654385447502136, 0.3384019434452057, 0.2562764286994934, 0.2115834802389145, 0.18045896291732788, 0.16339513659477234, 0.15136156976222992, 0.1400531679391861, 0.1289660632610321, 0.11929923295974731, 0.11279996484518051, 0.1078762635588646, 0.10380789637565613, 0.09688179194927216, 0.09532999247312546], 'accuracy': [0.771338701248169, 0.8706199526786804, 0.9070081114768982, 0.9474393725395203, 0.9595687389373779, 0.962713360786438, 0.9586702585220337, 0.9654088020324707, 0.9690027236938477, 0.9734950661659241, 0.9739443063735962, 0.9766396880149841, 0.976190447807312, 0.9793351292610168, 0.982928991317749]}\n",
        "AlexRes={'loss': [3.597846269607544, 3.597846269607544, 3.597846031188965, 3.597846269607544, 3.597846269607544, 3.597846269607544, 3.597846031188965, 3.597846269607544, 3.597846031188965, 3.597846269607544], 'accuracy': [0.7667514681816101, 0.7667514681816101, 0.7667514681816101, 0.7667514681816101, 0.7667514681816101, 0.7667514681816101, 0.7667514681816101, 0.7667514681816101, 0.7667514681816101, 0.7667514681816101]}\n",
        "DNRes={'loss': [0.424124538898468, 0.367524117231369, 0.3204096555709839, 0.2931399345397949, 0.25830867886543274, 0.23804034292697906, 0.2269350290298462, 0.2132616639137268, 0.19750922918319702, 0.18264815211296082], 'accuracy': [0.8969465494155884, 0.9033079147338867, 0.9088210463523865, 0.91518235206604, 0.9215436577796936, 0.9257845878601074, 0.9304495453834534, 0.9346904158592224, 0.9376590251922607, 0.9431721568107605]}\n",
        "InceptionV3={'loss': [0.29014649987220764, 0.16582591831684113, 0.1268066167831421, 0.10320994257926941, 0.09173887223005295, 0.08098436146974564, 0.07192723453044891, 0.06532512605190277, 0.06040437892079353, 0.05744682624936104, 0.053570456802845, 0.04883663356304169, 0.04743532836437225, 0.04344864934682846, 0.04204297438263893], 'accuracy': [0.8643306493759155, 0.9290206432342529, 0.9550763964653015, 0.9649595618247986, 0.9741532802581787, 0.9748427867889404, 0.9806828498840332, 0.9806828498840332, 0.9842767119407654, 0.9842767119407654, 0.9847259521484375, 0.9874213933944702, 0.9878706336021423, 0.9905660152435303, 0.9914644956588745]}\n",
        "Xception={'loss': [0.3297242522239685, 0.16812002658843994, 0.12980608642101288, 0.10438494384288788, 0.09357361495494843, 0.084027498960495, 0.07451359927654266, 0.06680595129728317, 0.061776790767908096, 0.0558929443359375, 0.05206788331270218, 0.04982955753803253, 0.046152327209711075, 0.044602736830711365, 0.04158656671643257], 'accuracy': [0.8499550819396973, 0.9321653246879578, 0.9460916519165039, 0.9645103216171265, 0.9703503847122192, 0.9784366488456726, 0.979784369468689, 0.9847259521484375, 0.9874213933944702, 0.9892183542251587, 0.9905660152435303, 0.9910152554512024, 0.9928698539733887, 0.9923629760742188, 0.9941599369049072]}\n"
      ]
    },
    {
      "cell_type": "code",
      "execution_count": null,
      "metadata": {
        "id": "vYIPNmevdljT"
      },
      "outputs": [],
      "source": []
    },
    {
      "cell_type": "code",
      "execution_count": null,
      "metadata": {
        "colab": {
          "base_uri": "https://localhost:8080/",
          "height": 718
        },
        "id": "tAhHqnDa7rnF",
        "outputId": "99c677e1-94a6-4213-dab2-53281f616171"
      },
      "outputs": [
        {
          "data": {
            "image/png": "[encoded data removed]",
            "text/plain": [
              "<Figure size 800x800 with 1 Axes>"
            ]
          },
          "metadata": {},
          "output_type": "display_data"
        }
      ],
      "source": [
        "epochs_range = range(10)\n",
        "plt.figure(figsize=(8, 8))\n",
        "plt.plot(epochs_range, LeNet['accuracy'], label='LeNet')\n",
        "plt.plot(epochs_range, ResNet['accuracy'], label='ResNet')\n",
        "plt.plot(epochs_range, AlexNet['accuracy'], label='AlexNet')\n",
        "#plt.plot(epochs_range, Pmodelhist['accuracy'], label='ProposedNet')\n",
        "plt.plot(epochs_range, VGG19['accuracy'], label='VGG19')\n",
        "plt.plot(epochs_range, VGG16['accuracy'], label='VGG16')\n",
        "plt.plot(epochs_range, DenseNet['accuracy'], label='DenseNet')\n",
        "plt.plot(epochs_range, NASNet['accuracy'], label='NASNet')\n",
        "plt.plot(epochs_range, Xception['accuracy'], label='Xception')\n",
        "plt.plot(epochs_range, InceptionV3['accuracy'], label='InceptionV3')\n",
        "plt.plot(epochs_range, MobileNet['accuracy'], label='MobileNet')\n",
        "plt.legend(loc='lower right')\n",
        "plt.ylabel('Accuracy')\n",
        "plt.xlabel('Epochs')\n",
        "plt.title('Training Accuracy of Insulator Fault Detection')\n",
        "plt.show()"
      ]
    },
    {
      "cell_type": "code",
      "execution_count": null,
      "metadata": {
        "id": "uEGkljXEeVNL"
      },
      "outputs": [],
      "source": []
    },
    {
      "cell_type": "code",
      "execution_count": null,
      "metadata": {
        "colab": {
          "base_uri": "https://localhost:8080/",
          "height": 718
        },
        "id": "J5DNkd5c7-Nt",
        "outputId": "8eb6618a-4d97-40fa-dac4-18efa992b257"
      },
      "outputs": [
        {
          "data": {
            "image/png": "[encoded data removed]",
            "text/plain": [
              "<Figure size 800x800 with 1 Axes>"
            ]
          },
          "metadata": {},
          "output_type": "display_data"
        }
      ],
      "source": [
        "epochs_range = range(10)\n",
        "plt.figure(figsize=(8, 8))\n",
        "plt.plot(epochs_range, LeNet['loss'], label='LeNet')\n",
        "plt.plot(epochs_range, ResNet['loss'], label='ResNet')\n",
        "plt.plot(epochs_range, AlexNet['loss'], label='AlexNet')\n",
        "#plt.plot(epochs_range, Pmodelhist['loss'], label='ProposedNet')\n",
        "#plt.plot(epochs_range, VGG19hist['loss'], label='VGG19')\n",
        "plt.plot(epochs_range, VGG16['loss'], label='VGG16')\n",
        "plt.plot(epochs_range, DenseNet['loss'], label='DenseNet')\n",
        "plt.plot(epochs_range, NASNet['loss'], label='NASNet')\n",
        "#plt.plot(epochs_range, Xceptionhist['loss'], label='Xception')\n",
        "#plt.plot(epochs_range, Inceptionhist['loss'], label='Inception')\n",
        "plt.plot(epochs_range, MobileNet['loss'], label='MobileNet')\n",
        "plt.legend(loc='upper right')\n",
        "plt.ylabel('Loss')\n",
        "plt.xlabel('Epochs')\n",
        "plt.title('Training Loss of Insulator Fault Detection')\n",
        "plt.show()"
      ]
    },
    {
      "cell_type": "markdown",
      "metadata": {
        "id": "5TkAlucAQ6NG"
      },
      "source": [
        "# Model Output Comparison"
      ]
    },
    {
      "cell_type": "code",
      "source": [
        "LeNet={'loss': [2.357649803161621, 2.1520018577575684, 1.761558175086975, 1.4079748392105103, 1.07777738571167, 0.7705360651016235, 0.5861400365829468, 0.5421687364578247, 0.5472308397293091, 0.5441268086433411], 'accuracy': [0.7488788962364197, 0.7641255855560303, 0.768609881401062, 0.768161416053772, 0.7659192681312561, 0.7695067524909973, 0.768609881401062, 0.768161416053772, 0.7641255855560303, 0.7663677334785461]}\n",
        "epochs_range = range(10)\n",
        "plt.figure(figsize=(8, 8))\n",
        "plt.plot(epochs_range, LeNet['accuracy'], label='LeNet')\n",
        "plt.plot(epochs_range, LeNet['loss'], label='LeNet')\n",
        "plt.legend(loc='lower right')\n",
        "plt.ylabel('Accuracy')\n",
        "plt.xlabel('Epochs')\n",
        "plt.title('Training Accuracy of Insulator Fault Detection')\n",
        "plt.show()"
      ],
      "metadata": {
        "id": "J6_M-G5-0lMQ"
      },
      "execution_count": null,
      "outputs": []
    },
    {
      "cell_type": "code",
      "source": [
        "AlexNet={'loss': [0.6599500179290771, 0.521018385887146, 0.3860208988189697, 0.3808761239051819, 0.30705955624580383, 0.27484095096588135, 0.26088446378707886, 0.2513766288757324, 0.22747142612934113, 0.21019969880580902], 'accuracy': [0.7452914714813232, 0.768161416053772, 0.7659192681312561, 0.7807174921035767, 0.8582959771156311, 0.8762331604957581, 0.8784753084182739, 0.8806423544883728, 0.9004484415054321, 0.907623291015625]}\n"
      ],
      "metadata": {
        "id": "1ghsFPyo0kpc"
      },
      "execution_count": null,
      "outputs": []
    },
    {
      "cell_type": "code",
      "execution_count": null,
      "metadata": {
        "id": "YQJuv_mhQ-Dd"
      },
      "outputs": [],
      "source": [
        "LeNethist= {'loss': [3.6346 , 3.0901 , 2.9720 , 2.8891 , 2.8090 , 2.7405 , 2.6960 , 2.6469 , 2.5815 , 2.5131 ], 'accuracy': [0.0915 , 0.1194 , 0.0986 , 0.0770 , 0.0951 , 0.0915 , 0.0833 , 0.0927 , 0.0833 , 0.0857 ], 'val_loss': [2.9642 , 2.9022 , 3.0301 , 2.8034 , 2.7963 , 2.8516 , 2.5927 , 2.5112 , 2.6114 , 2.4706 ], 'val_accuracy': [0.0859, 0.0938, 0.0938, 0.1250, 0.0703, 0.1094, 0.1094, 0.1016, 0.0781, 0.1250]}\n",
        "\n",
        "ResNethist= {'loss': [2.5216     , 2.2896    ,2.2589   , 2.2066   , 2.1536     , 2.1239    , 2.0881   , 2.0488   , 2.0235  , 1.9965 ], 'accuracy': [0.0962    ,0.1115  , 0.1714    , 0.2230    , 0.2711    , 0.2359   , 0.3281   , 0.3873  , 0.4167    , 0.3592  ], 'val_loss': [2.2721   , 2.2669   , 2.2062   , 2.1722  , 2.1306  , 2.0811    , 2.0548    , 1.9966  , 1.9994    , 1.9851  ], 'val_accuracy': [0.1016, 0.1016, 0.2422, 0.2500, 0.2734, 0.3125, 0.3906, 0.4609, 0.3828, 0.3828]}\n",
        "\n",
        "AlexNethist= {'loss': [2.3472      , 2.2943     ,2.1779      , 2.2548   , 2.2108      , 2.1535     , 2.0373    , 1.9584     , 1.8394   , 1.7279 ], 'accuracy': [0.0939      ,0.1092    ,0.1561      , 0.1549      , 0.1514     ,0.1502   , 0.1948    , 0.2066   , 0.2793      , 0.3181   ], 'val_loss': [2.3074     , 2.2283    ,2.2492    , 2.1765     , 2.1369   , 2.0521     , 2.0000   , 1.8777   , 1.7550    , 1.5530    ], 'val_accuracy': [0.0547, 0.0938, 0.1562, 0.1562, 0.1641, 0.2188, 0.2109, 0.3203, 0.3438, 0.3906]}\n",
        "\n",
        "\n",
        "Pmodelhist={'loss': [7.047580718994141, 1.9934090375900269, 1.7212581634521484, 1.4130667448043823, 1.1845824718475342, 1.006230354309082, 0.8924443125724792, 0.7205039858818054, 0.6947044134140015, 0.5148845314979553], 'accuracy': [0.14319248497486115, 0.26995304226875305, 0.3791079819202423, 0.5046948194503784, 0.577464759349823, 0.6561033129692078, 0.6875, 0.7523474097251892, 0.7523474097251892, 0.827464759349823], 'val_loss': [2.142678737640381, 1.8811776638031006, 1.6231918334960938, 1.2113595008850098, 1.1121628284454346, 0.9766740798950195, 0.7449628114700317, 0.5522032380104065, 0.4607861042022705, 0.40604469180107117], 'val_accuracy': [0.125, 0.3359375, 0.609375, 0.6328125, 0.7109375, 0.7109375, 0.8203125, 0.875, 0.8984375, 0.890625]}\n",
        "\n",
        "VGG19hist= {'loss': [2.3648   , 1.6252  ,1.2427  , 0.9969   , 0.8308   , 0.7172   , 0.6392  , 0.5898  , 0.5672  , 0.5251   ], 'accuracy': [0.2277   ,0.4660 , 0.6538  , 0.7559   , 0.8239   , 0.8263   , 0.8521   , 0.8521  , 0.8545   , 0.8662  ], 'val_loss': [1.8062  , 1.4030  , 1.1252  , 0.9879 , 0.8072 , 0.7222  , 0.7010  , 0.6172 , 0.5475   , 0.5542  ], 'val_accuracy': [0.4219, 0.5625, 0.7500, 0.7344, 0.7969, 0.8281, 0.8047, 0.8594, 0.8516, 0.8203]}\n",
        "\n",
        "VGG16hist= {'loss': [2.5046  , 1.6729  , 1.2501 , 0.9719  , 0.7824  , 0.6831  , 0.6109  , 0.5865 , 0.5286 , 0.4804  ], 'accuracy': [0.1843  ,0.4190, 0.6362  , 0.7570  , 0.8228  , 0.8545  , 0.8674  , 0.8603  , 0.8817  , 0.8744  ], 'val_loss': [1.8546  , 1.4318  , 1.1182 , 0.8116  , 0.8265 , 0.6554 , 0.6339  , 0.5634 , 0.5244  , 0.5261 ], 'val_accuracy': [0.4531, 0.6016, 0.6172, 0.7891, 0.8125, 0.8359, 0.8672, 0.8594, 0.8359, 0.8672]}\n",
        "\n",
        "DenseNethist= {'loss': [2.5362331867218018, 1.5820480585098267, 1.0092664957046509, 0.6460946798324585, 0.4541071355342865, 0.3298524022102356, 0.2594795227050781, 0.2127697914838791, 0.1837950348854065, 0.16626138985157013], 'accuracy': [0.18896713852882385, 0.5152581930160522, 0.7354910969734192, 0.8626760840415955, 0.9178403615951538, 0.9518779516220093, 0.9589201807975769, 0.96875, 0.9718309640884399, 0.9741784334182739], 'val_loss': [1.8630614280700684, 1.251578688621521, 0.7721344828605652, 0.5132234692573547, 0.37242433428764343, 0.2937076687812805, 0.2768365144729614, 0.21677163243293762, 0.19681891798973083, 0.17403724789619446], 'val_accuracy': [0.359375, 0.6796875, 0.8203125, 0.9140625, 0.9453125, 0.9609375, 0.9453125, 0.9609375, 0.9609375, 0.953125]}\n",
        "\n",
        "\n",
        "NASNethist= {'loss': [1.9928      , 1.0935      ,0.5823     , 0.3321   , 0.2338     , 0.1740     , 0.1415    , 0.1151    , 0.1007    , 0.0959 ], 'accuracy': [0.3415     ,0.8292   , 0.9442     , 0.9742     , 0.9743     ,0.9824    , 0.9847   , 0.9877    , 0.9906      , 0.9883   ], 'val_loss': [1.4191    , 0.7355   ,0.4583    , 0.2707    , 0.1930   , 0.1293    , 0.1163    , 0.1363   , 0.1021   , 0.0923   ], 'val_accuracy': [0.6875, 0.9453, 0.9609, 0.9688, 0.9766, 0.9922, 0.9844, 0.9688, 0.9766, 0.9766]}\n",
        "Xceptionhist= {'loss': [1.9404    , 0.9052   ,0.4153  , 0.2253   , 0.1524    , 0.1218    , 0.0962   , 0.0829   , 0.0768  , 0.0695  ], 'accuracy': [0.4129    ,0.9331  , 0.9742   , 0.9754    , 0.9824    , 0.9777    , 0.9871   , 0.9894  , 0.9894    , 0.9918   ], 'val_loss': [1.2613   , 0.5666  , 0.2620  , 0.1665 , 0.1264  , 0.0975   , 0.0892   , 0.0820  , 0.0664   , 0.0705 ], 'val_accuracy': [0.9141, 0.9766, 0.9844, 0.9922, 0.9844, 1.0000, 1.0000, 1.0000, 1.0000, 1.0000]}\n",
        "\n",
        "\n",
        "Inceptionhist= {'loss': [1.8658     , 0.6724     ,0.2709    , 0.1596   , 0.1161    , 0.0921     , 0.0745   , 0.0650    , 0.0574   , 0.0486 ], 'accuracy': [0.3674    ,0.8697   , 0.9554     , 0.9671     , 0.9824    , 0.9859   , 0.9871   , 0.9918   , 0.9918     , 0.9977  ], 'val_loss': [0.9955    , 0.4141    ,0.1957    , 0.1450   , 0.0841   , 0.1019    , 0.0970     , 0.0628   , 0.0445    , 0.0495   ], 'val_accuracy': [0.7422, 0.9375, 0.9609, 0.9766, 0.9922, 0.9922, 0.9844, 0.9922, 0.9922, 1.0000]}\n",
        "\n",
        "ImageNethist = {'loss': [4.4570, 0.8340, 0.3350, 0.1927, 0.1455, 0.0844, 0.0698, 0.0486, 0.0344, 0.0243], 'accuracy': [0.2441, 0.7653, 0.9141, 0.9484, 0.9648, 0.9754, 0.9754, 0.9824, 0.9883, 0.9933], 'val_loss': [1.5293, 0.4070, 0.3038, 0.1139, 0.1249, 0.0908, 0.0456, 0.0425, 0.0128, 0.0299], 'val_accuracy': [0.5938, 0.9141, 0.9375, 0.9688, 0.9609, 0.9766, 0.9766, 0.9844, 1.0000, 0.9922]}\n",
        "\n",
        "\n"
      ]
    },
    {
      "cell_type": "code",
      "execution_count": null,
      "metadata": {
        "id": "JltU2gYQRK1V"
      },
      "outputs": [],
      "source": []
    },
    {
      "cell_type": "code",
      "source": [],
      "metadata": {
        "id": "1G7yx_qP0Sct"
      },
      "execution_count": null,
      "outputs": []
    },
    {
      "cell_type": "code",
      "execution_count": null,
      "metadata": {
        "colab": {
          "base_uri": "https://localhost:8080/",
          "height": 513
        },
        "id": "ehoOkGnjiByG",
        "outputId": "58bce3d9-dda7-4657-b7a3-698b71655ee3"
      },
      "outputs": [
        {
          "data": {
            "image/png": "[encoded data removed]",
            "text/plain": [
              "<Figure size 576x576 with 1 Axes>"
            ]
          },
          "metadata": {
            "tags": []
          },
          "output_type": "display_data"
        }
      ],
      "source": [
        "epochs_range = range(epochs)\n",
        "plt.figure(figsize=(8, 8))\n",
        "plt.plot(epochs_range, LeNethist['accuracy'], label='LeNet')\n",
        "plt.plot(epochs_range, ResNethist['accuracy'], label='ResNet')\n",
        "plt.plot(epochs_range, AlexNethist['accuracy'], label='AlexNet')\n",
        "plt.plot(epochs_range, Pmodelhist['accuracy'], label='ProposedNet')\n",
        "plt.plot(epochs_range, VGG19hist['accuracy'], label='VGG19')\n",
        "plt.plot(epochs_range, VGG16hist['accuracy'], label='VGG16')\n",
        "plt.plot(epochs_range, DenseNethist['accuracy'], label='DenseNet')\n",
        "plt.plot(epochs_range, NASNethist['accuracy'], label='NASNet')\n",
        "plt.plot(epochs_range, Xceptionhist['accuracy'], label='Xception')\n",
        "plt.plot(epochs_range, Inceptionhist['accuracy'], label='Inception')\n",
        "plt.plot(epochs_range, ImageNethist['accuracy'], label='ImageNet')\n",
        "plt.legend(loc='upper right')\n",
        "plt.ylabel('Accuracy')\n",
        "plt.xlabel('Epochs')\n",
        "plt.title('Training Accuracy')\n",
        "plt.show()"
      ]
    },
    {
      "cell_type": "code",
      "source": [
        "# Plot training loss\n",
        "import os\n",
        "import numpy as np\n",
        "import matplotlib.pyplot as plt\n",
        "vitinsul={'loss': [0.0941,0.0796,0.0268,0.0192,0.0115,0.0014,0.0009,0.0007,0.0006,0.0005],'accuracy': [0.9059,0.9204,0.9732,0.9808,0.9885,0.9986,0.9991,0.9993,0.9994,0.9995]}\n",
        "epochs_range = range(10)\n",
        "plt.figure(figsize=(8,8))\n",
        "plt.plot(epochs_range, vitinsul['accuracy'], label='ViT Accuracy')\n",
        "plt.title('Training Accuracy', fontsize=14)\n",
        "plt.xlabel('Epoch', fontsize=12)\n",
        "plt.ylabel('Accuracy', fontsize=12)\n",
        "plt.legend(loc=\"upper left\")\n",
        "plt.grid()\n",
        "plt.show()"
      ],
      "metadata": {
        "colab": {
          "base_uri": "https://localhost:8080/",
          "height": 723
        },
        "id": "H6Fz0rrbF6EA",
        "outputId": "30633f60-5250-4442-a9fd-a451f3a7a396"
      },
      "execution_count": null,
      "outputs": [
        {
          "output_type": "display_data",
          "data": {
            "text/plain": [
              "<Figure size 800x800 with 1 Axes>"
            ],
            "image/png": "[encoded data removed]"
          },
          "metadata": {}
        }
      ]
    },
    {
      "cell_type": "code",
      "source": [
        "epochs_range = range(10)\n",
        "plt.figure(figsize=(8,8))\n",
        "plt.plot(epochs_range, vitinsul['loss'], label='ViT Loss',color='red')\n",
        "plt.title('Training Loss', fontsize=14)\n",
        "plt.xlabel('Epoch', fontsize=12)\n",
        "plt.ylabel('Loss', fontsize=12)\n",
        "plt.legend(loc=\"upper left\")\n",
        "plt.grid()\n",
        "plt.show()"
      ],
      "metadata": {
        "colab": {
          "base_uri": "https://localhost:8080/",
          "height": 723
        },
        "id": "9hfF_ARsF5-Z",
        "outputId": "2ef4cd84-8e42-434a-8988-398585949fdc"
      },
      "execution_count": null,
      "outputs": [
        {
          "output_type": "display_data",
          "data": {
            "text/plain": [
              "<Figure size 800x800 with 1 Axes>"
            ],
            "image/png": "[encoded data removed]"
          },
          "metadata": {}
        }
      ]
    }
  ],
  "metadata": {
    "accelerator": "GPU",
    "colab": {
      "provenance": []
    },
    "kernelspec": {
      "display_name": "Python 3",
      "name": "python3"
    },
    "language_info": {
      "name": "python"
    }
  },
  "nbformat": 4,
  "nbformat_minor": 0
}